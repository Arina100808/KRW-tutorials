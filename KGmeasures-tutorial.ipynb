{
 "cells": [
  {
   "cell_type": "markdown",
   "metadata": {},
   "source": [
    "# KG measures and clustering tutorial"
   ]
  },
  {
   "cell_type": "markdown",
   "metadata": {},
   "source": [
    "First, make sure you have networkx installed, here you can find the [documentation](https://networkx.org/documentation/stable/reference/index.html)."
   ]
  },
  {
   "cell_type": "code",
   "execution_count": 54,
   "metadata": {},
   "outputs": [],
   "source": [
    "## Uncomment if you do not have networkx installed (you should have it installed from the RDFS tutorial)\n",
    "#import sys\n",
    "#!{sys.executable} -m pip install networkx\n",
    "\n",
    "import pandas as pd\n",
    "import rdflib\n",
    "# from rdflib import Graph, Literal, Namespace, RDF, URIRef, OWL\n",
    "from rdflib.namespace import DC, FOAF\n",
    "\n",
    "import networkx as nx\n",
    "from owlready2 import *"
   ]
  },
  {
   "cell_type": "markdown",
   "metadata": {},
   "source": [
    "In this tutorial, we will focus on how to characterize an ontology or knowledge graph.\n",
    "\n",
    "Load the ontology, which you have previously created in the OWL tutorial (load the asserted owl file)."
   ]
  },
  {
   "cell_type": "code",
   "execution_count": 2,
   "metadata": {},
   "outputs": [
    {
     "data": {
      "text/plain": [
       "<Graph identifier=N7d2a2a8de3c14be78cecde8685b384ea (<class 'rdflib.graph.Graph'>)>"
      ]
     },
     "execution_count": 2,
     "metadata": {},
     "output_type": "execute_result"
    }
   ],
   "source": [
    "ontology = Graph()\n",
    "ontology.parse(\"data/my_music_ontology_inferred.owl\")"
   ]
  },
  {
   "cell_type": "markdown",
   "metadata": {},
   "source": [
    "## 1. Basic (ontology) measures"
   ]
  },
  {
   "cell_type": "markdown",
   "metadata": {},
   "source": [
    "Let's first focus on calculating basic measures:\n",
    "* number of classes\n",
    "* number of properties\n",
    "* number of individuals\n",
    "* number of triples\n",
    "* number of entities (classes, individuals, etc. anything that can be places in the subject possition in a triple/axiom)\n",
    "\n",
    "We start by counting the number of classes in the ontology. This can be done using a SPARQL query. We want to get the unique classes used in the ontology. \n",
    "\n",
    "PREFIX owl: <http://www.w3.org/2002/07/owl#> \n",
    "SELECT DISTINCT ?s \n",
    "WHERE { ?s rdf:type owl:Class. FILTER isURI(?s) }')\n",
    "\n",
    "This query gives as all the classes that also have a definition in the ontology. However, this does not have to equal the number of classes actually used by individuals. Hence, you need to be very specific about what the number you are retriving represents."
   ]
  },
  {
   "cell_type": "code",
   "execution_count": 14,
   "metadata": {},
   "outputs": [
    {
     "name": "stdout",
     "output_type": "stream",
     "text": [
      "Number of classes: 9\n",
      "(rdflib.term.URIRef('http://test.org/myonto.owl#Person'),)\n",
      "(rdflib.term.URIRef('http://test.org/myonto.owl#Artist'),)\n",
      "(rdflib.term.URIRef('http://test.org/myonto.owl#Location'),)\n",
      "(rdflib.term.URIRef('http://test.org/myonto.owl#Song'),)\n",
      "(rdflib.term.URIRef('http://test.org/myonto.owl#Genre'),)\n",
      "(rdflib.term.URIRef('http://test.org/myonto.owl#Member'),)\n",
      "(rdflib.term.URIRef('http://test.org/myonto.owl#SoloArtist'),)\n",
      "(rdflib.term.URIRef('http://test.org/myonto.owl#SubGenre'),)\n",
      "(rdflib.term.URIRef('http://test.org/myonto.owl#CollaboratingArtist'),)\n"
     ]
    }
   ],
   "source": [
    "answer = list(ontology.query(\n",
    "    'PREFIX owl: <http://www.w3.org/2002/07/owl#> SELECT DISTINCT ?s WHERE { ?s rdf:type owl:Class. FILTER isURI(?s) }'\n",
    "))\n",
    "print(\"Number of classes: {f}\".format(f=len(answer)))\n",
    "for r in answer:\n",
    "    print(r)\n"
   ]
  },
  {
   "cell_type": "markdown",
   "metadata": {},
   "source": [
    "Even though we used a query, a lot of this information can also be retrieved with owlready2. For example, the number of classes can be retrieved with the function onto.classes(). It returns all classes in the ontology. We try it below."
   ]
  },
  {
   "cell_type": "code",
   "execution_count": 19,
   "metadata": {},
   "outputs": [
    {
     "name": "stdout",
     "output_type": "stream",
     "text": [
      "Number of classes: 9\n",
      "my_music_ontology_inferred.Artist\n",
      "my_music_ontology_inferred.Song\n",
      "my_music_ontology_inferred.Location\n",
      "my_music_ontology_inferred.Genre\n",
      "my_music_ontology_inferred.Person\n",
      "my_music_ontology_inferred.Member\n",
      "my_music_ontology_inferred.SoloArtist\n",
      "my_music_ontology_inferred.SubGenre\n",
      "my_music_ontology_inferred.CollaboratingArtist\n"
     ]
    }
   ],
   "source": [
    "onto_file = \"data/my_music_ontology_inferred.owl\"\n",
    "or_ontology = get_ontology(onto_file).load()\n",
    "answer = list(or_ontology.classes())\n",
    "\n",
    "print(\"Number of classes: {f}\".format(f=len(answer)))\n",
    "for r in answer:\n",
    "    print(r)"
   ]
  },
  {
   "cell_type": "code",
   "execution_count": 40,
   "metadata": {},
   "outputs": [
    {
     "name": "stdout",
     "output_type": "stream",
     "text": [
      "13\n"
     ]
    }
   ],
   "source": [
    "ind = list(or_ontology.individuals())\n",
    "print(len(ind))"
   ]
  },
  {
   "cell_type": "markdown",
   "metadata": {},
   "source": [
    "### Exercise 1\n",
    "\n",
    "Get the following metrics from your ontology, using queries and check your answer using owlready2 functions.\n",
    "\n",
    "* number of properties\n",
    "* number of individuals\n",
    "* number of triples\n",
    "* number of entities (classes, individuals, etc. anything that can be places in the subject possition in a triple/axiom)"
   ]
  },
  {
   "cell_type": "code",
   "execution_count": null,
   "metadata": {},
   "outputs": [],
   "source": [
    "### your code here."
   ]
  },
  {
   "cell_type": "markdown",
   "metadata": {},
   "source": [
    "## 2. Converting KGs into Gs"
   ]
  },
  {
   "cell_type": "markdown",
   "metadata": {},
   "source": [
    "To make use of graph measure, we need to convert our ontology into a mathematical graph networkx.\n",
    "\n",
    "\n",
    "We first need to remove all the logics before we can do the conversion.\n",
    "We are interested in keeping the following things:\n",
    "* individual\n",
    "* classes\n",
    "* relationships between individuals and classes\n",
    "\n",
    "What we need to remove is:\n",
    "* restrictions\n",
    "* domain/range\n",
    "* property definitions\n",
    "\n",
    "There is two ways for us to do it: we can either remove the information from the existing graph, or create a new graph using only the information we are interested in. Depending on the size and complexity of your knowledge graph, one way will be more preferrable than the other. You also need to consider if you want to keep the inferred information in your graph after conversion or not. Here, we want to keep the inferred information, but that is depended on the task you will then execute (for link prediction, you probably want the uninferred ontology and use the inferred information as a test set)\n",
    "\n",
    "rdflib comes with a function that lets us convert a rdflib graph into an networkx graph."
   ]
  },
  {
   "cell_type": "code",
   "execution_count": 38,
   "metadata": {},
   "outputs": [
    {
     "data": {
      "text/plain": [
       "[rdflib.term.URIRef('http://test.org/myonto.owl#SubGenre'),\n",
       " rdflib.term.URIRef('http://www.w3.org/2002/07/owl#Class'),\n",
       " rdflib.term.URIRef('http://test.org/myonto.owl#birthDate'),\n",
       " rdflib.term.URIRef('http://www.w3.org/2002/07/owl#DatatypeProperty'),\n",
       " rdflib.term.URIRef('http://test.org/myonto.owl#Edinburgh'),\n",
       " rdflib.term.URIRef('http://test.org/myonto.owl#Artist'),\n",
       " rdflib.term.URIRef('http://test.org/myonto.owl#Scotland'),\n",
       " rdflib.term.URIRef('http://www.w3.org/2002/07/owl#Thing'),\n",
       " rdflib.term.BNode('Nd01b0451ef7246229aaa9e0e358c8935'),\n",
       " rdflib.term.URIRef('http://test.org/myonto.owl#collaboratesWith'),\n",
       " rdflib.term.URIRef('http://test.org/myonto.owl#Location'),\n",
       " rdflib.term.BNode('Na5f34ba4389e46719398450e0a094684'),\n",
       " rdflib.term.URIRef('http://www.w3.org/2002/07/owl#Restriction'),\n",
       " rdflib.term.URIRef('http://test.org/myonto.owl#massive_attack'),\n",
       " rdflib.term.URIRef('http://test.org/myonto.owl#CollaboratingArtist'),\n",
       " rdflib.term.BNode('Nafd73ef509c44f7e8336bab7c42afc1b'),\n",
       " rdflib.term.URIRef('http://test.org/myonto.owl#releaseDate'),\n",
       " rdflib.term.URIRef('http://test.org/myonto.owl#Song'),\n",
       " rdflib.term.BNode('N2ceb88c6ea474e599c02adb29f478f93'),\n",
       " rdflib.term.BNode('N1d51b58a52544577b3b3f63e602f42f5'),\n",
       " rdflib.term.BNode('Ncb8270b63f784e4692c07f186b63cee2'),\n",
       " rdflib.term.URIRef('http://test.org/myonto.owl#name'),\n",
       " rdflib.term.URIRef('http://www.w3.org/2002/07/owl#FunctionalProperty'),\n",
       " rdflib.term.URIRef('http://test.org/myonto.owl#United_Kingdom'),\n",
       " rdflib.term.URIRef('http://test.org/myonto.owl#isFanOf'),\n",
       " rdflib.term.URIRef('http://test.org/myonto.owl#hasFan'),\n",
       " rdflib.term.URIRef('http://test.org/myonto.owl#bandMember'),\n",
       " rdflib.term.URIRef('http://test.org/myonto.owl#tricky'),\n",
       " rdflib.term.URIRef('http://www.w3.org/2002/07/owl#NamedIndividual'),\n",
       " rdflib.term.URIRef('http://test.org/myonto.owl#height'),\n",
       " rdflib.term.URIRef('http://www.w3.org/2001/XMLSchema#integer'),\n",
       " rdflib.term.BNode('N04fa249f7c4447c98aebf18382969afd'),\n",
       " rdflib.term.BNode('N1228ae0374ed4ac2bda19ff959e6068f'),\n",
       " rdflib.term.URIRef('http://test.org/myonto.owl#SoloArtist'),\n",
       " rdflib.term.BNode('Nf0a56ffc2ffb44018e8f3e091bde74c5'),\n",
       " rdflib.term.URIRef('http://test.org/myonto.owl#locatedIn'),\n",
       " rdflib.term.URIRef('http://test.org/myonto.owl#Person'),\n",
       " rdflib.term.URIRef('http://test.org/myonto.owl#authorOf'),\n",
       " rdflib.term.URIRef('http://www.w3.org/1999/02/22-rdf-syntax-ns#nil'),\n",
       " rdflib.term.URIRef('http://test.org/myonto.owl#experimentalRock'),\n",
       " rdflib.term.URIRef('http://www.w3.org/2001/XMLSchema#string'),\n",
       " rdflib.term.URIRef('http://test.org/myonto.owl#Member'),\n",
       " rdflib.term.Literal('1', datatype=rdflib.term.URIRef('http://www.w3.org/2001/XMLSchema#nonNegativeInteger')),\n",
       " rdflib.term.URIRef('http://test.org/myonto.owl#hasGenre'),\n",
       " rdflib.term.URIRef('http://test.org/myonto.owl#Genre'),\n",
       " rdflib.term.BNode('N9ac6b27de43b4c9fbfd4ce16e46213f6'),\n",
       " rdflib.term.BNode('N75e35a70349948868591db689060ad49'),\n",
       " rdflib.term.URIRef('http://test.org/myonto.owl#writtenBy'),\n",
       " rdflib.term.URIRef('http://test.org/myonto.owl#followers'),\n",
       " rdflib.term.BNode('N32e73c44ff024c01b121d5868f428b62'),\n",
       " rdflib.term.URIRef('http://test.org/myonto.owl#rock'),\n",
       " rdflib.term.URIRef('http://test.org/myonto.owl#pop'),\n",
       " rdflib.term.BNode('Nacd0ec78afea48d18cf2bcd96a8d6e13'),\n",
       " rdflib.term.BNode('Nee53e475b5ef485da0d3e6fbd9b4e31b'),\n",
       " rdflib.term.URIRef('http://test.org/myonto.owl#Space'),\n",
       " rdflib.term.BNode('N257c89d52abe4541b92217eb5e0114c9'),\n",
       " rdflib.term.BNode('N963243bc53e740e5a09445b3ed934579'),\n",
       " rdflib.term.URIRef('http://test.org/myonto.owl#biffy_clyro'),\n",
       " rdflib.term.URIRef('http://test.org/myonto.owl#triphop'),\n",
       " rdflib.term.BNode('N973c4fba0cc842478e93256f95e9eda6'),\n",
       " rdflib.term.URIRef('http://test.org/myonto.owl#ilaria'),\n",
       " rdflib.term.Literal('19-03-1997', datatype=rdflib.term.URIRef('http://www.w3.org/2001/XMLSchema#string')),\n",
       " rdflib.term.URIRef('http://test.org/myonto.owl#lise'),\n",
       " rdflib.term.BNode('N4a80f65a562c423fafe4225269bcb8eb'),\n",
       " rdflib.term.BNode('N0eab7320905d49378c617b9ad50f51a8'),\n",
       " rdflib.term.URIRef('http://www.w3.org/2002/07/owl#ObjectProperty'),\n",
       " rdflib.term.URIRef('http://www.w3.org/2002/07/owl#TransitiveProperty'),\n",
       " rdflib.term.Literal('172', datatype=rdflib.term.URIRef('http://www.w3.org/2001/XMLSchema#integer')),\n",
       " rdflib.term.URIRef('http://test.org/myonto.owl'),\n",
       " rdflib.term.URIRef('http://www.w3.org/2002/07/owl#Ontology'),\n",
       " rdflib.term.URIRef('http://www.w3.org/2002/07/owl#SymmetricProperty'),\n",
       " rdflib.term.URIRef('http://www.w3.org/2002/07/owl#AllDifferent')]"
      ]
     },
     "execution_count": 38,
     "metadata": {},
     "output_type": "execute_result"
    }
   ],
   "source": [
    "from rdflib.extras.external_graph_libs import rdflib_to_networkx_digraph\n",
    "nx_graph = rdflib_to_networkx_digraph(ontology)\n",
    "\n",
    "list(nx_graph.nodes())"
   ]
  },
  {
   "cell_type": "markdown",
   "metadata": {},
   "source": [
    "As we can see, there are some blank nodes which were convered into the graph that are not very useful for us at this stage. To analyse the graph as a mathematical graph, we don't want the class restrictions or property range and domain definision in our graph, as we are not doing any reasoning anymore.\n",
    "\n",
    "Often times, it is easier to create a new graph than removeing already modeled information from the graph. Instead of continuing with the ontology, we will create a graph from the metadata provided in 'data/musicoset_metadata', but will adhere to the ontology from before (use the property and class names,etc.)"
   ]
  },
  {
   "cell_type": "code",
   "execution_count": 67,
   "metadata": {},
   "outputs": [
    {
     "name": "stdout",
     "output_type": "stream",
     "text": [
      "Index(['album_id', 'name', 'billboard', 'artists', 'popularity',\n",
      "       'total_tracks', 'album_type', 'image_url'],\n",
      "      dtype='object')\n",
      "Index(['artist_id', 'name', 'followers', 'popularity', 'artist_type',\n",
      "       'main_genre', 'genres', 'image_url'],\n",
      "      dtype='object')\n",
      "Index(['song_id', 'song_name', 'billboard', 'artists', 'popularity',\n",
      "       'explicit', 'song_type'],\n",
      "      dtype='object')\n",
      "Index(['song_id', 'album_id', 'track_number', 'release_date',\n",
      "       'release_date_precision'],\n",
      "      dtype='object')\n"
     ]
    }
   ],
   "source": [
    "csv_albums =  pd.read_csv('data/musicoset_metadata/albums.csv',sep='\\t')\n",
    "print(csv_albums.columns)\n",
    "csv_artists =  pd.read_csv('data/musicoset_metadata/artists.csv',sep='\\t')\n",
    "print(csv_artists.columns)\n",
    "csv_songs =  pd.read_csv('data/musicoset_metadata/songs.csv',sep='\\t')\n",
    "print(csv_songs.columns)\n",
    "csv_tracks =  pd.read_csv('data/musicoset_metadata/tracks.csv',sep='\\t')\n",
    "print(csv_tracks.columns)"
   ]
  },
  {
   "cell_type": "code",
   "execution_count": 60,
   "metadata": {},
   "outputs": [
    {
     "data": {
      "text/plain": [
       "[rdflib.term.URIRef('http://test.org/myonto.owl#SoloArtist'),\n",
       " rdflib.term.URIRef('http://www.w3.org/2002/07/owl#Class'),\n",
       " rdflib.term.URIRef('http://test.org/myonto.owl#SubGenre'),\n",
       " rdflib.term.URIRef('http://test.org/myonto.owl#Member'),\n",
       " rdflib.term.URIRef('http://test.org/myonto.owl#followers'),\n",
       " rdflib.term.URIRef('http://www.w3.org/2002/07/owl#DatatypeProperty'),\n",
       " rdflib.term.URIRef('http://test.org/myonto.owl#bandMember'),\n",
       " rdflib.term.URIRef('http://www.w3.org/2002/07/owl#ObjectProperty'),\n",
       " rdflib.term.URIRef('http://test.org/myonto.owl#Genre'),\n",
       " rdflib.term.URIRef('http://test.org/myonto.owl#Person'),\n",
       " rdflib.term.URIRef('http://test.org/myonto.owl#CollaboratingArtist'),\n",
       " rdflib.term.URIRef('http://test.org/myonto.owl#Location'),\n",
       " rdflib.term.URIRef('http://test.org/myonto.owl#releaseDate'),\n",
       " rdflib.term.URIRef('http://test.org/myonto.owl#Artist'),\n",
       " rdflib.term.URIRef('http://test.org/myonto.owl#collaboratesWith'),\n",
       " rdflib.term.URIRef('http://www.w3.org/2002/07/owl#Thing'),\n",
       " rdflib.term.URIRef('http://test.org/myonto.owl#locatedIn'),\n",
       " rdflib.term.URIRef('http://test.org/myonto.owl#authorOf'),\n",
       " rdflib.term.URIRef('http://test.org/myonto.owl#Song'),\n",
       " rdflib.term.URIRef('http://test.org/myonto.owl#hasFan'),\n",
       " rdflib.term.URIRef('http://test.org/myonto.owl#hasGenre'),\n",
       " rdflib.term.URIRef('http://test.org/myonto.owl'),\n",
       " rdflib.term.URIRef('http://www.w3.org/2002/07/owl#Ontology'),\n",
       " rdflib.term.URIRef('http://test.org/myonto.owl#name')]"
      ]
     },
     "execution_count": 60,
     "metadata": {},
     "output_type": "execute_result"
    }
   ],
   "source": [
    "# We have prepared a simplified ontology to use in this tutorial\n",
    "# This ontology doesn't have any restrictions or domain/range definitions\n",
    "# this is to avoid blank nodes when converting to networx\n",
    "music_onto = rdflib.Graph()\n",
    "music_onto.parse(\"data/music_onto_simple.rdf\")\n",
    "\n",
    "nx_music = rdflib_to_networkx_digraph(music_onto)\n",
    "list(nx_music.nodes())"
   ]
  },
  {
   "cell_type": "markdown",
   "metadata": {},
   "source": [
    "This ontology no longer produces any blank nodes. So we can now populate it with the metadata loaded from the CSV."
   ]
  },
  {
   "cell_type": "code",
   "execution_count": 68,
   "metadata": {},
   "outputs": [
    {
     "name": "stdout",
     "output_type": "stream",
     "text": [
      "(0, artist_id                                 66CXWjxzNUsdJxJ2JdwvnR\n",
      "name                                               Ariana Grande\n",
      "followers                                               34554242\n",
      "popularity                                                    96\n",
      "artist_type                                               singer\n",
      "main_genre                                             dance pop\n",
      "genres                     ['dance pop', 'pop', 'post-teen pop']\n",
      "image_url      https://i.scdn.co/image/b1dfbe843b0b9f54ab2e58...\n",
      "Name: 0, dtype: object)\n"
     ]
    }
   ],
   "source": [
    "music_onto.parse(\"data/music_onto_simple.rdf\")\n",
    "\n",
    "EX = rdflib.Namespace(\"http://test.org/myonto.owl#\")\n",
    "from rdflib import OWL\n",
    "\n",
    "for artist in csv_artists.iterrows():\n",
    "    print(artist)\n",
    "    music_onto.add()\n",
    "    \n",
    "    break\n"
   ]
  },
  {
   "cell_type": "markdown",
   "metadata": {},
   "source": [
    "conversion to networkx"
   ]
  },
  {
   "cell_type": "code",
   "execution_count": null,
   "metadata": {},
   "outputs": [],
   "source": []
  },
  {
   "cell_type": "markdown",
   "metadata": {},
   "source": [
    "### Exercise 2\n",
    "\n",
    "* Convert your knowledge graph or ontology into a networkx graph. \n",
    "* Write a function that checks for blank nodes in your networkx graph."
   ]
  },
  {
   "cell_type": "markdown",
   "metadata": {},
   "source": [
    "## 3. Graph Measures\n",
    "\n",
    "Now we can calculate some graph measures over the networkX graph. The library provides a lot of different measures that can be calculated. Always check what kind of assumptions the measure has:\n",
    "* directed or undirected graph?\n",
    "* does the graph have to be connected?\n",
    "\n",
    "We will first calculate some basic graph measures: number of nodes, number of edges and the density of the graph."
   ]
  },
  {
   "cell_type": "code",
   "execution_count": null,
   "metadata": {},
   "outputs": [],
   "source": []
  },
  {
   "cell_type": "markdown",
   "metadata": {},
   "source": [
    "We will now look at the distribution of degree of our nodes by calculating (retrieving) the degree for each not and plotting a histogram.\n",
    "Additionally, we also want to know the averge degree centrality of our graph and put it in the title of our histogram."
   ]
  },
  {
   "cell_type": "code",
   "execution_count": null,
   "metadata": {},
   "outputs": [],
   "source": []
  },
  {
   "cell_type": "markdown",
   "metadata": {},
   "source": [
    "Another very useful measure is the clustering coefficient, which tells us how likely the nodes are to build clusters. This is a global measure."
   ]
  },
  {
   "cell_type": "code",
   "execution_count": null,
   "metadata": {},
   "outputs": [],
   "source": []
  },
  {
   "cell_type": "markdown",
   "metadata": {},
   "source": [
    "### Exercise 3\n",
    "\n",
    "Calculate and visualise the centrality of the music graph. Use a different measure than degree. For different measures you can refer to this online [documentation]{https://networkx.org/documentation/stable/reference/algorithms/centrality.html}. Choose wisely though, some measures require a long time to calculate (like betweenness or eigenvector centrality).\n",
    "\n",
    "As a second step, take some time to explore the documentation of networkx. Is there something other you can calculate and learn about the graph?"
   ]
  },
  {
   "cell_type": "code",
   "execution_count": null,
   "metadata": {},
   "outputs": [],
   "source": [
    "### your code here"
   ]
  },
  {
   "cell_type": "markdown",
   "metadata": {},
   "source": [
    "## 4. Clustering\n",
    "\n",
    "NetworkX already comes with some clustering algorithms. We will try the one introduced in the theory part of the class, Louvain clustering algorithm."
   ]
  },
  {
   "cell_type": "code",
   "execution_count": null,
   "metadata": {},
   "outputs": [],
   "source": []
  }
 ],
 "metadata": {
  "kernelspec": {
   "display_name": "Python [conda env:root] *",
   "language": "python",
   "name": "conda-root-py"
  },
  "language_info": {
   "codemirror_mode": {
    "name": "ipython",
    "version": 3
   },
   "file_extension": ".py",
   "mimetype": "text/x-python",
   "name": "python",
   "nbconvert_exporter": "python",
   "pygments_lexer": "ipython3",
   "version": "3.9.12"
  }
 },
 "nbformat": 4,
 "nbformat_minor": 2
}
