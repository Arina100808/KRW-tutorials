{
 "cells": [
  {
   "cell_type": "markdown",
   "metadata": {},
   "source": [
    "Import libraries"
   ]
  },
  {
   "cell_type": "code",
   "execution_count": 1,
   "metadata": {},
   "outputs": [],
   "source": [
    "# you need to install pykeen beforehand, see https://pykeen.readthedocs.io/en/stable/installation.html \n",
    "import os\n",
    "import numpy as np\n",
    "import pandas as pd\n",
    "import pykeen\n",
    "import seaborn"
   ]
  },
  {
   "cell_type": "markdown",
   "metadata": {},
   "source": [
    "# 1. Dataset exploration\n"
   ]
  },
  {
   "cell_type": "markdown",
   "metadata": {},
   "source": [
    "PyKeen comes with its own datasets that can be used directly in a pipeline.\n",
    "Below we import it so that we can explore it later."
   ]
  },
  {
   "cell_type": "code",
   "execution_count": 2,
   "metadata": {},
   "outputs": [
    {
     "name": "stderr",
     "output_type": "stream",
     "text": [
      "/Users/arina/.pyenv/versions/3.10.13/envs/krwvenv/lib/python3.10/site-packages/tqdm/auto.py:21: TqdmWarning: IProgress not found. Please update jupyter and ipywidgets. See https://ipywidgets.readthedocs.io/en/stable/user_install.html\n",
      "  from .autonotebook import tqdm as notebook_tqdm\n"
     ]
    }
   ],
   "source": [
    "from pykeen.datasets import Nations"
   ]
  },
  {
   "cell_type": "markdown",
   "metadata": {},
   "source": [
    "However, we want to be able tfo work with our own datasets as well, so we etch the online GoT dataset as well."
   ]
  },
  {
   "cell_type": "code",
   "execution_count": 3,
   "metadata": {},
   "outputs": [
    {
     "name": "stderr",
     "output_type": "stream",
     "text": [
      "Reconstructing all label-based triples. This is expensive and rarely needed.\n"
     ]
    },
    {
     "data": {
      "text/plain": [
       "array([['Abelar Hightower', 'ALLIED_WITH',\n",
       "        'House Hightower of the Hightower'],\n",
       "       ['Acorn Hall', 'SEAT_OF', 'House Smallwood of Acorn Hall'],\n",
       "       ['Addam Frey', 'ALLIED_WITH', 'House Frey of the Crossing'],\n",
       "       ['Addam Marbrand', 'ALLIED_WITH', 'House Marbrand of Ashemark'],\n",
       "       ['Addam Osgrey', 'ALLIED_WITH', 'House Osgrey of Standfast']],\n",
       "      dtype='<U44')"
      ]
     },
     "execution_count": 3,
     "metadata": {},
     "output_type": "execute_result"
    }
   ],
   "source": [
    "import requests\n",
    "from pykeen import triples\n",
    "\n",
    "url = 'https://ampligraph.s3-eu-west-1.amazonaws.com/datasets/GoT.csv'\n",
    "open('GoT.csv', 'wb').write(requests.get(url).content)\n",
    "\n",
    "# Format that can be read by a pd.from_csv should also be able to be read here, but the delimiter needs to be adjusted\n",
    "# PyKEEN uses tabs as defaults\n",
    "got = triples.TriplesFactory.from_path('GoT.csv', load_triples_kwargs=dict(delimiter=','))\n",
    "got_triples = got.triples\n",
    "got_triples[:5,]"
   ]
  },
  {
   "cell_type": "markdown",
   "metadata": {},
   "source": [
    "### Exercise 1\n",
    "\n",
    "List the unique subject and object entities found in the dataset. Then list all of the relationships that link the entities (note that some entities are not linked). Create an RDF version of the dataset, using your own namespaces, and save is as a ttl file. \n",
    "\n",
    "Using SPARQL, answer the following questions : \n",
    "1. How many instances per class? Use ORDER BY to show the most popular class\n",
    "2. What is the most common relation per each class?"
   ]
  },
  {
   "cell_type": "code",
   "execution_count": 4,
   "metadata": {},
   "outputs": [],
   "source": [
    "df = pd.DataFrame(got_triples)\n",
    "subjects = df.iloc[:, 0]\n",
    "properties = df.iloc[:, 1]\n",
    "objects = df.iloc[:, 2]"
   ]
  },
  {
   "cell_type": "code",
   "execution_count": 5,
   "metadata": {},
   "outputs": [
    {
     "data": {
      "text/html": [
       "<div>\n",
       "<style scoped>\n",
       "    .dataframe tbody tr th:only-of-type {\n",
       "        vertical-align: middle;\n",
       "    }\n",
       "\n",
       "    .dataframe tbody tr th {\n",
       "        vertical-align: top;\n",
       "    }\n",
       "\n",
       "    .dataframe thead th {\n",
       "        text-align: right;\n",
       "    }\n",
       "</style>\n",
       "<table border=\"1\" class=\"dataframe\">\n",
       "  <thead>\n",
       "    <tr style=\"text-align: right;\">\n",
       "      <th></th>\n",
       "      <th>0</th>\n",
       "      <th>1</th>\n",
       "      <th>2</th>\n",
       "    </tr>\n",
       "  </thead>\n",
       "  <tbody>\n",
       "    <tr>\n",
       "      <th>0</th>\n",
       "      <td>Abelar Hightower</td>\n",
       "      <td>ALLIED_WITH</td>\n",
       "      <td>House Hightower of the Hightower</td>\n",
       "    </tr>\n",
       "    <tr>\n",
       "      <th>1</th>\n",
       "      <td>Acorn Hall</td>\n",
       "      <td>SEAT_OF</td>\n",
       "      <td>House Smallwood of Acorn Hall</td>\n",
       "    </tr>\n",
       "    <tr>\n",
       "      <th>2</th>\n",
       "      <td>Addam Frey</td>\n",
       "      <td>ALLIED_WITH</td>\n",
       "      <td>House Frey of the Crossing</td>\n",
       "    </tr>\n",
       "    <tr>\n",
       "      <th>3</th>\n",
       "      <td>Addam Marbrand</td>\n",
       "      <td>ALLIED_WITH</td>\n",
       "      <td>House Marbrand of Ashemark</td>\n",
       "    </tr>\n",
       "    <tr>\n",
       "      <th>4</th>\n",
       "      <td>Addam Osgrey</td>\n",
       "      <td>ALLIED_WITH</td>\n",
       "      <td>House Osgrey of Standfast</td>\n",
       "    </tr>\n",
       "    <tr>\n",
       "      <th>...</th>\n",
       "      <td>...</td>\n",
       "      <td>...</td>\n",
       "      <td>...</td>\n",
       "    </tr>\n",
       "    <tr>\n",
       "      <th>3170</th>\n",
       "      <td>formerly Whitewalls</td>\n",
       "      <td>SEAT_OF</td>\n",
       "      <td>House Butterwell</td>\n",
       "    </tr>\n",
       "    <tr>\n",
       "      <th>3171</th>\n",
       "      <td>northern mountains</td>\n",
       "      <td>SEAT_OF</td>\n",
       "      <td>House Flint  of the mountains</td>\n",
       "    </tr>\n",
       "    <tr>\n",
       "      <th>3172</th>\n",
       "      <td>the Antlers</td>\n",
       "      <td>SEAT_OF</td>\n",
       "      <td>House Buckwell of the Antlers</td>\n",
       "    </tr>\n",
       "    <tr>\n",
       "      <th>3173</th>\n",
       "      <td>the Paps</td>\n",
       "      <td>SEAT_OF</td>\n",
       "      <td>House Elesham of the Paps</td>\n",
       "    </tr>\n",
       "    <tr>\n",
       "      <th>3174</th>\n",
       "      <td>unnamed tower</td>\n",
       "      <td>SEAT_OF</td>\n",
       "      <td>House Baelish of the Fingers</td>\n",
       "    </tr>\n",
       "  </tbody>\n",
       "</table>\n",
       "<p>3175 rows × 3 columns</p>\n",
       "</div>"
      ],
      "text/plain": [
       "                        0            1                                 2\n",
       "0        Abelar Hightower  ALLIED_WITH  House Hightower of the Hightower\n",
       "1              Acorn Hall      SEAT_OF     House Smallwood of Acorn Hall\n",
       "2              Addam Frey  ALLIED_WITH        House Frey of the Crossing\n",
       "3          Addam Marbrand  ALLIED_WITH        House Marbrand of Ashemark\n",
       "4            Addam Osgrey  ALLIED_WITH         House Osgrey of Standfast\n",
       "...                   ...          ...                               ...\n",
       "3170  formerly Whitewalls      SEAT_OF                  House Butterwell\n",
       "3171   northern mountains      SEAT_OF     House Flint  of the mountains\n",
       "3172          the Antlers      SEAT_OF     House Buckwell of the Antlers\n",
       "3173             the Paps      SEAT_OF         House Elesham of the Paps\n",
       "3174        unnamed tower      SEAT_OF      House Baelish of the Fingers\n",
       "\n",
       "[3175 rows x 3 columns]"
      ]
     },
     "execution_count": 5,
     "metadata": {},
     "output_type": "execute_result"
    }
   ],
   "source": [
    "df"
   ]
  },
  {
   "cell_type": "code",
   "execution_count": 6,
   "metadata": {},
   "outputs": [
    {
     "name": "stdout",
     "output_type": "stream",
     "text": [
      "2006 subjects:\n",
      "['Abelar Hightower' 'Acorn Hall' 'Addam Frey' ... 'the Antlers' 'the Paps'\n",
      " 'unnamed tower']\n",
      "10 properties:\n",
      "['ALLIED_WITH' 'SEAT_OF' 'PARENT_OF' 'SPOUSE' 'HEIR_TO' 'IN_REGION'\n",
      " 'SWORN_TO' 'LED_BY' 'BRANCH_OF' 'FOUNDED_BY']\n",
      "745 objects:\n",
      "['House Hightower of the Hightower' 'House Smallwood of Acorn Hall'\n",
      " 'House Frey of the Crossing' 'House Marbrand of Ashemark'\n",
      " 'House Osgrey of Standfast']\n"
     ]
    }
   ],
   "source": [
    "print(f\"{len(subjects.unique())} subjects:\\n{subjects.unique()}\")\n",
    "print(f\"{len(properties.unique())} properties:\\n{properties.unique()}\")\n",
    "print(f\"{len(objects.unique())} objects:\\n{objects.unique()[:5]}\")"
   ]
  },
  {
   "cell_type": "code",
   "execution_count": 7,
   "metadata": {},
   "outputs": [],
   "source": [
    "from rdflib import Graph, RDFS, RDF, URIRef, Namespace, Literal\n",
    "\n",
    "urisubjects = [URIRef(f\"http://example.org/got/{i.replace(' ', '_')}\") for i in subjects]\n",
    "uriproperties = [URIRef(f\"http://example.org/got/{i.replace(' ', '_')}\") for i in properties]\n",
    "uriobjects = [URIRef(f\"http://example.org/got/{i.replace(' ', '_')}\") for i in objects]"
   ]
  },
  {
   "cell_type": "code",
   "execution_count": 8,
   "metadata": {},
   "outputs": [],
   "source": [
    "graph = Graph()\n",
    "GOT = Namespace(\"http://example.org/got/\")"
   ]
  },
  {
   "cell_type": "code",
   "execution_count": 9,
   "metadata": {},
   "outputs": [],
   "source": [
    "for s, p, o in zip(urisubjects, uriproperties, uriobjects):\n",
    "    graph.add((s, p, o))"
   ]
  },
  {
   "cell_type": "code",
   "execution_count": 10,
   "metadata": {},
   "outputs": [
    {
     "data": {
      "text/plain": [
       "<Graph identifier=N5a4369f8cba74c5e8488072791371386 (<class 'rdflib.graph.Graph'>)>"
      ]
     },
     "execution_count": 10,
     "metadata": {},
     "output_type": "execute_result"
    }
   ],
   "source": [
    "graph.serialize(destination=\"data/got.ttl\") "
   ]
  },
  {
   "cell_type": "code",
   "execution_count": 11,
   "metadata": {},
   "outputs": [
    {
     "name": "stdout",
     "output_type": "stream",
     "text": [
      "3175\n"
     ]
    }
   ],
   "source": [
    "count = 0\n",
    "for s, p, o in graph.triples((None, None, None)):\n",
    "    count += 1\n",
    "print(count)"
   ]
  },
  {
   "cell_type": "code",
   "execution_count": 57,
   "metadata": {},
   "outputs": [
    {
     "name": "stdout",
     "output_type": "stream",
     "text": [
      "(rdflib.term.URIRef('http://example.org/got/Walder_Frey'), rdflib.term.Literal('10', datatype=rdflib.term.URIRef('http://www.w3.org/2001/XMLSchema#integer')))\n",
      "\n",
      "(rdflib.term.URIRef('http://example.org/got/Harrenhal'), rdflib.term.Literal('7', datatype=rdflib.term.URIRef('http://www.w3.org/2001/XMLSchema#integer')))\n",
      "\n",
      "(rdflib.term.URIRef('http://example.org/got/Alyssa_Velaryon'), rdflib.term.Literal('6', datatype=rdflib.term.URIRef('http://www.w3.org/2001/XMLSchema#integer')))\n",
      "\n",
      "(rdflib.term.URIRef('http://example.org/got/Rohanne_Webber'), rdflib.term.Literal('6', datatype=rdflib.term.URIRef('http://www.w3.org/2001/XMLSchema#integer')))\n",
      "\n",
      "(rdflib.term.URIRef('http://example.org/got/House_Frey_of_Riverrun'), rdflib.term.Literal('5', datatype=rdflib.term.URIRef('http://www.w3.org/2001/XMLSchema#integer')))\n",
      "\n"
     ]
    }
   ],
   "source": [
    "q1 = graph.query(\"\"\"select ?subj (count(?subj) AS ?count) where {?subj ?pred ?obj}\n",
    "                 group by ?subj order by desc(?count)\"\"\", initNs={'ns1': 'http://example.org/got/' })\n",
    "for i in list(q1)[:5]:\n",
    "    print(f\"{i}\\n\")"
   ]
  },
  {
   "cell_type": "code",
   "execution_count": 13,
   "metadata": {},
   "outputs": [
    {
     "name": "stdout",
     "output_type": "stream",
     "text": [
      "(rdflib.term.URIRef('http://example.org/got/ALLIED_WITH'), rdflib.term.Literal('1517', datatype=rdflib.term.URIRef('http://www.w3.org/2001/XMLSchema#integer')))\n",
      "\n",
      "(rdflib.term.URIRef('http://example.org/got/IN_REGION'), rdflib.term.Literal('437', datatype=rdflib.term.URIRef('http://www.w3.org/2001/XMLSchema#integer')))\n",
      "\n",
      "(rdflib.term.URIRef('http://example.org/got/SWORN_TO'), rdflib.term.Literal('397', datatype=rdflib.term.URIRef('http://www.w3.org/2001/XMLSchema#integer')))\n",
      "\n",
      "(rdflib.term.URIRef('http://example.org/got/SEAT_OF'), rdflib.term.Literal('243', datatype=rdflib.term.URIRef('http://www.w3.org/2001/XMLSchema#integer')))\n",
      "\n",
      "(rdflib.term.URIRef('http://example.org/got/SPOUSE'), rdflib.term.Literal('198', datatype=rdflib.term.URIRef('http://www.w3.org/2001/XMLSchema#integer')))\n",
      "\n",
      "(rdflib.term.URIRef('http://example.org/got/LED_BY'), rdflib.term.Literal('179', datatype=rdflib.term.URIRef('http://www.w3.org/2001/XMLSchema#integer')))\n",
      "\n",
      "(rdflib.term.URIRef('http://example.org/got/PARENT_OF'), rdflib.term.Literal('60', datatype=rdflib.term.URIRef('http://www.w3.org/2001/XMLSchema#integer')))\n",
      "\n",
      "(rdflib.term.URIRef('http://example.org/got/HEIR_TO'), rdflib.term.Literal('59', datatype=rdflib.term.URIRef('http://www.w3.org/2001/XMLSchema#integer')))\n",
      "\n",
      "(rdflib.term.URIRef('http://example.org/got/FOUNDED_BY'), rdflib.term.Literal('43', datatype=rdflib.term.URIRef('http://www.w3.org/2001/XMLSchema#integer')))\n",
      "\n",
      "(rdflib.term.URIRef('http://example.org/got/BRANCH_OF'), rdflib.term.Literal('42', datatype=rdflib.term.URIRef('http://www.w3.org/2001/XMLSchema#integer')))\n",
      "\n"
     ]
    }
   ],
   "source": [
    "q2 = graph.query(\"\"\"select distinct ?pred (count(?pred) AS ?count) where { ?s ?pred ?obj}\n",
    "                 group by ?pred order by desc(?count)\"\"\", initNs={'ns1': 'http://example.org/got/' })\n",
    "for i in list(q2):\n",
    "    print(f\"{i}\\n\")"
   ]
  },
  {
   "cell_type": "markdown",
   "metadata": {},
   "source": [
    "# 2. Defining train and test datasets\n"
   ]
  },
  {
   "cell_type": "markdown",
   "metadata": {},
   "source": [
    "As is typical in machine learning, we need to split our dataset into training and test (and sometimes validation) datasets.\n",
    "\n",
    "What differs from the standard method of randomly sampling N points to make up our test set, is that our data points are two entities linked by some relationship, and we need to take care to ensure that all entities are represented in train and test sets by at least one triple.\n",
    "\n",
    "To accomplish this, PyKEEN provides the <b>pykeen.triples.TriplesFactory.split()</b> function, which defaults to an 80/20 split. It is also by default stratified, to ensure that the distribution of the test set corresponds to that of the training set. If you want to use early stopping, you will also need a validation set. The function takes a list of percentages as argument: if you want a 95/5 split you give it <b>[0.95,0.05]</b> as argument, if you want 90/5/5 (which would include a validation set as well) you give it <b>[0.9,0.05,0.05]</b> as argument and it will return 3 datasets.\n",
    "\n",
    "For sake of example, we will create a small test size that includes only 5% of triples. "
   ]
  },
  {
   "cell_type": "code",
   "execution_count": 14,
   "metadata": {},
   "outputs": [
    {
     "name": "stderr",
     "output_type": "stream",
     "text": [
      "Reconstructing all label-based triples. This is expensive and rarely needed.\n",
      "Reconstructing all label-based triples. This is expensive and rarely needed.\n"
     ]
    },
    {
     "name": "stdout",
     "output_type": "stream",
     "text": [
      "Train set size:  (3016, 3)\n",
      "Test set size:  (159, 3)\n"
     ]
    }
   ],
   "source": [
    "# got_training, got_testing = got.split()\n",
    "got_training, got_testing = got.split([0.95, 0.05], random_state=0)\n",
    "\n",
    "print('Train set size: ', got_training.triples.shape)\n",
    "print('Test set size: ', got_testing.triples.shape)"
   ]
  },
  {
   "cell_type": "markdown",
   "metadata": {},
   "source": [
    "### Exercise 2\n",
    "\n",
    "Create three train-test sets of different sizes from the GoT data. Give them different names. Make sure the test set is not too big when compared to the training set (test set should be max 15% of the total dataset)."
   ]
  },
  {
   "cell_type": "code",
   "execution_count": 15,
   "metadata": {},
   "outputs": [
    {
     "name": "stderr",
     "output_type": "stream",
     "text": [
      "Reconstructing all label-based triples. This is expensive and rarely needed.\n",
      "Reconstructing all label-based triples. This is expensive and rarely needed.\n",
      "Reconstructing all label-based triples. This is expensive and rarely needed.\n",
      "Reconstructing all label-based triples. This is expensive and rarely needed.\n",
      "Reconstructing all label-based triples. This is expensive and rarely needed.\n",
      "Reconstructing all label-based triples. This is expensive and rarely needed.\n"
     ]
    },
    {
     "name": "stdout",
     "output_type": "stream",
     "text": [
      "1\n",
      "Train set size:  (2794, 3)\n",
      "Test set size:  (381, 3)\n",
      "2\n",
      "Train set size:  (2857, 3)\n",
      "Test set size:  (318, 3)\n",
      "3\n",
      "Train set size:  (2921, 3)\n",
      "Test set size:  (254, 3)\n"
     ]
    }
   ],
   "source": [
    "got_training1, got_testing1 = got.split([0.88, 0.12], random_state=0)\n",
    "print(\"1\")\n",
    "print('Train set size: ', got_training1.triples.shape)\n",
    "print('Test set size: ', got_testing1.triples.shape)\n",
    "got_training2, got_testing2 = got.split([0.9, 0.1], random_state=0)\n",
    "print(\"2\")\n",
    "print('Train set size: ', got_training2.triples.shape)\n",
    "print('Test set size: ', got_testing2.triples.shape)\n",
    "got_training3, got_testing3 = got.split([0.92, 0.08], random_state=0)\n",
    "print(\"3\")\n",
    "print('Train set size: ', got_training3.triples.shape)\n",
    "print('Test set size: ', got_testing3.triples.shape)"
   ]
  },
  {
   "cell_type": "markdown",
   "metadata": {},
   "source": [
    "# 3. Training and testing the model"
   ]
  },
  {
   "cell_type": "markdown",
   "metadata": {},
   "source": [
    "PyKEEN has implemented several Knoweldge Graph Embedding models (TransE, ComplEx, DistMult, HolE, etc.). We will use the ComplEx model with default values for this tutorial.\n",
    "\n",
    "You can find the list of all implemented models in the documentation: https://pykeen.readthedocs.io/en/stable/reference/models.html"
   ]
  },
  {
   "cell_type": "markdown",
   "metadata": {},
   "source": [
    "Importing a model and instantiate it:\n",
    "There are two ways to import and use a model, both are shown below and don't give different results but not importing the model before hand might cause the automatic importing to be slower, especially if you plan to use the same model multiple times."
   ]
  },
  {
   "cell_type": "code",
   "execution_count": 16,
   "metadata": {},
   "outputs": [
    {
     "name": "stderr",
     "output_type": "stream",
     "text": [
      "No cuda devices were available. The model runs on CPU\n",
      "Training epochs on cpu:   0%|                          | 0/5 [00:00<?, ?epoch/s]\n",
      "Training batches on cpu:   0%|                        | 0/12 [00:00<?, ?batch/s]\u001b[A\n",
      "Training batches on cpu:  83%|████████████▌  | 10/12 [00:00<00:00, 97.01batch/s]\u001b[A\n",
      "Training epochs on cpu:  20%|▏| 1/5 [00:00<00:00,  4.36epoch/s, loss=17.2, prev_\u001b[A\n",
      "Training batches on cpu:   0%|                        | 0/12 [00:00<?, ?batch/s]\u001b[A\n",
      "Training batches on cpu:  92%|████████████▊ | 11/12 [00:00<00:00, 103.99batch/s]\u001b[A\n",
      "Training epochs on cpu:  40%|▍| 2/5 [00:00<00:00,  4.59epoch/s, loss=16.8, prev_\u001b[A\n",
      "Training batches on cpu:   0%|                        | 0/12 [00:00<?, ?batch/s]\u001b[A\n",
      "Training batches on cpu:  92%|████████████▊ | 11/12 [00:00<00:00, 108.60batch/s]\u001b[A\n",
      "Training epochs on cpu:  60%|▌| 3/5 [00:00<00:00,  4.73epoch/s, loss=15.9, prev_\u001b[A\n",
      "Training batches on cpu:   0%|                        | 0/12 [00:00<?, ?batch/s]\u001b[A\n",
      "Training batches on cpu:  92%|████████████▊ | 11/12 [00:00<00:00, 109.76batch/s]\u001b[A\n",
      "Training epochs on cpu:  80%|▊| 4/5 [00:00<00:00,  4.85epoch/s, loss=15.4, prev_\u001b[A\n",
      "Training batches on cpu:   0%|                        | 0/12 [00:00<?, ?batch/s]\u001b[A\n",
      "Training batches on cpu:  92%|████████████▊ | 11/12 [00:00<00:00, 109.62batch/s]\u001b[A\n",
      "Training epochs on cpu: 100%|█| 5/5 [00:01<00:00,  4.79epoch/s, loss=14.6, prev_\u001b[A\n",
      "INFO:pykeen.evaluation.evaluator:Currently automatic memory optimization only supports GPUs, but you're using a CPU. Therefore, the batch_size will be set to the default value.\n",
      "INFO:pykeen.evaluation.evaluator:No evaluation batch_size provided. Setting batch_size to '32'.\n",
      "Evaluating on cpu: 100%|████████████████████| 159/159 [00:00<00:00, 692triple/s]\n",
      "INFO:pykeen.evaluation.evaluator:Evaluation took 0.24s seconds\n"
     ]
    },
    {
     "data": {
      "text/plain": [
       "<Axes: title={'center': 'Losses Plot'}, xlabel='Epoch', ylabel='marginranking Loss'>"
      ]
     },
     "execution_count": 16,
     "metadata": {},
     "output_type": "execute_result"
    },
    {
     "data": {
      "image/png": "[encoded data removed]",
      "text/plain": [
       "<Figure size 640x480 with 1 Axes>"
      ]
     },
     "metadata": {},
     "output_type": "display_data"
    }
   ],
   "source": [
    "# wee need the pipeline to run a model, so it is simpler to import it directly.\n",
    "# Pykeen lets you train a model with the minimal amount of custom parameters\n",
    "from pykeen.pipeline import pipeline\n",
    "\n",
    "# here we don't import the model, but let PyKEEN do the importing.\n",
    "pipeline_result_simple = pipeline(\n",
    "    random_seed=0,\n",
    "    model='ComplEx',\n",
    "    training=got_training,\n",
    "    testing=got_testing,\n",
    ")\n",
    "pipeline_result_simple.plot_losses()"
   ]
  },
  {
   "cell_type": "code",
   "execution_count": 17,
   "metadata": {},
   "outputs": [
    {
     "name": "stderr",
     "output_type": "stream",
     "text": [
      "WARNING:pykeen.utils:No cuda devices were available. The model runs on CPU\n",
      "INFO:pykeen.pipeline.api:Using device: None\n",
      "Training epochs on cpu:   0%|                          | 0/5 [00:00<?, ?epoch/s]\n",
      "Training batches on cpu:   0%|                        | 0/12 [00:00<?, ?batch/s]\u001b[A\n",
      "Training batches on cpu: 100%|██████████████| 12/12 [00:00<00:00, 110.79batch/s]\u001b[A\n",
      "Training epochs on cpu:  20%|▏| 1/5 [00:00<00:00,  4.97epoch/s, loss=17.2, prev_\u001b[A\n",
      "Training batches on cpu:   0%|                        | 0/12 [00:00<?, ?batch/s]\u001b[A\n",
      "Training batches on cpu: 100%|██████████████| 12/12 [00:00<00:00, 113.74batch/s]\u001b[A\n",
      "Training epochs on cpu:  40%|▍| 2/5 [00:00<00:00,  5.09epoch/s, loss=16.8, prev_\u001b[A\n",
      "Training batches on cpu:   0%|                        | 0/12 [00:00<?, ?batch/s]\u001b[A\n",
      "Training batches on cpu:  92%|████████████▊ | 11/12 [00:00<00:00, 105.92batch/s]\u001b[A\n",
      "Training epochs on cpu:  60%|▌| 3/5 [00:00<00:00,  4.93epoch/s, loss=15.9, prev_\u001b[A\n",
      "Training batches on cpu:   0%|                        | 0/12 [00:00<?, ?batch/s]\u001b[A\n",
      "Training batches on cpu: 100%|██████████████| 12/12 [00:00<00:00, 114.16batch/s]\u001b[A\n",
      "Training epochs on cpu:  80%|▊| 4/5 [00:00<00:00,  4.99epoch/s, loss=15.4, prev_\u001b[A\n",
      "Training batches on cpu:   0%|                        | 0/12 [00:00<?, ?batch/s]\u001b[A\n",
      "Training batches on cpu:  92%|████████████▊ | 11/12 [00:00<00:00, 107.35batch/s]\u001b[A\n",
      "Training epochs on cpu: 100%|█| 5/5 [00:01<00:00,  4.95epoch/s, loss=14.6, prev_\u001b[A\n",
      "INFO:pykeen.evaluation.evaluator:Currently automatic memory optimization only supports GPUs, but you're using a CPU. Therefore, the batch_size will be set to the default value.\n",
      "INFO:pykeen.evaluation.evaluator:No evaluation batch_size provided. Setting batch_size to '32'.\n",
      "Evaluating on cpu: 100%|████████████████████| 159/159 [00:00<00:00, 681triple/s]\n",
      "INFO:pykeen.evaluation.evaluator:Evaluation took 0.24s seconds\n"
     ]
    },
    {
     "data": {
      "text/plain": [
       "<Axes: title={'center': 'Losses Plot'}, xlabel='Epoch', ylabel='marginranking Loss'>"
      ]
     },
     "execution_count": 17,
     "metadata": {},
     "output_type": "execute_result"
    },
    {
     "data": {
      "image/png": "[encoded data removed]",
      "text/plain": [
       "<Figure size 640x480 with 1 Axes>"
      ]
     },
     "metadata": {},
     "output_type": "display_data"
    }
   ],
   "source": [
    "# here we import the model and use it directly.\n",
    "from pykeen.models import ComplEx\n",
    "\n",
    "pipeline_result_imported = pipeline(\n",
    "    random_seed=0,\n",
    "    model=ComplEx,\n",
    "    training=got_training,\n",
    "    testing=got_testing,\n",
    ")\n",
    "pipeline_result_imported.plot_losses()"
   ]
  },
  {
   "cell_type": "markdown",
   "metadata": {},
   "source": [
    "You can retrieve different metrics from the results. Here we retrieve the mean reciprocal rank (MRR). The result is the same for both the simple and imported model, because we used the same random seed (0)."
   ]
  },
  {
   "cell_type": "code",
   "execution_count": 18,
   "metadata": {},
   "outputs": [
    {
     "name": "stdout",
     "output_type": "stream",
     "text": [
      "0.002994442824274301\n",
      "0.002994442824274301\n"
     ]
    }
   ],
   "source": [
    "print(pipeline_result_imported.get_metric('mrr'))\n",
    "print(pipeline_result_simple.get_metric('mrr'))"
   ]
  },
  {
   "cell_type": "code",
   "execution_count": null,
   "metadata": {},
   "outputs": [],
   "source": [
    "# but to get a better performing model, you want to set different things\n",
    "pipeline_result = pipeline(\n",
    "    random_seed=0,\n",
    "    model='ComplEx',\n",
    "    training=got_training,\n",
    "    testing=got_testing,\n",
    "    epochs=200,\n",
    "    dimensions=150,\n",
    "    optimizer='adam',\n",
    "    optimizer_kwargs={'lr':1e-3},\n",
    "    loss='pairwisehinge', \n",
    "    regularizer='LP', \n",
    "    regularizer_kwargs={'p':3, 'weight':1e-5}, \n",
    ")"
   ]
  },
  {
   "cell_type": "code",
   "execution_count": 20,
   "metadata": {},
   "outputs": [
    {
     "name": "stdout",
     "output_type": "stream",
     "text": [
      "0.0042846654541790485\n"
     ]
    }
   ],
   "source": [
    "print(pipeline_result.get_metric('mrr'))"
   ]
  },
  {
   "cell_type": "markdown",
   "metadata": {},
   "source": [
    "Understanding the parameters:\n",
    "\n",
    "- dimensions : the dimensionality of the embedding space\n",
    "- negative_sampler : the negative samplic strategy, here set to default (not used in arguments).\n",
    "- batch_size : the number of batches in which the training set is split during the training loop. If you are having into low memory issues than settings this to a higher number may help.\n",
    "- epochs : the number of epochs to train the model for.\n",
    "- optimizer : the Adam optimizer, with a learning rate of $1e-3$ set via the <i>optimizer_kwarg</i>.\n",
    "- loss : pairwise loss, with a margin of $0.5$ set via the <i>loss_kwarg</i>.\n",
    "- regularizer :  regularization with $p=2$, i.e. $l_2$ regularization. $\\lambda$ = $1e-5$, set via the <i>regularizer_kwarg</i>."
   ]
  },
  {
   "cell_type": "markdown",
   "metadata": {},
   "source": [
    "### Filtering Negatives\n",
    "\n",
    "To ensure our model can be trained and evaluated correctly, we need to define a filter to ensure that no negative statements generated by the corruption procedure are actually positives. This is simply done by concatenating train and test sets. When negative triples are generated by the corruption strategy, we can check that they aren't actually true statements.\n",
    "\n",
    "With PyKEEN this is made very easy, and can simply be passed as an argument."
   ]
  },
  {
   "cell_type": "code",
   "execution_count": null,
   "metadata": {},
   "outputs": [],
   "source": [
    "pipeline_result = pipeline(\n",
    "    model='ComplEx',\n",
    "    training=got_training,\n",
    "    testing=got_testing,\n",
    "    epochs=200,\n",
    "    dimensions=150,\n",
    "    optimizer='adam',\n",
    "    optimizer_kwargs={'lr':1e-3},\n",
    "    loss='pairwisehinge', \n",
    "    regularizer='LP', \n",
    "    regularizer_kwargs={'p':3, 'weight':1e-5}, \n",
    "    \n",
    "    negative_sampler='basic',\n",
    "    negative_sampler_kwargs=dict(\n",
    "        filtered=True,\n",
    "    )\n",
    ")"
   ]
  },
  {
   "cell_type": "code",
   "execution_count": 22,
   "metadata": {},
   "outputs": [
    {
     "name": "stdout",
     "output_type": "stream",
     "text": [
      "0.004578010179102421\n"
     ]
    }
   ],
   "source": [
    "print(pipeline_result.get_metric('mrr'))"
   ]
  },
  {
   "cell_type": "markdown",
   "metadata": {},
   "source": [
    "To save your learned model and also the results, we need to add checkpoints to the pipeline.\n",
    "By adding training kwargs to the pipeline, the model will be automatically saved. By default, it saves the model after every epoch (checkpoint_frequency=0). You can also set the directory to which the models are saved, but by default they will end up in ~/.data/pykeen/checkpoints."
   ]
  },
  {
   "cell_type": "code",
   "execution_count": null,
   "metadata": {},
   "outputs": [],
   "source": [
    "pipeline_result = pipeline(\n",
    "    model='ComplEx',\n",
    "    training=got_training,\n",
    "    testing=got_testing,\n",
    "    training_kwargs=dict(\n",
    "        num_epochs=200,\n",
    "        checkpoint_name='got_complex_checkpoint.pt',\n",
    "        checkpoint_directory='checkpoint_dir/',\n",
    "        checkpoint_frequency=20,\n",
    "    ),\n",
    "    dimensions=150,\n",
    "    optimizer='adam',\n",
    "    optimizer_kwargs={'lr':1e-3},\n",
    "    loss='pairwisehinge', \n",
    "    regularizer='LP', \n",
    "    regularizer_kwargs={'p':3, 'weight':1e-5}, \n",
    "    negative_sampler='basic',\n",
    "    negative_sampler_kwargs=dict(\n",
    "        filtered=True,\n",
    "    )\n",
    ")"
   ]
  },
  {
   "cell_type": "markdown",
   "metadata": {},
   "source": [
    "There is another way to save models, but for that we need to do the training and evaluating outside of the pipeline model. Below is an example of the above model training outside of the pipeline module."
   ]
  },
  {
   "cell_type": "code",
   "execution_count": null,
   "metadata": {},
   "outputs": [],
   "source": [
    "from pykeen.models import ComplEx\n",
    "model = ComplEx(triples_factory=got_training)\n",
    "\n",
    "from pykeen.optimizers import Adam\n",
    "optimizer = Adam(params=model.get_grad_params())\n",
    "\n",
    "# from pykeen.regularizers import LP\n",
    "# regularizer = LP(p=3,weight=1e-5)\n",
    "\n",
    "from pykeen.training import SLCWATrainingLoop\n",
    "training_loop = SLCWATrainingLoop(model=model,\n",
    "                                  triples_factory=got_training,\n",
    "                                  optimizer=optimizer)\n",
    "\n",
    "#training\n",
    "_ = training_loop.train(triples_factory=got_training,\n",
    "                    num_epochs=200)\n",
    "\n",
    "#evaluating\n",
    "from pykeen.evaluation import RankBasedEvaluator\n",
    "evaluator = RankBasedEvaluator()\n",
    "mapped_triples = got_testing.mapped_triples\n",
    "\n",
    "results = evaluator.evaluate(\n",
    "            model=model,\n",
    "            mapped_triples=mapped_triples,\n",
    "            )\n",
    "\n",
    "print(results.get_metric('mrr'))\n",
    "\n",
    "#save results, this works also with the pipeline results, as the results object \n",
    "#returned by the evaluator is the same as the one returned from the pipeline\n",
    "save_dir = 'got_complex'\n",
    "if not os.path.isdir(save_dir):\n",
    "    os.mkdir(save_dir)\n",
    "results.to_df().to_csv(save_dir+os.path.sep+'results.csv')\n",
    "\n",
    "models_dir = 'models'\n",
    "if not os.path.isdir(models_dir):\n",
    "    os.mkdir(models_dir)\n",
    "\n",
    "import torch\n",
    "torch.save(model,'models/trained_model.pkl')\n",
    "\n",
    "#to load the model use the following command\n",
    "# my_pykeen_model = torch.load('models/trained_model.pkl')"
   ]
  },
  {
   "cell_type": "markdown",
   "metadata": {},
   "source": [
    "### Exercise 3\n",
    "\n",
    "Try changing the parameters of your training process. See if you obtain a better model in terms of average loss. Save it as ./data/best_model.pkl. Which parameters work best for the dataset? \n",
    "\n",
    "Now use the training and test set you created in Exercise 2. Which loss you obtain, and for which parameters? \n",
    "\n",
    "Remember to save each model locally with a different name, so you can find them back."
   ]
  },
  {
   "cell_type": "code",
   "execution_count": 25,
   "metadata": {},
   "outputs": [],
   "source": [
    "# for simplicity, we are trying to change the number of epochs only\n",
    "def find_parameters(training, testing, csv_name, pkl_name):\n",
    "    epochs = [200, 100, 150, 250, 300]\n",
    "    mrrs = []\n",
    "    best_epochs = 200\n",
    "    best_mrr = 0\n",
    "    for current_epochs in epochs:\n",
    "        model = ComplEx(triples_factory=training, random_seed=0)\n",
    "        optimizer = Adam(params=model.get_grad_params())\n",
    "        training_loop = SLCWATrainingLoop(model=model,\n",
    "                                          triples_factory=training,\n",
    "                                          optimizer=optimizer)\n",
    "        _ = training_loop.train(triples_factory=training, num_epochs=current_epochs)\n",
    "        evaluator = RankBasedEvaluator()\n",
    "        mapped_triples = testing.mapped_triples\n",
    "        results = evaluator.evaluate(\n",
    "                    model=model,\n",
    "                    mapped_triples=mapped_triples,)\n",
    "        \n",
    "        current_mrr = results.get_metric('mrr')\n",
    "        mrrs.append(current_mrr)\n",
    "        print(current_mrr)\n",
    "    \n",
    "        if current_mrr > best_mrr:\n",
    "            best_epochs = current_epochs\n",
    "            best_mrr = current_mrr\n",
    "            results.to_df().to_csv(csv_name)\n",
    "            torch.save(model, pkl_name)\n",
    "    return mrrs, best_epochs, best_mrr"
   ]
  },
  {
   "cell_type": "code",
   "execution_count": null,
   "metadata": {
    "scrolled": true
   },
   "outputs": [],
   "source": [
    "mrrs, best_epochs, best_mrr = find_parameters(got_training, got_testing,\n",
    "                                              'data/best_model_results.csv', 'models/best_model.pkl')"
   ]
  },
  {
   "cell_type": "code",
   "execution_count": null,
   "metadata": {
    "scrolled": true
   },
   "outputs": [],
   "source": [
    "mrrs1, best_epochs1, best_mrr1 = find_parameters(got_training1, got_testing1,\n",
    "                                                 'data/best_model_results1.csv', 'models/best_model1.pkl')"
   ]
  },
  {
   "cell_type": "code",
   "execution_count": null,
   "metadata": {},
   "outputs": [],
   "source": [
    "mrrs2, best_epochs2, best_mrr2 = find_parameters(got_training2, got_testing2,\n",
    "                                                 'data/best_model_results2.csv', 'models/best_model2.pkl')"
   ]
  },
  {
   "cell_type": "code",
   "execution_count": null,
   "metadata": {},
   "outputs": [],
   "source": [
    "mrrs3, best_epochs3, best_mrr3 = find_parameters(got_training3, got_testing3,\n",
    "                                                'data/best_model_results3.csv', 'models/best_model3.pkl')"
   ]
  },
  {
   "cell_type": "code",
   "execution_count": 30,
   "metadata": {},
   "outputs": [
    {
     "name": "stdout",
     "output_type": "stream",
     "text": [
      "Best number of epochs: 100\n",
      "Best mmr: 0.00330454227514565\n"
     ]
    }
   ],
   "source": [
    "print(f\"Best number of epochs: {best_epochs}\\nBest mmr: {best_mrr}\")"
   ]
  },
  {
   "cell_type": "code",
   "execution_count": 31,
   "metadata": {},
   "outputs": [
    {
     "name": "stdout",
     "output_type": "stream",
     "text": [
      "1\n",
      "Best number of epochs: 100\n",
      "Best mmr: 0.0036525933537632227\n"
     ]
    }
   ],
   "source": [
    "print(\"1\")\n",
    "print(f\"Best number of epochs: {best_epochs1}\\nBest mmr: {best_mrr1}\")"
   ]
  },
  {
   "cell_type": "code",
   "execution_count": 32,
   "metadata": {},
   "outputs": [
    {
     "name": "stdout",
     "output_type": "stream",
     "text": [
      "2\n",
      "Best number of epochs: 250\n",
      "Best mmr: 0.0034179675858467817\n"
     ]
    }
   ],
   "source": [
    "print(\"2\")\n",
    "print(f\"Best number of epochs: {best_epochs2}\\nBest mmr: {best_mrr2}\")"
   ]
  },
  {
   "cell_type": "code",
   "execution_count": 33,
   "metadata": {},
   "outputs": [
    {
     "name": "stdout",
     "output_type": "stream",
     "text": [
      "3\n",
      "Best number of epochs: 100\n",
      "Best mmr: 0.0028978066984564066\n"
     ]
    }
   ],
   "source": [
    "print(\"3\")\n",
    "print(f\"Best number of epochs: {best_epochs3}\\nBest mmr: {best_mrr3}\")"
   ]
  },
  {
   "cell_type": "markdown",
   "metadata": {},
   "source": [
    "# 4. Evaluating the Model"
   ]
  },
  {
   "cell_type": "markdown",
   "metadata": {},
   "source": [
    "### Metrics"
   ]
  },
  {
   "cell_type": "markdown",
   "metadata": {},
   "source": [
    "We can now get some evaluation metrics for our model, they were already computed during evaluation time as part of the pipeline, and print them out.\n",
    "\n",
    "We are going to use the following evaluation metrics:\n",
    "- <i>mrr</i> (mean reciprocal rank) : this function computes the mean of the reciprocal of elements of a vector of rankings ranks\n",
    "- <i>hits_at_n</i> : this function computes how many elements of a vector of rankings ranks make it to the $top_n$ positions.\n",
    "\n",
    "NB : The choice of which _N_ makes more sense depends on the application and the size of the dataset."
   ]
  },
  {
   "cell_type": "code",
   "execution_count": 34,
   "metadata": {},
   "outputs": [
    {
     "data": {
      "text/plain": [
       "0.006289308176100629"
      ]
     },
     "execution_count": 34,
     "metadata": {},
     "output_type": "execute_result"
    }
   ],
   "source": [
    "pipeline_result.get_metric('hits_at_10')"
   ]
  },
  {
   "cell_type": "code",
   "execution_count": 35,
   "metadata": {},
   "outputs": [
    {
     "name": "stdout",
     "output_type": "stream",
     "text": [
      "MRR: 0.0036\n",
      "\n",
      "Hits@10: 0.006289\n",
      "Interpretation: on average, the model guessed the correct subject or object 0.6% of the time when considering the top-10 better ranked triples.\n",
      "\n",
      "Hits@3: 0.000000\n",
      "Interpretation: on average, the model guessed the correct subject or object 0.0% of the time when considering the top-3 better ranked triples.\n",
      "\n"
     ]
    }
   ],
   "source": [
    "# from ampligraph.evaluation import mr_score, mrr_score, hits_at_n_score\n",
    "\n",
    "mrr = pipeline_result.get_metric('mrr')\n",
    "print(\"MRR: %.4f\" % (mrr))\n",
    "print()\n",
    "\n",
    "hits_10 = pipeline_result.get_metric('hits_at_10')\n",
    "print(\"Hits@10: %.6f\" % (hits_10))\n",
    "print(\"Interpretation: on average, the model guessed the correct subject or object %.1f%% of the time when considering the top-10 better ranked triples.\\n\" % (hits_10*100))\n",
    "\n",
    "hits_3 = pipeline_result.get_metric('hits_at_3')\n",
    "print(\"Hits@3: %.6f\" % (hits_3))\n",
    "print(\"Interpretation: on average, the model guessed the correct subject or object %.1f%% of the time when considering the top-3 better ranked triples.\\n\" % (hits_3*100))\n",
    "\n",
    "# hits_1 = hits_at_n_score(ranks, n=1)\n",
    "# print(\"Hits@1: %.2f\" % (hits_1))\n",
    "# print(\"Interpretation: on average, the model guessed the correct subject or object %.1f%% of the time when considering the top-1 better ranked triples.\\n\" % (hits_1*100))"
   ]
  },
  {
   "cell_type": "markdown",
   "metadata": {},
   "source": [
    "### Exercise 4\n",
    "\n",
    "Evaluate the models you created before (different set sizes, different parameters). Summarise your results in a table."
   ]
  },
  {
   "cell_type": "code",
   "execution_count": null,
   "metadata": {
    "scrolled": true
   },
   "outputs": [],
   "source": [
    "model = torch.load('models/best_model.pkl')\n",
    "mapped_triples = got_testing.mapped_triples\n",
    "results = evaluator.evaluate(model=model, mapped_triples=mapped_triples)\n",
    "\n",
    "model1 = torch.load('models/best_model1.pkl')\n",
    "mapped_triples1 = got_testing1.mapped_triples\n",
    "results1 = evaluator.evaluate(model=model1, mapped_triples=mapped_triples1)\n",
    "\n",
    "model2 = torch.load('models/best_model2.pkl')\n",
    "mapped_triples2 = got_testing2.mapped_triples\n",
    "results2 = evaluator.evaluate(model=model2, mapped_triples=mapped_triples2)\n",
    "\n",
    "model3 = torch.load('models/best_model3.pkl')\n",
    "mapped_triples3 = got_testing3.mapped_triples\n",
    "results3 = evaluator.evaluate(model=model3, mapped_triples=mapped_triples3)"
   ]
  },
  {
   "cell_type": "code",
   "execution_count": 37,
   "metadata": {
    "scrolled": true
   },
   "outputs": [],
   "source": [
    "test_size = [0.05, 0.12, 0.1, 0.08]\n",
    "n_epochs = [best_epochs, best_epochs1, best_epochs2, best_epochs3]\n",
    "mrr = [best_mrr, best_mrr1, best_mrr2, best_mrr3]\n",
    "hits_10 = [results.get_metric('hits_at_10'), results1.get_metric('hits_at_10'),\n",
    "           results2.get_metric('hits_at_10'), results3.get_metric('hits_at_10')]\n",
    "hits_3 = [results.get_metric('hits_at_3'), results1.get_metric('hits_at_3'),\n",
    "          results2.get_metric('hits_at_3'), results3.get_metric('hits_at_3')]"
   ]
  },
  {
   "cell_type": "code",
   "execution_count": 38,
   "metadata": {},
   "outputs": [
    {
     "data": {
      "text/html": [
       "<div>\n",
       "<style scoped>\n",
       "    .dataframe tbody tr th:only-of-type {\n",
       "        vertical-align: middle;\n",
       "    }\n",
       "\n",
       "    .dataframe tbody tr th {\n",
       "        vertical-align: top;\n",
       "    }\n",
       "\n",
       "    .dataframe thead th {\n",
       "        text-align: right;\n",
       "    }\n",
       "</style>\n",
       "<table border=\"1\" class=\"dataframe\">\n",
       "  <thead>\n",
       "    <tr style=\"text-align: right;\">\n",
       "      <th></th>\n",
       "      <th>Test Size</th>\n",
       "      <th>Number of Epochs</th>\n",
       "      <th>MRR</th>\n",
       "      <th>Hits@10</th>\n",
       "      <th>Hits@3</th>\n",
       "    </tr>\n",
       "  </thead>\n",
       "  <tbody>\n",
       "    <tr>\n",
       "      <th>0</th>\n",
       "      <td>0.05</td>\n",
       "      <td>100</td>\n",
       "      <td>0.003305</td>\n",
       "      <td>0.003145</td>\n",
       "      <td>0.0</td>\n",
       "    </tr>\n",
       "    <tr>\n",
       "      <th>1</th>\n",
       "      <td>0.12</td>\n",
       "      <td>100</td>\n",
       "      <td>0.003653</td>\n",
       "      <td>0.003937</td>\n",
       "      <td>0.0</td>\n",
       "    </tr>\n",
       "    <tr>\n",
       "      <th>2</th>\n",
       "      <td>0.10</td>\n",
       "      <td>250</td>\n",
       "      <td>0.003418</td>\n",
       "      <td>0.003145</td>\n",
       "      <td>0.0</td>\n",
       "    </tr>\n",
       "    <tr>\n",
       "      <th>3</th>\n",
       "      <td>0.08</td>\n",
       "      <td>100</td>\n",
       "      <td>0.002898</td>\n",
       "      <td>0.003937</td>\n",
       "      <td>0.0</td>\n",
       "    </tr>\n",
       "  </tbody>\n",
       "</table>\n",
       "</div>"
      ],
      "text/plain": [
       "   Test Size  Number of Epochs       MRR   Hits@10  Hits@3\n",
       "0       0.05               100  0.003305  0.003145     0.0\n",
       "1       0.12               100  0.003653  0.003937     0.0\n",
       "2       0.10               250  0.003418  0.003145     0.0\n",
       "3       0.08               100  0.002898  0.003937     0.0"
      ]
     },
     "execution_count": 38,
     "metadata": {},
     "output_type": "execute_result"
    }
   ],
   "source": [
    "data = {'Test Size': test_size, 'Number of Epochs': n_epochs,\n",
    "        'MRR': mrr, 'Hits@10': hits_10, 'Hits@3': hits_3}\n",
    "comparison = pd.DataFrame(data)\n",
    "comparison"
   ]
  },
  {
   "cell_type": "markdown",
   "metadata": {},
   "source": [
    "# 5. Link Prediction"
   ]
  },
  {
   "cell_type": "markdown",
   "metadata": {},
   "source": [
    "Link prediction allows to infer missing links in a graph. This has many real-world use cases, such as predicting connections between people in a social network, interactions between proteins in a biological network, and music recommendation based on prior user taste.\n",
    "\n",
    "In our case, we are going to see which of the following candidate statements is more likely to be true. Note that the candidate statements below are made up, i.e. they are not in the original dataset."
   ]
  },
  {
   "cell_type": "code",
   "execution_count": 39,
   "metadata": {},
   "outputs": [],
   "source": [
    "X_unseen = np.array([\n",
    "    ['Jorah Mormont', 'SPOUSE', 'Daenerys Targaryen'],\n",
    "    ['Tyrion Lannister', 'SPOUSE', 'Missandei'],\n",
    "    [\"King's Landing\", 'SEAT_OF', 'House Lannister of Casterly Rock'],\n",
    "    ['Sansa Stark', 'SPOUSE', 'Petyr Baelish'],\n",
    "    ['Daenerys Targaryen', 'SPOUSE', 'Jon Snow'],\n",
    "    ['Daenerys Targaryen', 'SPOUSE', 'Craster'],\n",
    "    ['House Stark of Winterfell', 'IN_REGION', 'The North'],\n",
    "    ['House Stark of Winterfell', 'IN_REGION', 'Dorne'],\n",
    "    ['House Tyrell of Highgarden', 'IN_REGION', 'Beyond the Wall'],\n",
    "    ['Brandon Stark', 'ALLIED_WITH', 'House Stark of Winterfell'],\n",
    "    ['Brandon Stark', 'ALLIED_WITH', 'House Lannister of Casterly Rock'],    \n",
    "    ['Rhaegar Targaryen', 'PARENT_OF', 'Jon Snow'],\n",
    "    ['House Hutcheson', 'SWORN_TO', 'House Tyrell of Highgarden'],\n",
    "    ['Daenerys Targaryen', 'ALLIED_WITH', 'House Stark of Winterfell'],\n",
    "    ['Daenerys Targaryen', 'ALLIED_WITH', 'House Lannister of Casterly Rock'],\n",
    "    ['Jaime Lannister', 'PARENT_OF', 'Myrcella Baratheon'],\n",
    "    ['Robert I Baratheon', 'PARENT_OF', 'Myrcella Baratheon'],\n",
    "    ['Cersei Lannister', 'PARENT_OF', 'Myrcella Baratheon'],\n",
    "    ['Cersei Lannister', 'PARENT_OF', 'Brandon Stark'],\n",
    "    [\"Tywin Lannister\", 'PARENT_OF', 'Jaime Lannister'],\n",
    "    [\"Missandei\", 'SPOUSE', 'Grey Worm'],\n",
    "    [\"Brienne of Tarth\", 'SPOUSE', 'Jaime Lannister']\n",
    "])\n",
    "\n",
    "## we need to map the above triples to the id's which we used in our training/testing.\n",
    "## This information is stored in the triple factory \"got\", which we created at the beginning\n",
    "\n",
    "# unseen_filter = np.array(list({tuple(i) for i in np.vstack((positives_filter, X_unseen))}))\n",
    "#     filter_triples=unseen_filter,   # Corruption strategy filter defined above \n",
    "#     corrupt_side = 's+o',\n",
    "#     use_default_protocol=False, # corrupt subj and obj separately while evaluating\n",
    "#     verbose=True\n",
    "# )\n"
   ]
  },
  {
   "cell_type": "code",
   "execution_count": 40,
   "metadata": {},
   "outputs": [
    {
     "name": "stderr",
     "output_type": "stream",
     "text": [
      "WARNING:torch_max_mem.api:Encountered tensors on device_types={'cpu'} while only ['cuda'] are considered safe for automatic memory utilization maximization. This may lead to undocumented crashes (but can be safe, too).\n"
     ]
    }
   ],
   "source": [
    "from pykeen import predict\n",
    "# from pykeen.predict import predict_triples\n",
    "\n",
    "# got_unseen = triples.get_mapped_tripples(X_unseen,factory=got)\n",
    "pack = predict.predict_triples(model=pipeline_result.model, triples=X_unseen, triples_factory=got)"
   ]
  },
  {
   "cell_type": "code",
   "execution_count": 41,
   "metadata": {},
   "outputs": [],
   "source": [
    "# scores are real numbers that need to be translated into probabilities [0,1] \n",
    "# for this, we use the expit transform.\n",
    "\n",
    "from scipy.special import expit\n",
    "processed_results = pack.process().df\n",
    "# print(processed_results)\n",
    "\n",
    "probs = expit(processed_results['score'])\n",
    "# print(probs)\n",
    "\n",
    "processed_results['prob'] = probs\n",
    "processed_results['triple'] = list(zip([' '.join(x) for x in X_unseen]))\n",
    "\n",
    "# processed_results\n",
    "pred_df = pd.DataFrame(list(zip([' '.join(x) for x in X_unseen],  \n",
    "                      round(np.squeeze(processed_results['score']), 4),\n",
    "                      round(np.squeeze(probs), 4))), \n",
    "             columns=['statement', 'score', 'prob']).sort_values(\"score\")"
   ]
  },
  {
   "cell_type": "markdown",
   "metadata": {},
   "source": [
    "NB : the probabilities are not calibrated in any sense. To calibrate them, one may use a procedure such as [Platt scaling](https://en.wikipedia.org/wiki/Platt_scaling) or [Isotonic regression](https://en.wikipedia.org/wiki/Isotonic_regression). The challenge is to define what is a true triple and what is a false one, as the calibration of the probability of a triple being true depends on the base rate of positives and negatives."
   ]
  },
  {
   "cell_type": "markdown",
   "metadata": {},
   "source": [
    "### Exercise 5\n",
    "\n",
    "Analyse the results in the tables. Some predicted links are very likely to be true, others  capture things that never really happened. Can you spot which ones?"
   ]
  },
  {
   "cell_type": "code",
   "execution_count": 42,
   "metadata": {},
   "outputs": [
    {
     "data": {
      "text/html": [
       "<div>\n",
       "<style scoped>\n",
       "    .dataframe tbody tr th:only-of-type {\n",
       "        vertical-align: middle;\n",
       "    }\n",
       "\n",
       "    .dataframe tbody tr th {\n",
       "        vertical-align: top;\n",
       "    }\n",
       "\n",
       "    .dataframe thead th {\n",
       "        text-align: right;\n",
       "    }\n",
       "</style>\n",
       "<table border=\"1\" class=\"dataframe\">\n",
       "  <thead>\n",
       "    <tr style=\"text-align: right;\">\n",
       "      <th></th>\n",
       "      <th>statement</th>\n",
       "      <th>score</th>\n",
       "      <th>prob</th>\n",
       "    </tr>\n",
       "  </thead>\n",
       "  <tbody>\n",
       "    <tr>\n",
       "      <th>19</th>\n",
       "      <td>Tywin Lannister PARENT_OF Jaime Lannister</td>\n",
       "      <td>-41.236599</td>\n",
       "      <td>0.0000</td>\n",
       "    </tr>\n",
       "    <tr>\n",
       "      <th>2</th>\n",
       "      <td>King's Landing SEAT_OF House Lannister of Cast...</td>\n",
       "      <td>-39.513100</td>\n",
       "      <td>0.0000</td>\n",
       "    </tr>\n",
       "    <tr>\n",
       "      <th>6</th>\n",
       "      <td>House Stark of Winterfell IN_REGION The North</td>\n",
       "      <td>-36.525902</td>\n",
       "      <td>0.0000</td>\n",
       "    </tr>\n",
       "    <tr>\n",
       "      <th>7</th>\n",
       "      <td>House Stark of Winterfell IN_REGION Dorne</td>\n",
       "      <td>-34.308800</td>\n",
       "      <td>0.0000</td>\n",
       "    </tr>\n",
       "    <tr>\n",
       "      <th>15</th>\n",
       "      <td>Jaime Lannister PARENT_OF Myrcella Baratheon</td>\n",
       "      <td>-14.285300</td>\n",
       "      <td>0.0000</td>\n",
       "    </tr>\n",
       "    <tr>\n",
       "      <th>12</th>\n",
       "      <td>House Hutcheson SWORN_TO House Tyrell of Highg...</td>\n",
       "      <td>-11.242600</td>\n",
       "      <td>0.0000</td>\n",
       "    </tr>\n",
       "    <tr>\n",
       "      <th>5</th>\n",
       "      <td>Daenerys Targaryen SPOUSE Craster</td>\n",
       "      <td>-5.611800</td>\n",
       "      <td>0.0036</td>\n",
       "    </tr>\n",
       "    <tr>\n",
       "      <th>4</th>\n",
       "      <td>Daenerys Targaryen SPOUSE Jon Snow</td>\n",
       "      <td>-4.161900</td>\n",
       "      <td>0.0153</td>\n",
       "    </tr>\n",
       "    <tr>\n",
       "      <th>14</th>\n",
       "      <td>Daenerys Targaryen ALLIED_WITH House Lannister...</td>\n",
       "      <td>-3.378600</td>\n",
       "      <td>0.0330</td>\n",
       "    </tr>\n",
       "    <tr>\n",
       "      <th>17</th>\n",
       "      <td>Cersei Lannister PARENT_OF Myrcella Baratheon</td>\n",
       "      <td>-0.525900</td>\n",
       "      <td>0.3715</td>\n",
       "    </tr>\n",
       "    <tr>\n",
       "      <th>8</th>\n",
       "      <td>House Tyrell of Highgarden IN_REGION Beyond th...</td>\n",
       "      <td>0.217700</td>\n",
       "      <td>0.5542</td>\n",
       "    </tr>\n",
       "    <tr>\n",
       "      <th>18</th>\n",
       "      <td>Cersei Lannister PARENT_OF Brandon Stark</td>\n",
       "      <td>6.615900</td>\n",
       "      <td>0.9987</td>\n",
       "    </tr>\n",
       "    <tr>\n",
       "      <th>16</th>\n",
       "      <td>Robert I Baratheon PARENT_OF Myrcella Baratheon</td>\n",
       "      <td>15.858200</td>\n",
       "      <td>1.0000</td>\n",
       "    </tr>\n",
       "    <tr>\n",
       "      <th>21</th>\n",
       "      <td>Brienne of Tarth SPOUSE Jaime Lannister</td>\n",
       "      <td>16.283501</td>\n",
       "      <td>1.0000</td>\n",
       "    </tr>\n",
       "    <tr>\n",
       "      <th>11</th>\n",
       "      <td>Rhaegar Targaryen PARENT_OF Jon Snow</td>\n",
       "      <td>18.186399</td>\n",
       "      <td>1.0000</td>\n",
       "    </tr>\n",
       "    <tr>\n",
       "      <th>0</th>\n",
       "      <td>Jorah Mormont SPOUSE Daenerys Targaryen</td>\n",
       "      <td>22.012699</td>\n",
       "      <td>1.0000</td>\n",
       "    </tr>\n",
       "    <tr>\n",
       "      <th>13</th>\n",
       "      <td>Daenerys Targaryen ALLIED_WITH House Stark of ...</td>\n",
       "      <td>23.629999</td>\n",
       "      <td>1.0000</td>\n",
       "    </tr>\n",
       "    <tr>\n",
       "      <th>20</th>\n",
       "      <td>Missandei SPOUSE Grey Worm</td>\n",
       "      <td>29.810801</td>\n",
       "      <td>1.0000</td>\n",
       "    </tr>\n",
       "    <tr>\n",
       "      <th>10</th>\n",
       "      <td>Brandon Stark ALLIED_WITH House Lannister of C...</td>\n",
       "      <td>36.767799</td>\n",
       "      <td>1.0000</td>\n",
       "    </tr>\n",
       "    <tr>\n",
       "      <th>1</th>\n",
       "      <td>Tyrion Lannister SPOUSE Missandei</td>\n",
       "      <td>37.158600</td>\n",
       "      <td>1.0000</td>\n",
       "    </tr>\n",
       "    <tr>\n",
       "      <th>3</th>\n",
       "      <td>Sansa Stark SPOUSE Petyr Baelish</td>\n",
       "      <td>42.602299</td>\n",
       "      <td>1.0000</td>\n",
       "    </tr>\n",
       "    <tr>\n",
       "      <th>9</th>\n",
       "      <td>Brandon Stark ALLIED_WITH House Stark of Winte...</td>\n",
       "      <td>51.847900</td>\n",
       "      <td>1.0000</td>\n",
       "    </tr>\n",
       "  </tbody>\n",
       "</table>\n",
       "</div>"
      ],
      "text/plain": [
       "                                            statement      score    prob\n",
       "19          Tywin Lannister PARENT_OF Jaime Lannister -41.236599  0.0000\n",
       "2   King's Landing SEAT_OF House Lannister of Cast... -39.513100  0.0000\n",
       "6       House Stark of Winterfell IN_REGION The North -36.525902  0.0000\n",
       "7           House Stark of Winterfell IN_REGION Dorne -34.308800  0.0000\n",
       "15       Jaime Lannister PARENT_OF Myrcella Baratheon -14.285300  0.0000\n",
       "12  House Hutcheson SWORN_TO House Tyrell of Highg... -11.242600  0.0000\n",
       "5                   Daenerys Targaryen SPOUSE Craster  -5.611800  0.0036\n",
       "4                  Daenerys Targaryen SPOUSE Jon Snow  -4.161900  0.0153\n",
       "14  Daenerys Targaryen ALLIED_WITH House Lannister...  -3.378600  0.0330\n",
       "17      Cersei Lannister PARENT_OF Myrcella Baratheon  -0.525900  0.3715\n",
       "8   House Tyrell of Highgarden IN_REGION Beyond th...   0.217700  0.5542\n",
       "18           Cersei Lannister PARENT_OF Brandon Stark   6.615900  0.9987\n",
       "16    Robert I Baratheon PARENT_OF Myrcella Baratheon  15.858200  1.0000\n",
       "21            Brienne of Tarth SPOUSE Jaime Lannister  16.283501  1.0000\n",
       "11               Rhaegar Targaryen PARENT_OF Jon Snow  18.186399  1.0000\n",
       "0             Jorah Mormont SPOUSE Daenerys Targaryen  22.012699  1.0000\n",
       "13  Daenerys Targaryen ALLIED_WITH House Stark of ...  23.629999  1.0000\n",
       "20                         Missandei SPOUSE Grey Worm  29.810801  1.0000\n",
       "10  Brandon Stark ALLIED_WITH House Lannister of C...  36.767799  1.0000\n",
       "1                   Tyrion Lannister SPOUSE Missandei  37.158600  1.0000\n",
       "3                    Sansa Stark SPOUSE Petyr Baelish  42.602299  1.0000\n",
       "9   Brandon Stark ALLIED_WITH House Stark of Winte...  51.847900  1.0000"
      ]
     },
     "execution_count": 42,
     "metadata": {},
     "output_type": "execute_result"
    }
   ],
   "source": [
    "pred_df"
   ]
  },
  {
   "cell_type": "code",
   "execution_count": 43,
   "metadata": {},
   "outputs": [
    {
     "name": "stdout",
     "output_type": "stream",
     "text": [
      "Links are very likely to be true:\n"
     ]
    },
    {
     "data": {
      "text/plain": [
       "['Cersei Lannister PARENT_OF Brandon Stark',\n",
       " 'Robert I Baratheon PARENT_OF Myrcella Baratheon',\n",
       " 'Brienne of Tarth SPOUSE Jaime Lannister',\n",
       " 'Rhaegar Targaryen PARENT_OF Jon Snow',\n",
       " 'Jorah Mormont SPOUSE Daenerys Targaryen',\n",
       " 'Daenerys Targaryen ALLIED_WITH House Stark of Winterfell',\n",
       " 'Missandei SPOUSE Grey Worm',\n",
       " 'Brandon Stark ALLIED_WITH House Lannister of Casterly Rock',\n",
       " 'Tyrion Lannister SPOUSE Missandei',\n",
       " 'Sansa Stark SPOUSE Petyr Baelish',\n",
       " 'Brandon Stark ALLIED_WITH House Stark of Winterfell']"
      ]
     },
     "execution_count": 43,
     "metadata": {},
     "output_type": "execute_result"
    }
   ],
   "source": [
    "print(\"Links are very likely to be true:\")\n",
    "list(pred_df[pred_df[\"prob\"] >= 0.99][\"statement\"])"
   ]
  },
  {
   "cell_type": "code",
   "execution_count": 44,
   "metadata": {},
   "outputs": [
    {
     "name": "stdout",
     "output_type": "stream",
     "text": [
      "Things that never really happened:\n"
     ]
    },
    {
     "data": {
      "text/plain": [
       "['Tywin Lannister PARENT_OF Jaime Lannister',\n",
       " \"King's Landing SEAT_OF House Lannister of Casterly Rock\",\n",
       " 'House Stark of Winterfell IN_REGION The North',\n",
       " 'House Stark of Winterfell IN_REGION Dorne',\n",
       " 'Jaime Lannister PARENT_OF Myrcella Baratheon',\n",
       " 'House Hutcheson SWORN_TO House Tyrell of Highgarden',\n",
       " 'Daenerys Targaryen SPOUSE Craster']"
      ]
     },
     "execution_count": 44,
     "metadata": {},
     "output_type": "execute_result"
    }
   ],
   "source": [
    "print(\"Things that never really happened:\")\n",
    "list(pred_df[pred_df[\"prob\"] <= 0.01][\"statement\"])"
   ]
  },
  {
   "cell_type": "markdown",
   "metadata": {},
   "source": [
    "# 6 Visualisation"
   ]
  },
  {
   "cell_type": "markdown",
   "metadata": {},
   "source": [
    "[Tensorboard](https://www.tensorflow.org/tensorboard) allows to dig into the workings of our model, plot how it is learning, and visualize [high-dimensional embeddings](https://projector.tensorflow.org/). See [this tutorial](https://www.tensorflow.org/tensorboard/get_started) to get started with Tensorflow and see [here](https://pykeen.readthedocs.io/en/stable/tutorial/trackers/using_tensorboard.html) for Tensorboard with PyKEEN.\n",
    "\n",
    "First you neeed to start the tensorboard web application from the command line with \n",
    "\n",
    "$ tensorboard --logdir=~/.data/pykeen/logs/tensorboard/\n",
    "\n",
    "and then we can add tensorboard as the result_tracker in our pipeline."
   ]
  },
  {
   "cell_type": "code",
   "execution_count": 45,
   "metadata": {
    "scrolled": true
   },
   "outputs": [],
   "source": [
    "# pip install tensorboard"
   ]
  },
  {
   "cell_type": "code",
   "execution_count": null,
   "metadata": {},
   "outputs": [
    {
     "name": "stderr",
     "output_type": "stream",
     "text": [
      "Training batches on cpu:   0%|                                                         | 0/12 [00:00<?, ?batch/s]\u001b[A\n",
      "Training batches on cpu:  50%|████████████████████████▌                        | 6/12 [00:00<00:00, 54.70batch/s]\u001b[A\n",
      "Training batches on cpu: 100%|████████████████████████████████████████████████| 12/12 [00:00<00:00, 53.33batch/s]\u001b[A\n",
      "Training epochs on cpu:  98%|█████████████████▋| 196/200 [01:10<00:01,  2.31epoch/s, loss=0.199, prev_loss=0.342]\u001b[A\n",
      "Training batches on cpu:   0%|                                                         | 0/12 [00:00<?, ?batch/s]\u001b[A\n",
      "Training batches on cpu:  42%|████████████████████▍                            | 5/12 [00:00<00:00, 48.84batch/s]\u001b[A\n",
      "Training batches on cpu:  83%|████████████████████████████████████████        | 10/12 [00:00<00:00, 49.46batch/s]\u001b[A\n",
      "Training epochs on cpu:  98%|█████████████████▋| 197/200 [01:10<00:01,  2.28epoch/s, loss=0.286, prev_loss=0.199]\u001b[A\n",
      "Training batches on cpu:   0%|                                                         | 0/12 [00:00<?, ?batch/s]\u001b[A\n",
      "Training batches on cpu:  50%|████████████████████████▌                        | 6/12 [00:00<00:00, 58.47batch/s]\u001b[A\n",
      "Training batches on cpu: 100%|████████████████████████████████████████████████| 12/12 [00:00<00:00, 59.27batch/s]\u001b[A\n",
      "Training epochs on cpu:  99%|█████████████████▊| 198/200 [01:10<00:00,  2.38epoch/s, loss=0.235, prev_loss=0.286]\u001b[A\n",
      "Training batches on cpu:   0%|                                                         | 0/12 [00:00<?, ?batch/s]\u001b[A\n",
      "Training batches on cpu:  58%|████████████████████████████▌                    | 7/12 [00:00<00:00, 60.20batch/s]\u001b[A\n",
      "Training epochs on cpu: 100%|█████████████████▉| 199/200 [01:11<00:00,  2.42epoch/s, loss=0.237, prev_loss=0.235]\u001b[A\n",
      "Training batches on cpu:   0%|                                                         | 0/12 [00:00<?, ?batch/s]\u001b[A\n",
      "Training batches on cpu:  50%|████████████████████████▌                        | 6/12 [00:00<00:00, 54.33batch/s]\u001b[A\n",
      "Training batches on cpu: 100%|████████████████████████████████████████████████| 12/12 [00:00<00:00, 55.96batch/s]\u001b[A\n",
      "Training epochs on cpu: 100%|██████████████████| 200/200 [01:11<00:00,  2.79epoch/s, loss=0.275, prev_loss=0.237]\u001b[A\n",
      "INFO:pykeen.evaluation.evaluator:Currently automatic memory optimization only supports GPUs, but you're using a CPU. Therefore, the batch_size will be set to the default value.\n",
      "INFO:pykeen.evaluation.evaluator:No evaluation batch_size provided. Setting batch_size to '32'.\n",
      "Evaluating on cpu: 100%|█████████████████████████████████████████████████████| 159/159 [00:00<00:00, 919triple/s]\n",
      "INFO:pykeen.evaluation.evaluator:Evaluation took 0.19s seconds\n"
     ]
    }
   ],
   "source": [
    "pipeline_result = pipeline(\n",
    "    model='ComplEx',\n",
    "    training=got_training,\n",
    "    testing=got_testing,\n",
    "    training_kwargs=dict(\n",
    "        num_epochs=200\n",
    "    ),\n",
    "    dimensions=150,\n",
    "    optimizer='adam',\n",
    "    optimizer_kwargs={'lr':1e-3},\n",
    "    loss='pairwisehinge', \n",
    "    regularizer='LP', \n",
    "    regularizer_kwargs={'p':3, 'weight':1e-5}, \n",
    "    negative_sampler='basic',\n",
    "    negative_sampler_kwargs=dict(\n",
    "        filtered=True,\n",
    "    ),\n",
    "    result_tracker='tensorboard'\n",
    ")"
   ]
  },
  {
   "cell_type": "markdown",
   "metadata": {},
   "source": [
    "### Exercise 7 Your Own Data now\n",
    "\n",
    "Choose a dataset of your own. Best if it is the data you are using in your group project. \n",
    "\n",
    "- Create a training and testset. \n",
    "- Train your model to compute Knowledge Graph Embeddings, and save the best parameters model. - Predict new links over your dataset\n",
    "- Visualise the embeddings you computed \n",
    "- Optional : cluster your embeddings, [see this tutorial](https://docs.ampligraph.org/en/1.4.0/tutorials/ClusteringAndClassificationWithEmbeddings.html)"
   ]
  },
  {
   "cell_type": "code",
   "execution_count": 47,
   "metadata": {},
   "outputs": [],
   "source": [
    "path = \"data/synt.tsv\""
   ]
  },
  {
   "cell_type": "code",
   "execution_count": 48,
   "metadata": {},
   "outputs": [
    {
     "data": {
      "text/html": [
       "<div>\n",
       "<style scoped>\n",
       "    .dataframe tbody tr th:only-of-type {\n",
       "        vertical-align: middle;\n",
       "    }\n",
       "\n",
       "    .dataframe tbody tr th {\n",
       "        vertical-align: top;\n",
       "    }\n",
       "\n",
       "    .dataframe thead th {\n",
       "        text-align: right;\n",
       "    }\n",
       "</style>\n",
       "<table border=\"1\" class=\"dataframe\">\n",
       "  <thead>\n",
       "    <tr style=\"text-align: right;\">\n",
       "      <th></th>\n",
       "      <th>subject</th>\n",
       "      <th>property</th>\n",
       "      <th>object</th>\n",
       "    </tr>\n",
       "  </thead>\n",
       "  <tbody>\n",
       "    <tr>\n",
       "      <th>0</th>\n",
       "      <td>Maryon_Lane</td>\n",
       "      <td>birthPlace</td>\n",
       "      <td>Natal_Province</td>\n",
       "    </tr>\n",
       "    <tr>\n",
       "      <th>1</th>\n",
       "      <td>Maryon_Lane</td>\n",
       "      <td>birthPlace</td>\n",
       "      <td>Cyprus</td>\n",
       "    </tr>\n",
       "    <tr>\n",
       "      <th>2</th>\n",
       "      <td>Claire_Loewenfeld</td>\n",
       "      <td>birthPlace</td>\n",
       "      <td>Berlin</td>\n",
       "    </tr>\n",
       "    <tr>\n",
       "      <th>3</th>\n",
       "      <td>Claire_Loewenfeld</td>\n",
       "      <td>birthPlace</td>\n",
       "      <td>Buckinghamshire</td>\n",
       "    </tr>\n",
       "    <tr>\n",
       "      <th>4</th>\n",
       "      <td>James_Boughtwood_Comber</td>\n",
       "      <td>birthPlace</td>\n",
       "      <td>Garlieston</td>\n",
       "    </tr>\n",
       "    <tr>\n",
       "      <th>...</th>\n",
       "      <td>...</td>\n",
       "      <td>...</td>\n",
       "      <td>...</td>\n",
       "    </tr>\n",
       "    <tr>\n",
       "      <th>8087</th>\n",
       "      <td>Barack_Obama</td>\n",
       "      <td>vicePresident</td>\n",
       "      <td>William_R._King</td>\n",
       "    </tr>\n",
       "    <tr>\n",
       "      <th>8088</th>\n",
       "      <td>Barack_Obama</td>\n",
       "      <td>vicePresident</td>\n",
       "      <td>John_Adams</td>\n",
       "    </tr>\n",
       "    <tr>\n",
       "      <th>8089</th>\n",
       "      <td>Barack_Obama</td>\n",
       "      <td>vicePresident</td>\n",
       "      <td>Richard_Nixon</td>\n",
       "    </tr>\n",
       "    <tr>\n",
       "      <th>8090</th>\n",
       "      <td>Barack_Obama</td>\n",
       "      <td>vicePresident</td>\n",
       "      <td>Dan_Quayle</td>\n",
       "    </tr>\n",
       "    <tr>\n",
       "      <th>8091</th>\n",
       "      <td>Barack_Obama</td>\n",
       "      <td>vicePresident</td>\n",
       "      <td>Elbridge_Gerry</td>\n",
       "    </tr>\n",
       "  </tbody>\n",
       "</table>\n",
       "<p>8092 rows × 3 columns</p>\n",
       "</div>"
      ],
      "text/plain": [
       "                      subject       property           object\n",
       "0                 Maryon_Lane     birthPlace   Natal_Province\n",
       "1                 Maryon_Lane     birthPlace           Cyprus\n",
       "2           Claire_Loewenfeld     birthPlace           Berlin\n",
       "3           Claire_Loewenfeld     birthPlace  Buckinghamshire\n",
       "4     James_Boughtwood_Comber     birthPlace       Garlieston\n",
       "...                       ...            ...              ...\n",
       "8087             Barack_Obama  vicePresident  William_R._King\n",
       "8088             Barack_Obama  vicePresident       John_Adams\n",
       "8089             Barack_Obama  vicePresident    Richard_Nixon\n",
       "8090             Barack_Obama  vicePresident       Dan_Quayle\n",
       "8091             Barack_Obama  vicePresident   Elbridge_Gerry\n",
       "\n",
       "[8092 rows x 3 columns]"
      ]
     },
     "execution_count": 48,
     "metadata": {},
     "output_type": "execute_result"
    }
   ],
   "source": [
    "my_df = pd.read_csv(path, sep = '\\t', usecols=[0, 1, 2], names=['subject', 'property', 'object'])\n",
    "my_df"
   ]
  },
  {
   "cell_type": "code",
   "execution_count": 49,
   "metadata": {},
   "outputs": [
    {
     "name": "stderr",
     "output_type": "stream",
     "text": [
      "WARNING:pykeen.triples.triples_factory:Reconstructing all label-based triples. This is expensive and rarely needed.\n"
     ]
    }
   ],
   "source": [
    "from pykeen import triples\n",
    "\n",
    "unique_entities = sorted(set(my_df['subject']).union(my_df['object']))\n",
    "unique_relations = sorted(set(my_df['property']))\n",
    "\n",
    "entity_to_id = {entity: idx for idx, entity in enumerate(unique_entities)}\n",
    "relation_to_id = {relation: idx for idx, relation in enumerate(unique_relations)}\n",
    "\n",
    "mapped_df = my_df.copy()\n",
    "mapped_df['subject'] = my_df['subject'].map(entity_to_id)\n",
    "mapped_df['object'] = my_df['object'].map(entity_to_id)\n",
    "mapped_df['property'] = my_df['property'].map(relation_to_id)\n",
    "temp = mapped_df.values.tolist()\n",
    "\n",
    "data = triples.TriplesFactory(temp, entity_to_id=entity_to_id, relation_to_id=relation_to_id)\n",
    "data_triples = data.triples"
   ]
  },
  {
   "cell_type": "code",
   "execution_count": 50,
   "metadata": {},
   "outputs": [
    {
     "data": {
      "text/plain": [
       "array([['Maryon_Lane', 'birthPlace', 'Natal_Province'],\n",
       "       ['Maryon_Lane', 'birthPlace', 'Cyprus'],\n",
       "       ['Claire_Loewenfeld', 'birthPlace', 'Berlin'],\n",
       "       ...,\n",
       "       ['Barack_Obama', 'vicePresident', 'Richard_Nixon'],\n",
       "       ['Barack_Obama', 'vicePresident', 'Dan_Quayle'],\n",
       "       ['Barack_Obama', 'vicePresident', 'Elbridge_Gerry']], dtype='<U46')"
      ]
     },
     "execution_count": 50,
     "metadata": {},
     "output_type": "execute_result"
    }
   ],
   "source": [
    "data_triples"
   ]
  },
  {
   "cell_type": "code",
   "execution_count": 51,
   "metadata": {},
   "outputs": [
    {
     "name": "stderr",
     "output_type": "stream",
     "text": [
      "INFO:pykeen.triples.splitting:done splitting triples to groups of sizes [6443, 405, 405]\n"
     ]
    }
   ],
   "source": [
    "my_training, my_testing, my_validation = data.split([0.9, 0.05, 0.05], random_state=0)"
   ]
  },
  {
   "cell_type": "code",
   "execution_count": null,
   "metadata": {
    "scrolled": true
   },
   "outputs": [],
   "source": [
    "my_mrrs, my_best_epochs, my_best_mrr = find_parameters(my_training, my_testing,\n",
    "                                                       'data/my_best_model_results.csv', 'models/my_best_model.pkl')"
   ]
  },
  {
   "cell_type": "code",
   "execution_count": 53,
   "metadata": {},
   "outputs": [
    {
     "name": "stdout",
     "output_type": "stream",
     "text": [
      "Best number of epochs: 300\n",
      "Best mmr: 0.03612067922949791\n"
     ]
    }
   ],
   "source": [
    "print(f\"Best number of epochs: {my_best_epochs}\\nBest mmr: {my_best_mrr}\")"
   ]
  },
  {
   "cell_type": "code",
   "execution_count": 54,
   "metadata": {},
   "outputs": [],
   "source": [
    "my_model = torch.load('models/my_best_model.pkl')\n",
    "# my_mapped_triples = my_testing.mapped_triples\n",
    "# my_results = evaluator.evaluate(model=my_model, mapped_triples=my_mapped_triples)"
   ]
  },
  {
   "cell_type": "code",
   "execution_count": 55,
   "metadata": {},
   "outputs": [
    {
     "name": "stderr",
     "output_type": "stream",
     "text": [
      "WARNING:torch_max_mem.api:Encountered tensors on device_types={'cpu'} while only ['cuda'] are considered safe for automatic memory utilization maximization. This may lead to undocumented crashes (but can be safe, too).\n",
      "WARNING:pykeen.triples.triples_factory:Reconstructing all label-based triples. This is expensive and rarely needed.\n",
      "WARNING:pykeen.triples.triples_factory:Reconstructing all label-based triples. This is expensive and rarely needed.\n"
     ]
    }
   ],
   "source": [
    "my_pack = predict.predict_triples(model=my_model, triples=my_validation, triples_factory=data)\n",
    "my_processed_results = my_pack.process().df\n",
    "my_probs = expit(my_processed_results['score'])\n",
    "\n",
    "my_processed_results['prob'] = my_probs\n",
    "my_processed_results['triple'] = list(zip([' '.join(x) for x in my_validation.triples]))\n",
    "\n",
    "my_pred_df = pd.DataFrame(list(zip([' '.join(x) for x in my_validation.triples],\n",
    "                                   round(np.squeeze(my_processed_results['score']), 4),\n",
    "                                   round(np.squeeze(my_probs), 4))),\n",
    "                          columns=['statement', 'score', 'prob']).sort_values(\"score\")"
   ]
  },
  {
   "cell_type": "code",
   "execution_count": 56,
   "metadata": {},
   "outputs": [
    {
     "data": {
      "text/html": [
       "<div>\n",
       "<style scoped>\n",
       "    .dataframe tbody tr th:only-of-type {\n",
       "        vertical-align: middle;\n",
       "    }\n",
       "\n",
       "    .dataframe tbody tr th {\n",
       "        vertical-align: top;\n",
       "    }\n",
       "\n",
       "    .dataframe thead th {\n",
       "        text-align: right;\n",
       "    }\n",
       "</style>\n",
       "<table border=\"1\" class=\"dataframe\">\n",
       "  <thead>\n",
       "    <tr style=\"text-align: right;\">\n",
       "      <th></th>\n",
       "      <th>statement</th>\n",
       "      <th>score</th>\n",
       "      <th>prob</th>\n",
       "    </tr>\n",
       "  </thead>\n",
       "  <tbody>\n",
       "    <tr>\n",
       "      <th>33</th>\n",
       "      <td>Magic_Johnson team Houston_Rockets</td>\n",
       "      <td>-27.257601</td>\n",
       "      <td>0.0</td>\n",
       "    </tr>\n",
       "    <tr>\n",
       "      <th>281</th>\n",
       "      <td>Bill_Russell team Houston_Rockets</td>\n",
       "      <td>-24.961901</td>\n",
       "      <td>0.0</td>\n",
       "    </tr>\n",
       "    <tr>\n",
       "      <th>53</th>\n",
       "      <td>John_F._Kennedy spouse Florence_Harding</td>\n",
       "      <td>-18.643299</td>\n",
       "      <td>0.0</td>\n",
       "    </tr>\n",
       "    <tr>\n",
       "      <th>233</th>\n",
       "      <td>George_W._Bush spouse Rosalynn_Carter</td>\n",
       "      <td>-18.087799</td>\n",
       "      <td>0.0</td>\n",
       "    </tr>\n",
       "    <tr>\n",
       "      <th>208</th>\n",
       "      <td>Calvin_Coolidge spouse Florence_Harding</td>\n",
       "      <td>-17.396000</td>\n",
       "      <td>0.0</td>\n",
       "    </tr>\n",
       "    <tr>\n",
       "      <th>...</th>\n",
       "      <td>...</td>\n",
       "      <td>...</td>\n",
       "      <td>...</td>\n",
       "    </tr>\n",
       "    <tr>\n",
       "      <th>73</th>\n",
       "      <td>Abraham_Lincoln vicePresident Chester_A._Arthur</td>\n",
       "      <td>11.131900</td>\n",
       "      <td>1.0</td>\n",
       "    </tr>\n",
       "    <tr>\n",
       "      <th>362</th>\n",
       "      <td>Woodrow_Wilson vicePresident Gerald_Ford</td>\n",
       "      <td>12.924600</td>\n",
       "      <td>1.0</td>\n",
       "    </tr>\n",
       "    <tr>\n",
       "      <th>212</th>\n",
       "      <td>Alaska capital Baton_Rouge,_Louisiana</td>\n",
       "      <td>16.674801</td>\n",
       "      <td>1.0</td>\n",
       "    </tr>\n",
       "    <tr>\n",
       "      <th>158</th>\n",
       "      <td>Sam_Jones_(basketball) team Philadelphia_76ers</td>\n",
       "      <td>17.814400</td>\n",
       "      <td>1.0</td>\n",
       "    </tr>\n",
       "    <tr>\n",
       "      <th>250</th>\n",
       "      <td>Julius_Erving team Chicago_Bulls</td>\n",
       "      <td>21.316500</td>\n",
       "      <td>1.0</td>\n",
       "    </tr>\n",
       "  </tbody>\n",
       "</table>\n",
       "<p>405 rows × 3 columns</p>\n",
       "</div>"
      ],
      "text/plain": [
       "                                           statement      score  prob\n",
       "33                Magic_Johnson team Houston_Rockets -27.257601   0.0\n",
       "281                Bill_Russell team Houston_Rockets -24.961901   0.0\n",
       "53           John_F._Kennedy spouse Florence_Harding -18.643299   0.0\n",
       "233            George_W._Bush spouse Rosalynn_Carter -18.087799   0.0\n",
       "208          Calvin_Coolidge spouse Florence_Harding -17.396000   0.0\n",
       "..                                               ...        ...   ...\n",
       "73   Abraham_Lincoln vicePresident Chester_A._Arthur  11.131900   1.0\n",
       "362         Woodrow_Wilson vicePresident Gerald_Ford  12.924600   1.0\n",
       "212            Alaska capital Baton_Rouge,_Louisiana  16.674801   1.0\n",
       "158   Sam_Jones_(basketball) team Philadelphia_76ers  17.814400   1.0\n",
       "250                 Julius_Erving team Chicago_Bulls  21.316500   1.0\n",
       "\n",
       "[405 rows x 3 columns]"
      ]
     },
     "execution_count": 56,
     "metadata": {},
     "output_type": "execute_result"
    }
   ],
   "source": [
    "my_pred_df"
   ]
  }
 ],
 "metadata": {
  "kernelspec": {
   "display_name": "Python 3 (ipykernel)",
   "language": "python",
   "name": "python3"
  },
  "language_info": {
   "codemirror_mode": {
    "name": "ipython",
    "version": 3
   },
   "file_extension": ".py",
   "mimetype": "text/x-python",
   "name": "python",
   "nbconvert_exporter": "python",
   "pygments_lexer": "ipython3",
   "version": "3.10.13"
  },
  "vscode": {
   "interpreter": {
    "hash": "c30f2af5f468e7f5b45bcc30fca5f4886c90d54777aed916ed5f6294dfb24bf2"
   }
  }
 },
 "nbformat": 4,
 "nbformat_minor": 4
}
