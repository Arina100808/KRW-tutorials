{
 "cells": [
  {
   "cell_type": "markdown",
   "metadata": {},
   "source": [
    "# Knowledge Representation on the Web -- RDFS tutorial\n",
    "\n",
    "Here we'll learn the basics of RDFS (RDF Schema) and how to perform basic RDFS reasoning with rdflib (documentation [here](https://rdflib.readthedocs.io/en/stable/)) and owlrl (documentation [here](https://owl-rl.readthedocs.io/en/latest/))."
   ]
  },
  {
   "cell_type": "markdown",
   "metadata": {},
   "source": [
    "## Imports\n",
    "\n",
    "owlrl is a library implementing basic RDFS and OWL reasoning on top of rdflib. We'll install and import its relevant symbols."
   ]
  },
  {
   "cell_type": "code",
   "execution_count": null,
   "metadata": {},
   "outputs": [],
   "source": [
    "import sys\n",
    "\n",
    "from rdflib import Graph, RDFS, RDF, URIRef, Namespace, Literal\n",
    "from owlrl import DeductiveClosure, RDFS_Semantics"
   ]
  },
  {
   "cell_type": "markdown",
   "metadata": {},
   "source": [
    "## Loading RDFS graphs\n",
    "\n",
    "Your file `yourRDF.ttl` already contains a basic Knowledge Graph in RDF with some RDFS semantics\n",
    "\n",
    "First, we are going to add some RDFS semantics, and inspect the graph as-is; this is also called the \"asserted graph\"\n",
    "\n",
    "**Exercise 1** \n",
    "1. add additional triples using the RDFS semantics: have a look [here](https://www.w3.org/TR/rdf-schema/), and use domain and range, subPropertyOf, propertyOf, and Class, to say more about the instances in your graph\n",
    "2. load yourRDF graph\n",
    "3. print the classes in your graph\n",
    "4. print the properties of a specific class in yourRDF graph\n",
    "5. print all instances in yourRDF graph (all objects that have a type) \n",
    "6. explain what constitutes a vocabulary in RDF"
   ]
  },
  {
   "cell_type": "code",
   "execution_count": null,
   "metadata": {},
   "outputs": [],
   "source": [
    "g = Graph()\n",
    "\n",
    "#example namespace\n",
    "EX = Namespace(\"https://example.org/\")\n",
    "\n",
    "# Add triples using store's add method.\n",
    "g.add( (EX.whale, RDF.type, EX.Mammalia) )\n",
    "g.add( (EX.whale, RDFS.label, Literal('whale'))) #in this example, the identifiers have human readable names, but these can also be arbitrary strings. rdfs:label makes these human-interpretable.  \n",
    "g.add( (EX.crocodile, RDF.type, EX.Amphibia) )\n",
    "g.add( (EX.Amphibia, RDFS.subClassOf, EX.Animalia) )\n",
    "g.add( (EX.whale, EX.eats, EX.crocodile) )\n",
    "\n",
    "g.serialize(destination=\"../data/yourRDF.ttl\")\n",
    "\n",
    "\n",
    "print(\"All classes:\")\n",
    "for objects in g.objects(None, RDF.type):\n",
    "    print(objects)\n",
    "    \n",
    "mammaliaProperty = list()\n",
    "for s,p,o in g.triples((None, RDF.type, EX.Mammalia)):\n",
    "\n",
    "    # now we check which predicates a mammalia class has \n",
    "    for s1,p1,o1 in g.triples((s,None,None)):\n",
    "        mammaliaProperty.append(p1)\n",
    "\n",
    "print(\"All properties of the Mammalia class:\", mammaliaProperty)\n",
    "\n",
    "print(\"All instances:\")\n",
    "for subjects in g.subjects(RDF.type, None):\n",
    "    print(subjects)"
   ]
  },
  {
   "cell_type": "markdown",
   "metadata": {},
   "source": [
    "6. explain what constitutes a vocabulary in RDF: \n",
    "[\"On the Semantic Web, vocabularies define the concepts and relationships (also referred to as “terms”) used to describe and represent an area of concern.\"](https://www.w3.org/standards/semanticweb/ontology)\n",
    "In our case, the example vocabulary describes classes and subclasses in the natural domain, and how they relate to one another (ex:eats))"
   ]
  },
  {
   "cell_type": "markdown",
   "metadata": {},
   "source": [
    "## RDFS inferencing\n",
    "\n",
    "The inference engine in owlrl is triggered by `DeductiveClosure`, which computes the closure of the graph. This requires us to specify under which semantic regime we want to perform the inference (e.g. what kind of rules under the RDFS, OWL, etc. semantics we want the reasoner to produce derivations on). For RDFS semantics we use `RDFS_Semantics` as parameter. See extra options [here](https://owl-rl.readthedocs.io/en/latest/stubs/owlrl.html#module-owlrl)\n",
    "\n",
    "\n",
    "**Exercise 2**\n",
    "1. expand the graph through RDFS semantics inference\n",
    "2. print how many triples the new graph has\n",
    "3. print out the triples in your new graph and inspect them. "
   ]
  },
  {
   "cell_type": "code",
   "execution_count": null,
   "metadata": {},
   "outputs": [],
   "source": [
    "e = Graph()\n",
    "e.parse(\"../data/yourRDF.ttl\")\n",
    "\n",
    "DeductiveClosure(RDFS_Semantics).expand(e)\n",
    "print(\"RDFS closure of the graph has {} triples, the initial graph had {}\".format(len(e), len(g)))\n",
    "\n",
    "for s,p,o in sorted(e.triples((None,None,None))):\n",
    "    if o != RDFS.Resource:\n",
    "        print(s,p,o)"
   ]
  },
  {
   "cell_type": "markdown",
   "metadata": {},
   "source": [
    "## The explicit (asserted) graph vs the implicit (derived) graph, and RDF entailment\n",
    "\n",
    "Asserted triples are those that are explicitly stated, while derived or inferred triples are those that are implicitly stated through the semantics of RDFS. \n",
    "\n",
    "**Exercise 3**\n",
    "\n",
    "1. Write here code to generate a graph that contains **RDFS derived triples only** from yourRDF Knowledge Graph, not the asserted ones. See a clue on rdflib graph algebra [here](https://rdflib.readthedocs.io/en/stable/merging.html)\n",
    "2. have a look at the inferred graph. Based on the RDFS semantics, explain for each triple the rule that was used to generate it.\n",
    "3. Explain the concept RDF entailment, and the types of entailment RDFS can produce\n"
   ]
  },
  {
   "cell_type": "code",
   "execution_count": null,
   "metadata": {},
   "outputs": [],
   "source": [
    "d = Graph()\n",
    "\n",
    "d = e - g\n",
    "\n",
    "print(\"RDFS inference generated additional {} triples\".format(len(d)))\n",
    "\n",
    "for s,p,o in sorted(d.triples((None,None,None))):\n",
    "    print(s,p,o)"
   ]
  },
  {
   "cell_type": "markdown",
   "metadata": {},
   "source": [
    "## Assignment part 2: your own webapplication. \n"
   ]
  },
  {
   "cell_type": "markdown",
   "metadata": {},
   "source": [
    "**Exercise 4**\n",
    "1. load ingredients.rdf and recipes.rdf in one graph. The graph contains types of individuals and types of relationships between them. Print all the classes and properties in the combined graph with the namespace `ind` and the `wtm` namespace/vocabulary (`http://purl.org/heals/food/`). \n",
    "\n",
    "2. extend the `ind` vocabulary (`http://purl.org/heals/ingredient/`) by creating a hierarchy of ingredients (**hint: http://purl.org/heals/ingredient/CoconutMilk rdf:subClassOf http://purl.org/heals/ingredient/PlantMilk), and make these superclasses human readable by giving them labels**) \n",
    "3. do the same for the `wtm` vocabulary: add a hierarchy of recipes as well as a hierarchy of properties (**hint: http://purl.org/heals/food/hasCookingTemperature rdf:subPropertyOf ...) \n",
    "4. print the entailed triples as we did in the previous exercise\n",
    "5. give three examples of how RDF semantics could aid the chefs in your restaurant \n",
    "    \n",
    "6. which properties and classes could you add to the `wtm` and `ind` vocabularies to further describe your recipe and ingredient knowledge graph, aiding the chefs in your restaurant?  \n"
   ]
  },
  {
   "cell_type": "code",
   "execution_count": null,
   "metadata": {},
   "outputs": [],
   "source": [
    "g = Graph()\n",
    "g.parse(\"data/ingredients.rdf\")\n",
    "g.parse(\"data/recipes.rdf\")\n",
    "\n",
    "\n",
    "ind = Namespace(\"http://purl.org/heals/ingredient/\")\n",
    "wtm = Namespace(\"http://purl.org/heals/food/\")\n",
    "\n",
    "classes = list()\n",
    "for ob in g.objects(None, RDF.type):\n",
    "  if ob in wtm or ob in ind: \n",
    "    classes.append(ob)\n",
    "    #print(\"these are the classes\") \n",
    "    #print(ob)\n",
    "    Property = list()\n",
    "    for s,p,o in g.triples((None, RDF.type, None)):\n",
    "      for s1,p1,o1 in g.triples((s,None,None)):\n",
    "        Property.append(p1)\n",
    "        #print(\"these are the properties\")\n",
    "        #print(p1)\n",
    "\n",
    "print(\"these are the classes\")        \n",
    "print(list(classes) )\n",
    "print(\"\")\n",
    "print(\"these are the properties\")\n",
    "print(list(Property))\n"
   ]
  },
  {
   "cell_type": "code",
   "execution_count": null,
   "metadata": {},
   "outputs": [],
   "source": [
    "#Extend ind vocabulary\n",
    "g.add( (ind.PlantMilk, RDFS.subClassOf, ind.ingredient) )\n",
    "g.add( (ind.CoconutMilk, RDFS.subClassOf, ind.PlantMilk) )\n",
    "\n",
    "\n",
    "g.add( (ind.Fruit, RDFS.subClassOf, ind.ingredient) )\n",
    "g.add ((ind.Banana, RDFS.subClassOf, ind.Fruit ))\n",
    "g.add ((ind.Blueberry, RDFS.subClassOf, ind.Fruit ))\n",
    "\n",
    "g.add( (ind.Vegetables, RDFS.subClassOf, ind.ingredient) )\n",
    "g.add ((ind.Potato, RDFS.subClassOf, ind.Vegetables ))\n",
    "g.add ((ind.Celery, RDFS.subClassOf, ind.Vegetables ))\n",
    "g.add ((ind.Cabbage, RDFS.subClassOf, ind.Vegetables ))\n",
    "g.add ((ind.Tomato, RDFS.subClassOf, ind.Vegetables ))\n",
    "\n",
    "g.add( (ind.Spice, RDFS.subClassOf, ind.ingredient) )\n",
    "g.add ((ind.Thyme, RDFS.subClassOf, ind.Spice ))\n",
    "g.add ((ind.Basil, RDFS.subClassOf, ind.Spice ))\n",
    "g.add ((ind.BlackPepper, RDFS.subClassOf, ind.Spice ))\n",
    "\n",
    "g.add( (ind.Fruit, RDFS.label, Literal('Fruit')))\n",
    "g.add( (ind.Vegetables, RDFS.label, Literal('Vegetables')))\n",
    "g.add( (ind.Spice, RDFS.label, Literal('Spice')))\n",
    "g.add( (ind.PlantMilk, RDFS.label, Literal('PlantMilk')))"
   ]
  },
  {
   "cell_type": "code",
   "execution_count": null,
   "metadata": {},
   "outputs": [],
   "source": [
    "#extednd wtm vocabulary\n",
    "g.add((wtm.Meal, RDF.type, RDFS.Class))\n",
    "g.add((wtm.Lunch, RDFS.subClassOf, wtm.Meal))\n",
    "g.add((wtm.Breakfast, RDFS.subClassOf, wtm.Meal))\n",
    "g.add((wtm.Dinner, RDFS.subClassOf, wtm.Meal))\n",
    "\n",
    "\n",
    "g.add( (wtm.hasGluten, RDFS.subPropertyOf, wtm.hasIngredient) )\n",
    "\n",
    "g.add(( wtm.procedure, RDF.type, RDF.Property))\n",
    "g.add(( wtm.hasCookTime, RDFS.subPropertyOf,wtm.procedure ))\n",
    "g.add(( wtm.hasCookingTemperature, RDFS.subPropertyOf,wtm.procedure ))"
   ]
  },
  {
   "cell_type": "code",
   "execution_count": null,
   "metadata": {},
   "outputs": [],
   "source": [
    "#print entailed triples\n",
    "e = Graph()\n",
    "e.parse(\"data/ingredients.rdf\")\n",
    "e.parse(\"data/recipes.rdf\")\n",
    "DeductiveClosure(RDFS_Semantics).expand(e)\n",
    "\n",
    "d = Graph()\n",
    "\n",
    "d = e - g\n",
    "\n",
    "print(\"RDFS inference generated additional {} triples\".format(len(d)))\n",
    "\n",
    "for s,p,o in sorted(d.triples((None,None,None))):\n",
    "    print(s,p,o)"
   ]
  },
  {
   "attachments": {},
   "cell_type": "markdown",
   "metadata": {},
   "source": [
    "**give three examples of how RDF semantics could aid the chefs in your restaurant**\n",
    "\n",
    "RDF semantics could aid the chefs as it could manage the informations easier. For instance, given the fresh ingredients that he has that day the chef could look for which recipes he could do.\n",
    "He could also easily make a menu that contains recipes for people with different allergies\n",
    "He could also build a class for each color anc then fill it with item ingredients of the same color. In this way he coul easily look for ingredients of a given color.\n",
    "\n",
    "**which properties and classes could you add to the wtm and ind vocabularies to further describe your recipe and ingredient knowledge graph, aiding the chefs in your restaurant?**\n",
    "\n",
    "Some classes could be added in order to make the access to the recipes easier an thus all the ingredients could be inserted in related subclasses. In addition to that new classes could be added, as to specify how much time does the recipe take to be prepared, or if it is a recipe specific to some particular event\n"
   ]
  },
  {
   "cell_type": "code",
   "execution_count": null,
   "metadata": {},
   "outputs": [],
   "source": []
  },
  {
   "cell_type": "code",
   "execution_count": null,
   "metadata": {},
   "outputs": [],
   "source": []
  }
 ],
 "metadata": {
  "kernelspec": {
   "display_name": "Python 3 (ipykernel)",
   "language": "python",
   "name": "python3"
  },
  "language_info": {
   "codemirror_mode": {
    "name": "ipython",
    "version": 3
   },
   "file_extension": ".py",
   "mimetype": "text/x-python",
   "name": "python",
   "nbconvert_exporter": "python",
   "pygments_lexer": "ipython3",
   "version": "3.10.13"
  },
  "vscode": {
   "interpreter": {
    "hash": "aee8b7b246df8f9039afb4144a1f6fd8d2ca17a180786b69acc140d282b71a49"
   }
  }
 },
 "nbformat": 4,
 "nbformat_minor": 4
}
