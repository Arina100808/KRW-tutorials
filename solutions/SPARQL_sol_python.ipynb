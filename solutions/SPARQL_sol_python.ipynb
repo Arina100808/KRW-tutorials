{
 "cells": [
  {
   "attachments": {},
   "cell_type": "markdown",
   "metadata": {},
   "source": [
    "## SPARQL exercises\n",
    "\n",
    "Below two exercises that let you explore querying with SPARQL. \n",
    "\n",
    "In SPARQL, you have four query types: \n",
    "1. SELECT: Return matches as a collection of solution bindings.\n",
    "2. CONSTRUCT: Create RDF triples from matches.\n",
    "3. DESCRIBE: Create RDF triples about a resource.\n",
    "4. ASK: Check if at least one match exists."
   ]
  },
  {
   "attachments": {},
   "cell_type": "markdown",
   "metadata": {},
   "source": [
    "## SPARQL exercises\n",
    "\n",
    "Below two exercises that let you explore querying with SPARQL. \n",
    "\n",
    "In SPARQL, you have four query types: \n",
    "1. SELECT: Return matches as a collection of solution bindings.\n",
    "2. CONSTRUCT: Create RDF triples from matches.\n",
    "3. DESCRIBE: Create RDF triples about a resource.\n",
    "4. ASK: Check if at least one match exists."
   ]
  },
  {
   "attachments": {},
   "cell_type": "markdown",
   "metadata": {},
   "source": [
    "**Exercise 1**\n",
    "\n",
    "1. Load the recipe.rdf and ingredient.rdf into GraphDB and start the SPARQL service (or you will not be able to query it)\n",
    "    - tip: load both in a separate named graph, one named graph for ingredients, and one for recipes.  \n",
    "2. Perform the following queries:\n",
    "    - SELECT all recipes and their descriptions, ordered alphabetically\n",
    "    - SELECT all recipes meant for dinner\n",
    "    - SELECT the recipes that contain the most number of ingredients  \n",
    "    - ASK if there is any recipe that has a glycemic index of exactly 5. \n",
    "    - SELECT recipes that have less than 30 minutes cooking time\n",
    "    \n",
    "**Construct queries:** Since a CONSTRUCT query (example below) constructs a graph, and therefor outputs triples instead of a table, you can use it to generate a modified version of the graph, but also to visualise a subgraph. In GraphDB, after running a CONSTRUCT query in the GraphDB SPARQL service, you can select 'Visual' in the lower right corner. \n",
    "\n",
    "   - try to visualise an interesting part of the graph: for example a single gluten-free recipe and its ingredients \n",
    "In the WHERE part of the query, all subjects ?s and objects ?o will be retrieved that are connected with the property wtm:hasIngredient. The CONSTRUCT part will take ?s and ?o and create a new graph, by again connecting ?s and ?o with wtm:hasIngredient. If you want to create a graph with a _new_ property, you can also do this by replacing the property in the CONSTRUCT part with another one. \n",
    "\n",
    "\n",
    "CONSTRUCT { ?s wtm:hasIngredient ?o } \n",
    "WHERE { ?s wtm:hasIngredient ?o }\n",
    "\n"
   ]
  },
  {
   "cell_type": "code",
   "execution_count": null,
   "metadata": {
    "ExecuteTime": {
     "start_time": "2024-03-01T10:21:13.409881Z",
     "end_time": "2024-03-01T10:21:14.095303Z"
    }
   },
   "outputs": [],
   "source": [
    "from ast import arg\n",
    "from rdflib import Graph, RDFS, RDF, URIRef, Namespace, Literal, XSD\n",
    "from owlrl import DeductiveClosure, RDFS_Semantics\n",
    "import random, sys\n",
    "import sys\n",
    "import os\n",
    "import pandas as pd\n",
    "from string import Template\n",
    "import re\n",
    "import json"
   ]
  },
  {
   "cell_type": "code",
   "execution_count": null,
   "metadata": {},
   "outputs": [],
   "source": [
    "def Query1(graph):\n",
    "    res = graph.query(\"\"\"\n",
    "select ?label where { \n",
    "\t?s rdf:type wtm:Ingredient .\n",
    "    ?s rdfs:label ?label \n",
    "    } order by asc(?label)\n",
    "    \"\"\", initNs={'wtm': 'http://purl.org/heals/food/', 'rdf': 'http://www.w3.org/1999/02/22-rdf-syntax-ns#', 'rdfs': 'http://www.w3.org/2000/01/rdf-schema#'})\n",
    "\n",
    "    return list(res)\n",
    "\n",
    "\n",
    "\n",
    "\n",
    "\n",
    "def Query2(graph):\n",
    "    res = graph.query(\"\"\"\n",
    "select * where { \n",
    "    ?s wtm:isRecommendedForMeal wtm:Dinner, wtm:Lunch\n",
    "} \n",
    "    \"\"\", initNs={'wtm': 'http://purl.org/heals/food/', 'rdf': 'http://www.w3.org/1999/02/22-rdf-syntax-ns#', 'rdfs': 'http://www.w3.org/2000/01/rdf-schema#'})\n",
    "\n",
    "    return list(res)\n",
    "\n",
    "\n",
    "def Query3(graph):\n",
    "    res = graph.query(\"\"\"\n",
    "select ?s  (count(?o) AS ?count)\n",
    "where { \n",
    "    ?s wtm:hasIngredient ?o .\n",
    "} group by (?s)\n",
    "having (?count > 9)\n",
    "    \"\"\", initNs={'wtm': 'http://purl.org/heals/food/', 'rdf': 'http://www.w3.org/1999/02/22-rdf-syntax-ns#', 'rdfs': 'http://www.w3.org/2000/01/rdf-schema#'})\n",
    "\n",
    "    return list(res)\n",
    "\n",
    "\n",
    "\n",
    "def Query4(graph):\n",
    "    res = graph.query(\"\"\"\n",
    "ASK {\n",
    "    SELECT ?s (SUM(xsd:double(?g)) as ?sum)  WHERE { \n",
    "        ?s wtm:hasIngredient ?i . \n",
    "        ?i  wtm:hasGlycemicIndex ?g .  \n",
    "\t} group by ?s\n",
    "\thaving (?sum > xsd:double(\"300\")) \n",
    "}\n",
    "\n",
    "    \"\"\", initNs={'wtm': 'http://purl.org/heals/food/', 'rdf': 'http://www.w3.org/1999/02/22-rdf-syntax-ns#', 'rdfs': 'http://www.w3.org/2000/01/rdf-schema#', 'xsd': 'http://www.w3.org/2001/XMLSchema#'})\n",
    "\n",
    "    return list(res)\n",
    "\n",
    "\n",
    "\n",
    "def Query5(graph):\n",
    "    res = graph.query(\"\"\"\n",
    "select * where { \n",
    "\t?s wtm:hasCookTime ?o .\n",
    "    FILTER(?o < 30)\n",
    "}\n",
    "    \"\"\", initNs={'wtm': 'http://purl.org/heals/food/', 'rdf': 'http://www.w3.org/1999/02/22-rdf-syntax-ns#', 'rdfs': 'http://www.w3.org/2000/01/rdf-schema#'})\n",
    "\n",
    "    return list(res)\n",
    "\n",
    "\n",
    "\n",
    "def Query6(graph):\n",
    "    res = graph.query(\"\"\"\n",
    "CONSTRUCT \n",
    "\t{ ?r wtm:hasIngredient ?i } \n",
    "WHERE {\n",
    "    \n",
    "    ?r wtm:hasIngredient ?i . \n",
    "    \n",
    "    {\n",
    "        SELECT ?r {\n",
    "        ?r wtm:hasIngredient ?i . \n",
    "        MINUS { ?r wtm:hasIngredient/wtm:hasGluten True }   \n",
    "        } LIMIT 1\n",
    "    } \n",
    "} \n",
    "\n",
    "    \"\"\", initNs={'wtm': 'http://purl.org/heals/food/', 'rdf': 'http://www.w3.org/1999/02/22-rdf-syntax-ns#', 'rdfs': 'http://www.w3.org/2000/01/rdf-schema#'})\n",
    "\n",
    "    return list(res)\n",
    "\n"
   ]
  },
  {
   "cell_type": "code",
   "execution_count": null,
   "metadata": {},
   "outputs": [],
   "source": [
    "g = Graph()\n",
    "g.parse(\"../data/ingredients.rdf\")\n",
    "g.parse(\"../data/recipes.rdf\")\n",
    "\n",
    "\n",
    "\n",
    "\n",
    "Query5(g)"
   ]
  },
  {
   "attachments": {},
   "cell_type": "markdown",
   "metadata": {},
   "source": [
    "**Exercise 2**\n",
    "1. Explore the [LMDB](https://triplydb.com/Triply/linkedmdb) dataset\n",
    "2. Perform the following queries:\n",
    "    - How many classes are there? \n",
    "    - Which are the distinguishing properties of a <https://triplydb.com/Triply/linkedmdb/vocab/Film> class?\n",
    "    - What is the IRI of “Tom Hanks (Actor)” ?\n",
    "    - Can you find the 5 actors that performed in most movies directed by \"Guillermo del Toro (Director)\"?, and the name of these movies?\n",
    "    - Can you find the IRI of movies and with their DBpedia correspondent IRI?"
   ]
  },
  {
   "cell_type": "code",
   "execution_count": null,
   "metadata": {
    "ExecuteTime": {
     "start_time": "2024-02-29T17:20:18.053190Z",
     "end_time": "2024-02-29T17:20:21.692400Z"
    }
   },
   "outputs": [],
   "source": [
    "def Query1(graph):\n",
    "    res = graph.query(\"\"\"\n",
    "SELECT DISTINCT ?o\n",
    "WHERE\n",
    "{\n",
    "  SERVICE <https://api.triplydb.com/datasets/Triply/linkedmdb/services/linkedmdb/sparql> {\n",
    "    ?s a ?o . }\n",
    "}\n",
    "LIMIT 1000\n",
    "    \"\"\", initNs={'lmdb': 'https://triplydb.com/Triply/linkedmdb/vocab/', 'rdf': 'http://www.w3.org/1999/02/22-rdf-syntax-ns#', 'rdfs': 'http://www.w3.org/2000/01/rdf-schema#'})\n",
    "\n",
    "    return list(res)\n",
    "\n",
    "\n",
    "d = Graph()\n",
    "\n",
    "Query1(d)"
   ]
  },
  {
   "cell_type": "code",
   "execution_count": null,
   "outputs": [],
   "source": [
    "def Query2(graph):\n",
    "    res = graph.query(\"\"\"\n",
    "SELECT ?o ?s\n",
    "WHERE\n",
    "{\n",
    "  SERVICE <https://api.triplydb.com/datasets/Triply/linkedmdb/services/linkedmdb/sparql> {\n",
    "    lmdb:Film ?o ?s . }\n",
    "}\n",
    "    \"\"\", initNs={'lmdb': 'https://triplydb.com/Triply/linkedmdb/vocab/', 'rdf': 'http://www.w3.org/1999/02/22-rdf-syntax-ns#', 'rdfs': 'http://www.w3.org/2000/01/rdf-schema#'})\n",
    "\n",
    "    return list(res)\n",
    "\n",
    "\n",
    "d = Graph()\n",
    "\n",
    "Query2(d)"
   ],
   "metadata": {
    "collapsed": false,
    "ExecuteTime": {
     "start_time": "2024-02-29T16:18:08.018630Z",
     "end_time": "2024-02-29T16:18:08.378864Z"
    }
   }
  },
  {
   "cell_type": "code",
   "execution_count": null,
   "outputs": [],
   "source": [
    "def Query3(graph):\n",
    "    res = graph.query(\"\"\"\n",
    "SELECT ?actor (COUNT(DISTINCT ?film) as ?count) (GROUP_CONCAT(DISTINCT ?film; SEPARATOR=\", \") AS ?films)\n",
    "WHERE\n",
    "{\n",
    "  SERVICE <https://api.triplydb.com/datasets/Triply/linkedmdb/services/linkedmdb/sparql> {\n",
    "    ?film_id a lmdb:Film ;\n",
    "        lmdb:actor/rdfs:label ?actor ;\n",
    "        lmdb:director/rdfs:label \"Guillermo del Toro (Director)\";\n",
    "        rdfs:label ?film .}\n",
    "}\n",
    "GROUP BY ?actor\n",
    "ORDER BY DESC (COUNT(DISTINCT ?film))\n",
    "LIMIT 5\n",
    "    \"\"\", initNs={'lmdb': 'https://triplydb.com/Triply/linkedmdb/vocab/', 'rdf': 'http://www.w3.org/1999/02/22-rdf-syntax-ns#', 'rdfs': 'http://www.w3.org/2000/01/rdf-schema#'})\n",
    "\n",
    "    return list(res)\n",
    "\n",
    "\n",
    "d = Graph()\n",
    "\n",
    "Query3(d)"
   ],
   "metadata": {
    "collapsed": false,
    "ExecuteTime": {
     "start_time": "2024-03-01T11:37:39.792232Z",
     "end_time": "2024-03-01T11:37:40.091535Z"
    }
   }
  },
  {
   "cell_type": "code",
   "execution_count": null,
   "outputs": [],
   "source": [
    "def Query4(graph):\n",
    "    res = graph.query(\"\"\"\n",
    "SELECT *\n",
    "WHERE\n",
    "{\n",
    "  SERVICE <https://api.triplydb.com/datasets/Triply/linkedmdb/services/linkedmdb/sparql> {\n",
    "    ?s rdfs:label \"Tom Hanks (Actor)\" .\n",
    "    }\n",
    "}\n",
    "    \"\"\", initNs={'rdf': 'http://www.w3.org/1999/02/22-rdf-syntax-ns#', 'rdfs': 'http://www.w3.org/2000/01/rdf-schema#'})\n",
    "\n",
    "    return list(res)\n",
    "\n",
    "\n",
    "d = Graph()\n",
    "\n",
    "Query4(d)"
   ],
   "metadata": {
    "collapsed": false,
    "ExecuteTime": {
     "start_time": "2024-03-01T11:49:39.406078Z",
     "end_time": "2024-03-01T11:49:39.690324Z"
    }
   }
  },
  {
   "cell_type": "code",
   "execution_count": null,
   "outputs": [],
   "source": [
    "def Query5(graph):\n",
    "    res = graph.query(\"\"\"\n",
    "SELECT *\n",
    "WHERE\n",
    "{\n",
    "  SERVICE <https://api.triplydb.com/datasets/Triply/linkedmdb/services/linkedmdb/sparql> {\n",
    "    ?lmdb_iri a lmdb:Film ;\n",
    "        owl:sameAs ?other_iri .\n",
    "        }\n",
    "    FILTER(STRSTARTS(STR(?other_iri), \"http://dbpedia.org/resource/\"))\n",
    "}\n",
    "    \"\"\", initNs={'owl': 'http://www.w3.org/2002/07/owl#', 'lmdb': 'https://triplydb.com/Triply/linkedmdb/vocab/', 'rdf': 'http://www.w3.org/1999/02/22-rdf-syntax-ns#', 'rdfs': 'http://www.w3.org/2000/01/rdf-schema#'})\n",
    "\n",
    "    return list(res)\n",
    "\n",
    "\n",
    "d = Graph()\n",
    "\n",
    "Query5(d)"
   ],
   "metadata": {
    "collapsed": false,
    "ExecuteTime": {
     "start_time": "2024-02-29T17:47:55.977375Z",
     "end_time": "2024-02-29T17:47:58.173143Z"
    }
   }
  }
 ],
 "metadata": {
  "kernelspec": {
   "display_name": "Python 3 (ipykernel)",
   "language": "python",
   "name": "python3"
  },
  "language_info": {
   "codemirror_mode": {
    "name": "ipython",
    "version": 3
   },
   "file_extension": ".py",
   "mimetype": "text/x-python",
   "name": "python",
   "nbconvert_exporter": "python",
   "pygments_lexer": "ipython3",
   "version": "3.10.13"
  },
  "vscode": {
   "interpreter": {
    "hash": "aee8b7b246df8f9039afb4144a1f6fd8d2ca17a180786b69acc140d282b71a49"
   }
  }
 },
 "nbformat": 4,
 "nbformat_minor": 4
}
