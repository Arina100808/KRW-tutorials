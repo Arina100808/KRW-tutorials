{
 "cells": [
  {
   "cell_type": "markdown",
   "metadata": {},
   "source": [
    "# Knowledge Representation on the Web -- RDFS tutorial\n",
    "\n",
    "Here we'll learn the basics of RDFS (RDF Schema) and how to perform basic RDFS reasoning with rdflib (documentation [here](https://rdflib.readthedocs.io/en/stable/)) and owlrl (documentation [here](https://owl-rl.readthedocs.io/en/latest/))."
   ]
  },
  {
   "cell_type": "markdown",
   "metadata": {},
   "source": [
    "## Imports\n",
    "\n",
    "owlrl is a library implementing basic RDFS and OWL reasoning on top of rdflib. We'll install and import its relevant symbols."
   ]
  },
  {
   "cell_type": "code",
   "execution_count": 6,
   "metadata": {},
   "outputs": [
    {
     "name": "stdout",
     "output_type": "stream",
     "text": [
      "Requirement already satisfied: rdflib in /Users/lisestork/anaconda3/lib/python3.7/site-packages (6.1.1)\n",
      "Requirement already satisfied: owlrl in /Users/lisestork/anaconda3/lib/python3.7/site-packages (6.0.2)\n",
      "Requirement already satisfied: setuptools in /Users/lisestork/anaconda3/lib/python3.7/site-packages (from rdflib) (46.0.0.post20200308)\n",
      "Requirement already satisfied: importlib-metadata; python_version < \"3.8.0\" in /Users/lisestork/anaconda3/lib/python3.7/site-packages (from rdflib) (1.5.0)\n",
      "Requirement already satisfied: pyparsing in /Users/lisestork/anaconda3/lib/python3.7/site-packages (from rdflib) (2.4.6)\n",
      "Requirement already satisfied: isodate in /Users/lisestork/anaconda3/lib/python3.7/site-packages (from rdflib) (0.6.0)\n",
      "Requirement already satisfied: zipp>=0.5 in /Users/lisestork/anaconda3/lib/python3.7/site-packages (from importlib-metadata; python_version < \"3.8.0\"->rdflib) (2.2.0)\n",
      "Requirement already satisfied: six in /Users/lisestork/anaconda3/lib/python3.7/site-packages (from isodate->rdflib) (1.14.0)\n"
     ]
    }
   ],
   "source": [
    "import sys\n",
    "!{sys.executable} -m pip install rdflib owlrl\n",
    "\n",
    "from rdflib import Graph, RDFS, RDF, URIRef, Namespace, Literal\n",
    "from owlrl import DeductiveClosure, RDFS_Semantics"
   ]
  },
  {
   "cell_type": "markdown",
   "metadata": {},
   "source": [
    "## Loading RDFS graphs\n",
    "\n",
    "Your file `yourRDF.ttl` already contains a basic Knowledge Graph in RDF with some RDFS semantics\n",
    "\n",
    "First, we are going to add some RDFS semantics, and inspect the graph as-is; this is also called the \"asserted graph\"\n",
    "\n",
    "**Exercise 1** \n",
    "1. add additional triples using the RDFS semantics: have a look [here](https://www.w3.org/TR/rdf-schema/), and use domain and range, subPropertyOf, propertyOf, and Class, to say more about the instances in your graph\n",
    "2. load yourRDF graph\n",
    "3. print the classes in your graph\n",
    "4. print the properties of a specific class in yourRDF graph\n",
    "5. print all instances in yourRDF graph (all objects that have a type) \n",
    "6. explain what constitutes a vocabulary in RDF"
   ]
  },
  {
   "cell_type": "code",
   "execution_count": 38,
   "metadata": {},
   "outputs": [
    {
     "name": "stdout",
     "output_type": "stream",
     "text": [
      "All classes:\n",
      "https://example.org/Mammalia\n",
      "https://example.org/Amphibia\n",
      "All properties of the Mammalia class: [rdflib.term.URIRef('http://www.w3.org/1999/02/22-rdf-syntax-ns#type'), rdflib.term.URIRef('http://www.w3.org/2000/01/rdf-schema#label'), rdflib.term.URIRef('https://example.org/eats')]\n",
      "All instances:\n",
      "https://example.org/whale\n",
      "https://example.org/crocodile\n"
     ]
    }
   ],
   "source": [
    "g = Graph()\n",
    "\n",
    "#example namespace\n",
    "EX = Namespace(\"https://example.org/\")\n",
    "\n",
    "# Add triples using store's add method.\n",
    "g.add( (EX.whale, RDF.type, EX.Mammalia) )\n",
    "g.add( (EX.whale, RDFS.label, Literal('whale'))) #in this example, the identifiers have human readable names, but these can also be arbitrary strings. rdfs:label makes these human-interpretable.  \n",
    "g.add( (EX.crocodile, RDF.type, EX.Amphibia) )\n",
    "g.add( (EX.Amphibia, RDFS.subClassOf, EX.Animalia) )\n",
    "g.add( (EX.whale, EX.eats, EX.crocodile) )\n",
    "\n",
    "g.serialize(destination=\"../data/yourRDF.ttl\")\n",
    "\n",
    "\n",
    "print(\"All classes:\")\n",
    "for objects in g.objects(None, RDF.type):\n",
    "    print(objects)\n",
    "    \n",
    "mammaliaProperty = list()\n",
    "for s,p,o in g.triples((None, RDF.type, EX.Mammalia)):\n",
    "\n",
    "    # now we check which predicates a mammalia class has \n",
    "    for s1,p1,o1 in g.triples((s,None,None)):\n",
    "        mammaliaProperty.append(p1)\n",
    "\n",
    "print(\"All properties of the Mammalia class:\", mammaliaProperty)\n",
    "\n",
    "print(\"All instances:\")\n",
    "for subjects in g.subjects(RDF.type, None):\n",
    "    print(subjects)"
   ]
  },
  {
   "cell_type": "markdown",
   "metadata": {},
   "source": [
    "6. explain what constitutes a vocabulary in RDF: \n",
    "[\"On the Semantic Web, vocabularies define the concepts and relationships (also referred to as “terms”) used to describe and represent an area of concern.\"](https://www.w3.org/standards/semanticweb/ontology)\n",
    "In our case, the example vocabulary describes classes and subclasses in the natural domain, and how they relate to one another (ex:eats))"
   ]
  },
  {
   "cell_type": "markdown",
   "metadata": {},
   "source": [
    "## RDFS inferencing\n",
    "\n",
    "The inference engine in owlrl is triggered by `DeductiveClosure`, which computes the closure of the graph. This requires us to specify under which semantic regime we want to perform the inference (e.g. what kind of rules under the RDFS, OWL, etc. semantics we want the reasoner to produce derivations on). For RDFS semantics we use `RDFS_Semantics` as parameter. See extra options [here](https://owl-rl.readthedocs.io/en/latest/stubs/owlrl.html#module-owlrl)\n",
    "\n",
    "\n",
    "**Exercise 2**\n",
    "1. expand the graph through RDFS semantics inference\n",
    "2. print how many triples the new graph has\n",
    "3. print out the triples in your new graph and inspect them. "
   ]
  },
  {
   "cell_type": "code",
   "execution_count": 39,
   "metadata": {},
   "outputs": [
    {
     "name": "stdout",
     "output_type": "stream",
     "text": [
      "RDFS closure of the graph has 22 triples, the initial graph had 5\n",
      "http://www.w3.org/1999/02/22-rdf-syntax-ns#type http://www.w3.org/1999/02/22-rdf-syntax-ns#type http://www.w3.org/1999/02/22-rdf-syntax-ns#Property\n",
      "http://www.w3.org/1999/02/22-rdf-syntax-ns#type http://www.w3.org/2000/01/rdf-schema#subPropertyOf http://www.w3.org/1999/02/22-rdf-syntax-ns#type\n",
      "http://www.w3.org/2000/01/rdf-schema#label http://www.w3.org/1999/02/22-rdf-syntax-ns#type http://www.w3.org/1999/02/22-rdf-syntax-ns#Property\n",
      "http://www.w3.org/2000/01/rdf-schema#label http://www.w3.org/2000/01/rdf-schema#subPropertyOf http://www.w3.org/2000/01/rdf-schema#label\n",
      "http://www.w3.org/2000/01/rdf-schema#subClassOf http://www.w3.org/1999/02/22-rdf-syntax-ns#type http://www.w3.org/1999/02/22-rdf-syntax-ns#Property\n",
      "http://www.w3.org/2000/01/rdf-schema#subClassOf http://www.w3.org/2000/01/rdf-schema#subPropertyOf http://www.w3.org/2000/01/rdf-schema#subClassOf\n",
      "http://www.w3.org/2000/01/rdf-schema#subPropertyOf http://www.w3.org/1999/02/22-rdf-syntax-ns#type http://www.w3.org/1999/02/22-rdf-syntax-ns#Property\n",
      "http://www.w3.org/2000/01/rdf-schema#subPropertyOf http://www.w3.org/2000/01/rdf-schema#subPropertyOf http://www.w3.org/2000/01/rdf-schema#subPropertyOf\n",
      "https://example.org/Amphibia http://www.w3.org/2000/01/rdf-schema#subClassOf https://example.org/Animalia\n",
      "https://example.org/crocodile http://www.w3.org/1999/02/22-rdf-syntax-ns#type https://example.org/Amphibia\n",
      "https://example.org/crocodile http://www.w3.org/1999/02/22-rdf-syntax-ns#type https://example.org/Animalia\n",
      "https://example.org/eats http://www.w3.org/1999/02/22-rdf-syntax-ns#type http://www.w3.org/1999/02/22-rdf-syntax-ns#Property\n",
      "https://example.org/eats http://www.w3.org/2000/01/rdf-schema#subPropertyOf https://example.org/eats\n",
      "https://example.org/whale http://www.w3.org/1999/02/22-rdf-syntax-ns#type https://example.org/Mammalia\n",
      "https://example.org/whale http://www.w3.org/2000/01/rdf-schema#label whale\n",
      "https://example.org/whale https://example.org/eats https://example.org/crocodile\n"
     ]
    }
   ],
   "source": [
    "e = Graph()\n",
    "e.parse(\"../data/yourRDF.ttl\")\n",
    "\n",
    "DeductiveClosure(RDFS_Semantics).expand(e)\n",
    "print(\"RDFS closure of the graph has {} triples, the initial graph had {}\".format(len(e), len(g)))\n",
    "\n",
    "for s,p,o in sorted(e.triples((None,None,None))):\n",
    "    if o != RDFS.Resource:\n",
    "        print(s,p,o)"
   ]
  },
  {
   "cell_type": "markdown",
   "metadata": {},
   "source": [
    "## The explicit (asserted) graph vs the implicit (derived) graph, and RDF entailment\n",
    "\n",
    "Asserted triples are those that are explicitly stated, while derived or inferred triples are those that are implicitly stated through the semantics of RDFS. \n",
    "\n",
    "**Exercise 3**\n",
    "\n",
    "1. Write here code to generate a graph that contains **RDFS derived triples only** from yourRDF Knowledge Graph, not the asserted ones. See a clue on rdflib graph algebra [here](https://rdflib.readthedocs.io/en/stable/merging.html)\n",
    "2. have a look at the inferred graph. Based on the RDFS semantics, explain for each triple the rule that was used to generate it.\n",
    "3. Explain the concept RDF entailment, and the types of entailment RDFS can produce\n"
   ]
  },
  {
   "cell_type": "code",
   "execution_count": 44,
   "metadata": {},
   "outputs": [
    {
     "name": "stdout",
     "output_type": "stream",
     "text": [
      "RDFS inference generated additional 17 triples\n",
      "http://www.w3.org/1999/02/22-rdf-syntax-ns#type http://www.w3.org/1999/02/22-rdf-syntax-ns#type http://www.w3.org/1999/02/22-rdf-syntax-ns#Property\n",
      "http://www.w3.org/1999/02/22-rdf-syntax-ns#type http://www.w3.org/2000/01/rdf-schema#subPropertyOf http://www.w3.org/1999/02/22-rdf-syntax-ns#type\n",
      "http://www.w3.org/2000/01/rdf-schema#label http://www.w3.org/1999/02/22-rdf-syntax-ns#type http://www.w3.org/1999/02/22-rdf-syntax-ns#Property\n",
      "http://www.w3.org/2000/01/rdf-schema#label http://www.w3.org/2000/01/rdf-schema#subPropertyOf http://www.w3.org/2000/01/rdf-schema#label\n",
      "http://www.w3.org/2000/01/rdf-schema#subClassOf http://www.w3.org/1999/02/22-rdf-syntax-ns#type http://www.w3.org/1999/02/22-rdf-syntax-ns#Property\n",
      "http://www.w3.org/2000/01/rdf-schema#subClassOf http://www.w3.org/2000/01/rdf-schema#subPropertyOf http://www.w3.org/2000/01/rdf-schema#subClassOf\n",
      "http://www.w3.org/2000/01/rdf-schema#subPropertyOf http://www.w3.org/1999/02/22-rdf-syntax-ns#type http://www.w3.org/1999/02/22-rdf-syntax-ns#Property\n",
      "http://www.w3.org/2000/01/rdf-schema#subPropertyOf http://www.w3.org/2000/01/rdf-schema#subPropertyOf http://www.w3.org/2000/01/rdf-schema#subPropertyOf\n",
      "https://example.org/Amphibia http://www.w3.org/1999/02/22-rdf-syntax-ns#type http://www.w3.org/2000/01/rdf-schema#Resource\n",
      "https://example.org/Animalia http://www.w3.org/1999/02/22-rdf-syntax-ns#type http://www.w3.org/2000/01/rdf-schema#Resource\n",
      "https://example.org/Mammalia http://www.w3.org/1999/02/22-rdf-syntax-ns#type http://www.w3.org/2000/01/rdf-schema#Resource\n",
      "https://example.org/crocodile http://www.w3.org/1999/02/22-rdf-syntax-ns#type http://www.w3.org/2000/01/rdf-schema#Resource\n",
      "https://example.org/crocodile http://www.w3.org/1999/02/22-rdf-syntax-ns#type https://example.org/Animalia\n",
      "https://example.org/eats http://www.w3.org/1999/02/22-rdf-syntax-ns#type http://www.w3.org/1999/02/22-rdf-syntax-ns#Property\n",
      "https://example.org/eats http://www.w3.org/2000/01/rdf-schema#subPropertyOf https://example.org/eats\n",
      "https://example.org/whale http://www.w3.org/1999/02/22-rdf-syntax-ns#type http://www.w3.org/2000/01/rdf-schema#Resource\n",
      "whale http://www.w3.org/1999/02/22-rdf-syntax-ns#type http://www.w3.org/2000/01/rdf-schema#Resource\n"
     ]
    }
   ],
   "source": [
    "d = Graph()\n",
    "\n",
    "d = e - g\n",
    "\n",
    "print(\"RDFS inference generated additional {} triples\".format(len(d)))\n",
    "\n",
    "for s,p,o in sorted(d.triples((None,None,None))):\n",
    "    print(s,p,o)"
   ]
  },
  {
   "cell_type": "markdown",
   "metadata": {},
   "source": [
    "## Assignment part 2: your own webapplication. \n"
   ]
  },
  {
   "cell_type": "markdown",
   "metadata": {},
   "source": [
    "**Exercise 4**\n",
    "1. load ingredients.rdf and recipes.rdf in one graph. The graph contains types of individuals and types of relationships between them. Print all the classes and properties in the combined graph with the namespace `ind` and the `wtm` namespace/vocabulary (`http://purl.org/heals/food/`). \n",
    "\n",
    "2. extend the `ind` vocabulary (`http://purl.org/heals/ingredient/`) by creating a hierarchy of ingredients (**hint: http://purl.org/heals/ingredient/CoconutMilk rdf:subClassOf http://purl.org/heals/ingredient/PlantMilk), and make these superclasses human readable by giving them labels**) \n",
    "3. do the same for the `wtm` vocabulary: add a hierarchy of recipes as well as a hierarchy of properties (**hint: http://purl.org/heals/food/hasCookingTemperature rdf:subPropertyOf ...) \n",
    "4. print the entailed triples as we did in the previous exercise\n",
    "5. give three examples of how RDF semantics could aid the chefs in your restaurant \n",
    "    \n",
    "6. which properties and classes could you add to the `wtm` and `ind` vocabularies to further describe your recipe and ingredient knowledge graph, aiding the chefs in your restaurant?  \n"
   ]
  }
 ],
 "metadata": {
  "kernelspec": {
   "display_name": "Python 3 (ipykernel)",
   "language": "python",
   "name": "python3"
  },
  "language_info": {
   "codemirror_mode": {
    "name": "ipython",
    "version": 3
   },
   "file_extension": ".py",
   "mimetype": "text/x-python",
   "name": "python",
   "nbconvert_exporter": "python",
   "pygments_lexer": "ipython3",
   "version": "3.9.12"
  }
 },
 "nbformat": 4,
 "nbformat_minor": 2
}
