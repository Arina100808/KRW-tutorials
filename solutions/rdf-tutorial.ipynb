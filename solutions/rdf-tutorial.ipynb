{
 "cells": [
  {
   "cell_type": "markdown",
   "metadata": {},
   "source": [
    "# Knowledge Representation on the Web -- RDF tutorial\n",
    "\n",
    "In this tutorial we'll learn the basics of interacting with RDF graphs with Python. We'll be using rdflib for this, a widely used Ptyhon library for RDF (all documentation can be found [here](https://rdflib.readthedocs.io/en/stable/index.html))"
   ]
  },
  {
   "cell_type": "markdown",
   "metadata": {},
   "source": [
    "1. can not parse \"https://csarven.ca/\" -> add format=\"n3\"\n",
    "2. hadAge not in foaf namespace -> changed to foaf:age\n",
    "3. Teacher not in foaf namespace -> changed to TEACH:Teacher, and added a section on adding a new namespace"
   ]
  },
  {
   "cell_type": "markdown",
   "metadata": {},
   "source": [
    "## Imports\n",
    "These are the main classes and types we'll be using from rdflib"
   ]
  },
  {
   "cell_type": "code",
   "execution_count": 2,
   "metadata": {},
   "outputs": [
    {
     "name": "stdout",
     "output_type": "stream",
     "text": [
      "Requirement already satisfied: rdflib in /Users/lisestork/anaconda3/lib/python3.7/site-packages (5.0.0)\r\n",
      "Requirement already satisfied: pyparsing in /Users/lisestork/anaconda3/lib/python3.7/site-packages (from rdflib) (2.4.6)\r\n",
      "Requirement already satisfied: isodate in /Users/lisestork/anaconda3/lib/python3.7/site-packages (from rdflib) (0.6.0)\r\n",
      "Requirement already satisfied: six in /Users/lisestork/anaconda3/lib/python3.7/site-packages (from rdflib) (1.14.0)\r\n"
     ]
    }
   ],
   "source": [
    "import sys\n",
    "!{sys.executable} -m pip install rdflib\n",
    "\n",
    "from rdflib import Graph, ConjunctiveGraph, Literal, BNode, Namespace, RDF, URIRef\n",
    "from rdflib.namespace import DC, FOAF\n",
    "\n",
    "import pprint\n"
   ]
  },
  {
   "cell_type": "markdown",
   "metadata": {},
   "source": [
    "## Loading data remotely and from files\n",
    "\n",
    "rdflib accepts importing RDF data from a variety of sources, either locally from a file (including an extensive support of serializations), or remotely via a URI (this is a great way of checking practically if URIs return RDF according to the 3rd Linked Data principle).\n",
    "\n",
    "A Graph object is always required to load triples.\n",
    "**Note**: to load quads, and hence supporting named graphs, you'll need to use an instance of ConjunctiveGraph instead\n"
   ]
  },
  {
   "cell_type": "code",
   "execution_count": 5,
   "metadata": {},
   "outputs": [
    {
     "name": "stdout",
     "output_type": "stream",
     "text": [
      "Graph has 86 statements.\n",
      "Graph has 522 statements.\n",
      "Graph has 837 statements.\n"
     ]
    }
   ],
   "source": [
    "g = Graph()\n",
    "h = Graph()\n",
    "f = Graph()\n",
    "\n",
    "result = g.parse(\"http://www.w3.org/People/Berners-Lee/card\")\n",
    "\n",
    "result2 = h.parse(\"https://csarven.ca/\", format=\"n3\")\n",
    "\n",
    "result3 = f.parse(\"../data/ingredients.rdf\")\n",
    "\n",
    "print(\"Graph has %s statements.\" % len(g))\n",
    "print(\"Graph has %s statements.\" % len(h))\n",
    "print(\"Graph has %s statements.\" % len(f))\n"
   ]
  },
  {
   "cell_type": "code",
   "execution_count": 18,
   "metadata": {},
   "outputs": [
    {
     "name": "stdout",
     "output_type": "stream",
     "text": [
      "<?xml version=\"1.0\" encoding=\"UTF-8\"?>\n",
      "<rdf:RDF\n",
      "   xmlns=\"http://xmlns.com/foaf/0.1/\"\n",
      "   xmlns:cc=\"http://creativecommons.org/ns#\"\n",
      "   xmlns:cert=\"http://www.w3.org/ns/auth/cert#\"\n",
      "   xmlns:con=\"http://www.w3.org/2000/10/swap/pim/contact#\"\n",
      "   xmlns:dc=\"http://purl.org/dc/elements/1.1/\"\n",
      "   xmlns:dct=\"http://purl.org/dc/terms/\"\n",
      "   xmlns:doap=\"http://usefulinc.com/ns/doap#\"\n",
      "   xmlns:geo=\"http://www.w3.org/2003/01/geo/wgs84_pos#\"\n",
      "   xmlns:ldp=\"http://www.w3.org/ns/ldp#\"\n",
      "   xmlns:rdf=\"http://www.w3.org/1999/02/22-rdf-syntax-ns#\"\n",
      "   xmlns:rdfs=\"http://www.w3.org/2000/01/rdf-schema#\"\n",
      "   xmlns:schema=\"http://schema.org/\"\n",
      "   xmlns:sioc=\"http://rdfs.org/sioc/ns#\"\n",
      "   xmlns:solid=\"http://www.w3.org/ns/solid/terms#\"\n",
      "   xmlns:space=\"http://www.w3.org/ns/pim/space#\"\n",
      "   xmlns:vcard=\"http://www.w3.org/2006/vcard/ns#\"\n",
      ">\n",
      "  <rdf:Description rdf:about=\"https://www.w3.org/People/Berners-Lee/card#i\">\n",
      "    <con:office rdf:nodeID=\"Nc56c2a602c014c408f7b0adf1f4e2517\"/>\n",
      "    <nick>timbl</nick>\n",
      "    <con:homePage rdf:resource=\"http://www.w3.org/People/Berners-Lee/\"/>\n",
      "    <space:storage rdf:resource=\"https://timbl.com/timbl/Public/\"/>\n",
      "    <based_near rdf:nodeID=\"Nc91fe6d9b32446f99923d8af265947b5\"/>\n",
      "    <openid rdf:resource=\"https://www.w3.org/People/Berners-Lee/\"/>\n",
      "    <account rdf:resource=\"http://twitter.com/timberners_lee\"/>\n",
      "    <solid:profileBackgroundColor>#ffffff</solid:profileBackgroundColor>\n",
      "    <nick>TimBL</nick>\n",
      "    <givenname>Timothy</givenname>\n",
      "    <workplaceHomepage rdf:resource=\"https://www.w3.org/\"/>\n",
      "    <con:assistant rdf:resource=\"https://www.w3.org/People/Berners-Lee/card#amy\"/>\n",
      "    <rdfs:label>Tim Berners-Lee</rdfs:label>\n",
      "    <vcard:fn>Tim Berners-Lee</vcard:fn>\n",
      "    <title>Sir</title>\n",
      "    <space:preferencesFile rdf:resource=\"https://timbl.com/timbl/Data/preferences.n3\"/>\n",
      "    <family_name>Berners-Lee</family_name>\n",
      "    <rdf:type rdf:resource=\"http://www.w3.org/2000/10/swap/pim/contact#Male\"/>\n",
      "    <account rdf:resource=\"http://en.wikipedia.org/wiki/User:Timbl\"/>\n",
      "    <solid:editableProfile rdf:resource=\"https://timbl.com/timbl/Public/friends.ttl\"/>\n",
      "    <homepage rdf:resource=\"https://www.w3.org/People/Berners-Lee/\"/>\n",
      "    <img rdf:resource=\"https://www.w3.org/Press/Stock/Berners-Lee/2001-europaeum-eighth.jpg\"/>\n",
      "    <mbox rdf:resource=\"mailto:timbl@w3.org\"/>\n",
      "    <weblog rdf:resource=\"http://dig.csail.mit.edu/breadcrumbs/blog/4\"/>\n",
      "    <name>Timothy Berners-Lee</name>\n",
      "    <con:publicHomePage rdf:resource=\"http://www.w3.org/People/Berners-Lee/\"/>\n",
      "    <space:storage rdf:resource=\"https://timbl.solid.community/\"/>\n",
      "    <solid:profileHighlightColor>#00467E</solid:profileHighlightColor>\n",
      "    <account rdf:resource=\"http://www.reddit.com/user/timbl/\"/>\n",
      "    <solid:publicTypeIndex rdf:resource=\"https://timbl.com/timbl/Public/PublicTypeIndex.ttl\"/>\n",
      "    <rdfs:seeAlso rdf:resource=\"https://timbl.com/timbl/Public/friends.ttl\"/>\n",
      "    <vcard:hasAddress rdf:nodeID=\"N3b8c1e15a4ae406ea09b913e28a0e1b1\"/>\n",
      "    <schema:owns rdf:resource=\"https://timblbot.inrupt.net/profile/card#me\"/>\n",
      "    <mbox_sha1sum>965c47c5a70db7407210cef6e4e6f5374a525c5c</mbox_sha1sum>\n",
      "    <rdf:type rdf:resource=\"http://xmlns.com/foaf/0.1/Person\"/>\n",
      "    <con:preferredURI>https://www.w3.org/People/Berners-Lee/card#i</con:preferredURI>\n",
      "    <sioc:avatar rdf:resource=\"http://www.w3.org/People/Berners-Lee/images/timbl-image-by-Coz-cropped.jpg\"/>\n",
      "    <ldp:inbox rdf:resource=\"https://timbl.com/timbl/Public/Inbox\"/>\n",
      "    <space:storage rdf:resource=\"https://timbl.inrupt.net/\"/>\n",
      "    <solid:oidcIssuer rdf:resource=\"https://timbl.com\"/>\n",
      "  </rdf:Description>\n",
      "  <rdf:Description rdf:about=\"http://www.w3.org/People/Berners-Lee/card\">\n",
      "    <rdf:type rdf:resource=\"http://xmlns.com/foaf/0.1/PersonalProfileDocument\"/>\n",
      "    <maker rdf:resource=\"https://www.w3.org/People/Berners-Lee/card#i\"/>\n",
      "    <cc:license rdf:resource=\"http://creativecommons.org/licenses/by-nc/3.0/\"/>\n",
      "    <dc:title>Tim Berners-Lee's FOAF file</dc:title>\n",
      "    <primaryTopic rdf:resource=\"https://www.w3.org/People/Berners-Lee/card#i\"/>\n",
      "  </rdf:Description>\n",
      "  <rdf:Description rdf:about=\"http://www.w3.org/2011/Talks/0331-hyderabad-tbl/data#talk\">\n",
      "    <dct:title>Designing the Web for an Open Society</dct:title>\n",
      "    <maker rdf:resource=\"https://www.w3.org/People/Berners-Lee/card#i\"/>\n",
      "  </rdf:Description>\n",
      "  <rdf:Description rdf:nodeID=\"N1e2e2b90e06647778edf396fc5745450\">\n",
      "    <con:postalCode>02139</con:postalCode>\n",
      "    <con:street>32 Vassar Street</con:street>\n",
      "    <con:street2>MIT CSAIL Building 32</con:street2>\n",
      "    <con:country>USA</con:country>\n",
      "    <con:city>Cambridge</con:city>\n",
      "  </rdf:Description>\n",
      "  <rdf:Description rdf:nodeID=\"Nc56c2a602c014c408f7b0adf1f4e2517\">\n",
      "    <con:address rdf:nodeID=\"N1e2e2b90e06647778edf396fc5745450\"/>\n",
      "    <geo:location rdf:nodeID=\"Nf28b79a6427c4df8af4247533cb4477c\"/>\n",
      "  </rdf:Description>\n",
      "  <rdf:Description rdf:about=\"https://timbl.com/timbl/Public/friends.ttl\">\n",
      "    <primaryTopic rdf:resource=\"https://www.w3.org/People/Berners-Lee/card#i\"/>\n",
      "    <dc:title>Tim Berners-Lee's editable profile</dc:title>\n",
      "    <maker rdf:resource=\"https://www.w3.org/People/Berners-Lee/card#i\"/>\n",
      "    <rdf:type rdf:resource=\"http://xmlns.com/foaf/0.1/PersonalProfileDocument\"/>\n",
      "    <cc:license rdf:resource=\"http://creativecommons.org/licenses/by-nc/3.0/\"/>\n",
      "  </rdf:Description>\n",
      "  <rdf:Description rdf:about=\"http://dig.csail.mit.edu/2005/ajar/ajaw/data#Tabulator\">\n",
      "    <doap:developer rdf:resource=\"https://www.w3.org/People/Berners-Lee/card#i\"/>\n",
      "  </rdf:Description>\n",
      "  <rdf:Description rdf:about=\"http://dig.csail.mit.edu/breadcrumbs/blog/4\">\n",
      "    <maker rdf:resource=\"https://www.w3.org/People/Berners-Lee/card#i\"/>\n",
      "    <dc:title>timbl's blog on DIG</dc:title>\n",
      "    <rdfs:seeAlso rdf:resource=\"http://dig.csail.mit.edu/breadcrumbs/blog/feed/4\"/>\n",
      "  </rdf:Description>\n",
      "  <rdf:Description rdf:nodeID=\"N3b8c1e15a4ae406ea09b913e28a0e1b1\">\n",
      "    <rdf:type rdf:resource=\"http://www.w3.org/2006/vcard/ns#Work\"/>\n",
      "    <vcard:street-address>32 Vassar Street</vcard:street-address>\n",
      "    <vcard:postal-code>02139</vcard:postal-code>\n",
      "    <vcard:locality>Cambridge</vcard:locality>\n",
      "    <vcard:region>MA</vcard:region>\n",
      "  </rdf:Description>\n",
      "  <rdf:Description rdf:nodeID=\"N3c017b66a5ab42bb8e2bb1c1ba07a0c7\">\n",
      "    <rdf:type rdf:resource=\"http://www.w3.org/ns/auth/cert#RSAPublicKey\"/>\n",
      "    <cert:exponent rdf:datatype=\"http://www.w3.org/2001/XMLSchema#integer\">65537</cert:exponent>\n",
      "    <cert:modulus rdf:datatype=\"http://www.w3.org/2001/XMLSchema#hexBinary\">ebe99c737bd3670239600547e5e2eb1d1497da39947b6576c3c44ffeca32cf0f2f7cbee3c47001278a90fc7fc5bcf292f741eb1fcd6bbe7f90650afb519cf13e81b2bffc6e02063ee5a55781d420b1dfaf61c15758480e66d47fb0dcb5fa7b9f7f1052e5ccbd01beee9553c3b6b51f4daf1fce991294cd09a3d1d636bc6c7656e4455d0aff06daec740ed0084aa6866fcae1359de61cc12dbe37c8fa42e977c6e727a8258bb9a3f265b27e3766fe0697f6aa0bcc81c3f026e387bd7bbc81580dc1853af2daa099186a9f59da526474ef6ec0a3d84cf400be3261b6b649dea1f78184862d34d685d2d587f09acc14cd8e578fdd2283387821296f0af39b8d8845</cert:modulus>\n",
      "  </rdf:Description>\n",
      "  <rdf:Description rdf:about=\"http://wiki.ontoworld.org/index.php/_IRW2006\">\n",
      "    <dc:title>Identity, Reference and the Web workshop 2006</dc:title>\n",
      "    <con:participant rdf:resource=\"https://www.w3.org/People/Berners-Lee/card#i\"/>\n",
      "  </rdf:Description>\n",
      "  <rdf:Description rdf:about=\"http://dig.csail.mit.edu/data#DIG\">\n",
      "    <member rdf:resource=\"https://www.w3.org/People/Berners-Lee/card#i\"/>\n",
      "  </rdf:Description>\n",
      "  <rdf:Description rdf:nodeID=\"Nc91fe6d9b32446f99923d8af265947b5\">\n",
      "    <geo:long>-71.091840</geo:long>\n",
      "    <geo:lat>42.361860</geo:lat>\n",
      "  </rdf:Description>\n",
      "  <rdf:Description rdf:nodeID=\"Nf28b79a6427c4df8af4247533cb4477c\">\n",
      "    <geo:lat>42.361860</geo:lat>\n",
      "    <geo:long>-71.091840</geo:long>\n",
      "  </rdf:Description>\n",
      "  <rdf:Description rdf:about=\"http://www.w3.org/DesignIssues/Overview.html\">\n",
      "    <dc:title>Design Issues for the World Wide Web</dc:title>\n",
      "    <maker rdf:resource=\"https://www.w3.org/People/Berners-Lee/card#i\"/>\n",
      "  </rdf:Description>\n",
      "  <rdf:Description rdf:about=\"http://dig.csail.mit.edu/2007/01/camp/data#course\">\n",
      "    <maker rdf:resource=\"https://www.w3.org/People/Berners-Lee/card#i\"/>\n",
      "  </rdf:Description>\n",
      "  <rdf:Description rdf:about=\"http://www.ecs.soton.ac.uk/~dt2/dlstuff/www2006_data#panel-panelk01\">\n",
      "    <rdfs:label>The Next Wave of the Web (Plenary Panel)</rdfs:label>\n",
      "    <con:participant rdf:resource=\"https://www.w3.org/People/Berners-Lee/card#i\"/>\n",
      "  </rdf:Description>\n",
      "  <rdf:Description rdf:about=\"http://www.w3.org/People/Berners-Lee/card#i\">\n",
      "    <cert:key rdf:nodeID=\"N3c017b66a5ab42bb8e2bb1c1ba07a0c7\"/>\n",
      "  </rdf:Description>\n",
      "  <rdf:Description rdf:about=\"http://www.w3.org/data#W3C\">\n",
      "    <member rdf:resource=\"https://www.w3.org/People/Berners-Lee/card#i\"/>\n",
      "  </rdf:Description>\n",
      "  <rdf:Description rdf:about=\"http://www.w3.org/2000/10/swap/data#Cwm\">\n",
      "    <doap:developer rdf:resource=\"https://www.w3.org/People/Berners-Lee/card#i\"/>\n",
      "  </rdf:Description>\n",
      "</rdf:RDF>\n",
      "\n"
     ]
    }
   ],
   "source": [
    "v = g.serialize(format=\"xml\")\n",
    "\n",
    "print(v.decode(\"utf-8\"))"
   ]
  },
  {
   "cell_type": "code",
   "execution_count": null,
   "metadata": {},
   "outputs": [],
   "source": [
    "g = Graph()\n",
    "g.parse(\"demo.ttl\", format='turtle')\n",
    "\n",
    "len(g) # prints 2"
   ]
  },
  {
   "cell_type": "code",
   "execution_count": null,
   "metadata": {},
   "outputs": [],
   "source": [
    "for stmt in g:\n",
    "    pprint.pprint(stmt)"
   ]
  },
  {
   "cell_type": "code",
   "execution_count": null,
   "metadata": {},
   "outputs": [],
   "source": [
    "# You can also parse directly from a string\n",
    "g = Graph()\n",
    "\n",
    "g.parse(data = '<urn:a> <urn:p> <urn:b>.', format='n3')\n",
    "for stmt in g:\n",
    "    pprint.pprint(stmt)"
   ]
  },
  {
   "cell_type": "markdown",
   "metadata": {},
   "source": [
    "## Saving RDF graphs\n",
    "\n",
    "We use the function Graph.serialize(format)"
   ]
  },
  {
   "cell_type": "code",
   "execution_count": null,
   "metadata": {},
   "outputs": [],
   "source": [
    "g = Graph()\n",
    "g.parse(\"demo.nt\", format='n3')\n",
    "# for a,b,c in g:\n",
    "#     print(a,b,c)\n",
    "\n",
    "print(g.serialize(format='nt').decode()) # 'html', 'hturtle', 'mdata', 'microdata', 'n3', 'nquads', 'nt', 'rdfa', 'rdfa1.0', 'rdfa1.1', 'trix', 'turtle', 'xml'\n",
    "\n"
   ]
  },
  {
   "cell_type": "markdown",
   "metadata": {},
   "source": [
    "##  Merging graphs\n",
    "\n",
    "Merging graphs can be done via sequential parsings or by the overloaded operator +\n",
    "\n",
    "**Note:** Set-theoretic graph semantics apply"
   ]
  },
  {
   "cell_type": "code",
   "execution_count": 10,
   "metadata": {},
   "outputs": [
    {
     "name": "stdout",
     "output_type": "stream",
     "text": [
      "Graph has 1299 triples\n"
     ]
    }
   ],
   "source": [
    "graph = Graph()\n",
    "\n",
    "# Sequential parsings merge *new* triples\n",
    "\n",
    "graph.parse(\"../data/ingredients.rdf\")\n",
    "graph.parse(\"../data/recipes.rdf\")\n",
    "\n",
    "print(\"Graph has {} triples\".format(len(graph)))"
   ]
  },
  {
   "cell_type": "code",
   "execution_count": 22,
   "metadata": {},
   "outputs": [
    {
     "name": "stdout",
     "output_type": "stream",
     "text": [
      "g1 has 837 triples\n",
      "g2 has 52337 triples\n",
      "g1 + g2 has 53174 triples\n",
      "len(g1) + len(g2) equals 53174\n",
      "g1 & g2 has 0 triples\n",
      "is the graph connected? False\n"
     ]
    }
   ],
   "source": [
    "g1 = Graph()\n",
    "g1.parse(\"../data/ingredients.rdf\")\n",
    "print(\"g1 has {} triples\".format(len(g1)))\n",
    "\n",
    "g2 = Graph()\n",
    "g2.parse(\"../data/ghostbusters.ttl\", format='ttl')\n",
    "print(\"g2 has {} triples\".format(len(g2)))\n",
    "\n",
    "union = g1 + g2\n",
    "print(\"g1 + g2 has {} triples\".format(len(union)))\n",
    "\n",
    "print(\"len(g1) + len(g2) equals {}\".format(len(g1)+len(g2)))\n",
    "\n",
    "intersection = g1 & g2\n",
    "print(\"g1 & g2 has {} triples\".format(len(intersection)))\n",
    "\n",
    "print(\"is the graph connected? {}\".format(intersection.connected()))"
   ]
  },
  {
   "cell_type": "code",
   "execution_count": 23,
   "metadata": {},
   "outputs": [
    {
     "name": "stdout",
     "output_type": "stream",
     "text": [
      "g1 has 837 triples\n",
      "g2 has 480 triples\n",
      "g1 + g2 has 1299 triples\n",
      "len(g1) + len(g2) equals 1317\n",
      "g1 & g2 has 18 triples\n",
      "is the intersection connected? True\n",
      "is the union connected? False\n"
     ]
    }
   ],
   "source": [
    "g1 = Graph()\n",
    "g1.parse(\"../data/ingredients.rdf\")\n",
    "print(\"g1 has {} triples\".format(len(g1)))\n",
    "\n",
    "g2 = Graph()\n",
    "g2.parse(\"../data/recipes.rdf\")\n",
    "print(\"g2 has {} triples\".format(len(g2)))\n",
    "\n",
    "union = g1 + g2\n",
    "print(\"g1 + g2 has {} triples\".format(len(union)))\n",
    "\n",
    "print(\"len(g1) + len(g2) equals {}\".format(len(g1)+len(g2)))\n",
    "\n",
    "intersection = g1 & g2\n",
    "print(\"g1 & g2 has {} triples\".format(len(intersection)))\n",
    "\n",
    "print(\"is the intersection connected? {}\".format(intersection.connected()))\n",
    "print(\"is the union connected? {}\".format(union.connected()))"
   ]
  },
  {
   "cell_type": "code",
   "execution_count": 34,
   "metadata": {},
   "outputs": [
    {
     "data": {
      "text/plain": [
       "True"
      ]
     },
     "execution_count": 34,
     "metadata": {},
     "output_type": "execute_result"
    }
   ],
   "source": [
    "g1 = Graph()\n",
    "g1.parse(\"../demo.nt\")\n",
    "print(\"g1 has {} triples\".format(len(g1)))\n",
    "\n",
    "g2 = Graph()\n",
    "g2.parse(\"../data/ontologies/recipes.rdf\")\n",
    "print(\"g2 has {} triples\".format(len(g2)))"
   ]
  },
  {
   "cell_type": "code",
   "execution_count": null,
   "metadata": {},
   "outputs": [],
   "source": [
    "# Now, if we merge graphs with different contents\n",
    "\n",
    "tim_g = Graph()\n",
    "tim_g.parse(\"http://www.w3.org/People/Berners-Lee/card\")\n",
    "print(\"Tim graph has {} triples\".format(len(tim_g)))\n",
    "\n",
    "g3 = g1 + tim_g\n",
    "print(\"g3 has {} triples\".format(len(g3)))"
   ]
  },
  {
   "cell_type": "markdown",
   "metadata": {},
   "source": [
    "\n",
    "## Creating RDF triples\n",
    "\n",
    "Triples are added to the graph with the function Graph.add()\n",
    "\n",
    "The parameter is a triple given in a Python **tuple** (subject, predicate, object)\n",
    "\n",
    "Notice the namespace convenience syntax!"
   ]
  },
  {
   "cell_type": "code",
   "execution_count": null,
   "metadata": {},
   "outputs": [],
   "source": [
    "g = Graph()\n",
    "\n",
    "# Create an identifier to use as the subject for Donna.\n",
    "donna = BNode()\n",
    "# donna = URIRef(\"http://example.org/donna\")\n",
    "\n",
    "# Add triples using store's add method.\n",
    "g.add( (donna, RDF.type, FOAF.Person) )\n",
    "g.add( (donna, FOAF.nick, Literal(\"donna\", lang=\"foo\")) )\n",
    "g.add( (donna, FOAF.name, Literal(\"Donna Fales\")) )\n",
    "g.add( (donna, FOAF.mbox, URIRef(\"mailto:donna@example.org\")) )\n",
    "\n",
    "for i in range(100):\n",
    "    g.add((donna, FOAF.age, Literal(i)))\n",
    "\n",
    "print(len(g))\n",
    "\n",
    "for s in g:\n",
    "    pprint.pprint(s)\n",
    "    print()\n"
   ]
  },
  {
   "cell_type": "code",
   "execution_count": null,
   "metadata": {},
   "outputs": [],
   "source": [
    "for stmt in g:\n",
    "    print(stmt)"
   ]
  },
  {
   "cell_type": "code",
   "execution_count": null,
   "metadata": {},
   "outputs": [],
   "source": [
    "print(FOAF.Person)"
   ]
  },
  {
   "cell_type": "code",
   "execution_count": null,
   "metadata": {},
   "outputs": [],
   "source": [
    "print(FOAF.imadethisup)"
   ]
  },
  {
   "cell_type": "markdown",
   "metadata": {},
   "source": [
    "## Namespaces \n",
    "The namespace module defines many common namespaces such as RDF, RDFS, OWL, FOAF, SKOS, etc., but you can also easily add URIs within a different namespace:\n"
   ]
  },
  {
   "cell_type": "code",
   "execution_count": null,
   "metadata": {},
   "outputs": [],
   "source": [
    "TEACH = Namespace(\"http://linkedscience.org/teach/ns#\")\n",
    "TEACH.Teacher"
   ]
  },
  {
   "cell_type": "markdown",
   "metadata": {},
   "source": [
    "Check out the specification to see which other terms are used within the TEACH namespace. http://linkedscience.org/teach/ns/#sec-specification. \n",
    "You can use a NamespaceManager to bind a prefix to a namespace: "
   ]
  },
  {
   "cell_type": "code",
   "execution_count": null,
   "metadata": {},
   "outputs": [],
   "source": [
    "g.namespace_manager.bind('TEACH', URIRef('http://linkedscience.org/teach/ns#'))\n",
    "TEACH.Teacher.n3(g.namespace_manager)"
   ]
  },
  {
   "cell_type": "code",
   "execution_count": null,
   "metadata": {},
   "outputs": [],
   "source": [
    "KRW = Namespace(\"http://krw.vu.nl/data#\")\n",
    "KRW.Teacher\n",
    "KRW.Student\n"
   ]
  },
  {
   "cell_type": "markdown",
   "metadata": {},
   "source": [
    "## Navigating graphs\n",
    "\n",
    "rdflib uses iterators to navigate Graphs. The methods for navigating subjects, predicates and objects are Graph.subjects, Graph.predicates, Graph.objects"
   ]
  },
  {
   "cell_type": "code",
   "execution_count": null,
   "metadata": {},
   "outputs": [],
   "source": [
    "g = Graph()\n",
    "g.parse(\"http://www.w3.org/People/Berners-Lee/card\")\n",
    "\n",
    "# Iterate over triples in store and print them out.\n",
    "print(\"--- printing raw triples ---\")\n",
    "for s, p, o in g:\n",
    "    print(p)"
   ]
  },
  {
   "cell_type": "code",
   "execution_count": null,
   "metadata": {},
   "outputs": [],
   "source": [
    "# Printing subjects, predicates and objects out of the tuple omits Python datatypes\n",
    "print(\"--- printing raw triples ---\")\n",
    "for s, p, o in g:\n",
    "    print(s, p, o)"
   ]
  },
  {
   "cell_type": "code",
   "execution_count": null,
   "metadata": {},
   "outputs": [],
   "source": [
    "print(\"PRINTING SUBJECTS\")\n",
    "for s in g.subjects():\n",
    "    print(s)"
   ]
  },
  {
   "cell_type": "code",
   "execution_count": null,
   "metadata": {},
   "outputs": [],
   "source": [
    "print(\"PRINTING PREDICATES\")\n",
    "for p in g.predicates():\n",
    "    if len(p) > 13:\n",
    "        print(p)\n"
   ]
  },
  {
   "cell_type": "code",
   "execution_count": null,
   "metadata": {},
   "outputs": [],
   "source": [
    "print(\"PRINTING OBJECTS\")\n",
    "for o in g.objects():\n",
    "    print(o)"
   ]
  },
  {
   "cell_type": "markdown",
   "metadata": {},
   "source": [
    "We can also filter the subjects, predicates and objects we want to retrieve, and match their values like in a database \"join\" operation"
   ]
  },
  {
   "cell_type": "code",
   "execution_count": null,
   "metadata": {
    "scrolled": true
   },
   "outputs": [],
   "source": [
    "g = Graph()\n",
    "\n",
    "# Create an identifier to use as the subject for Donna.\n",
    "donna = URIRef('urn:donna')\n",
    "ila = URIRef('urn:ila')\n",
    "# Add triples using store's add method.\n",
    "g.add( (donna, RDF.type, FOAF.Person) )\n",
    "g.add( (ila, RDF.type, FOAF.Person) )\n",
    "g.add( (ila, RDF.type, TEACH.Teacher) )\n",
    "g.add( (donna, FOAF.nick, Literal(\"donna\", lang=\"foo\")) )\n",
    "g.add( (donna, FOAF.name, Literal(\"Donna Fales\")) )\n",
    "g.add( (donna, FOAF.mbox, URIRef(\"mailto:donna@example.org\")) )\n",
    "g.add( (ila, FOAF.mbox, URIRef(\"mailto:ila@example.org\")) )\n",
    "\n",
    "# For each foaf:Person in the store print out its mbox property.\n",
    "# print(\"--- printing mboxes ---\")\n",
    "# for person in g.subjects(RDF.type, FOAF.Person):\n",
    "#     for mbox in g.objects(person, FOAF.mbox):\n",
    "#         print(mbox)\n",
    "\n",
    "# You can reuse matches of subjects to filter further e.g. objects\n",
    "for entity in g.subjects(RDF.type, None):\n",
    "    print(entity)\n",
    "    for objects in g.objects(entity, RDF.type):\n",
    "        print(objects)"
   ]
  },
  {
   "cell_type": "markdown",
   "metadata": {},
   "source": [
    "### Basic triple matching (almost querying!)\n",
    "\n",
    "We use method Graph.triples and a Python tuple that acts as a mask for specifying our criteria"
   ]
  },
  {
   "cell_type": "code",
   "execution_count": null,
   "metadata": {},
   "outputs": [],
   "source": [
    "g = Graph()\n",
    "g.parse(\"http://www.w3.org/People/Berners-Lee/card\")\n",
    "\n",
    "tim = URIRef(\"https://www.w3.org/People/Berners-Lee/card#i\")\n",
    "\n",
    "if ( tim, RDF.type, FOAF.Person ) in g:\n",
    "   print(\"This graph knows that Tim is a person!\")\n",
    "\n",
    "if ( tim, None, None ) in g:\n",
    "    print(\"This graph contains triples about Tim!\")"
   ]
  },
  {
   "cell_type": "code",
   "execution_count": null,
   "metadata": {},
   "outputs": [],
   "source": [
    "for s,p,o in g.triples( (None, None, None) ):\n",
    "    print(s,p,o)"
   ]
  },
  {
   "cell_type": "code",
   "execution_count": 20,
   "metadata": {},
   "outputs": [
    {
     "ename": "NameError",
     "evalue": "name 'tim' is not defined",
     "output_type": "error",
     "traceback": [
      "\u001b[0;31m---------------------------------------------------------------------------\u001b[0m",
      "\u001b[0;31mNameError\u001b[0m                                 Traceback (most recent call last)",
      "\u001b[0;32m<ipython-input-20-57571349212e>\u001b[0m in \u001b[0;36m<module>\u001b[0;34m\u001b[0m\n\u001b[0;32m----> 1\u001b[0;31m \u001b[0;32mfor\u001b[0m \u001b[0ms\u001b[0m\u001b[0;34m,\u001b[0m\u001b[0mp\u001b[0m\u001b[0;34m,\u001b[0m\u001b[0mo\u001b[0m \u001b[0;32min\u001b[0m \u001b[0mg\u001b[0m\u001b[0;34m.\u001b[0m\u001b[0mtriples\u001b[0m\u001b[0;34m(\u001b[0m \u001b[0;34m(\u001b[0m\u001b[0mtim\u001b[0m\u001b[0;34m,\u001b[0m \u001b[0mRDF\u001b[0m\u001b[0;34m.\u001b[0m\u001b[0mtype\u001b[0m\u001b[0;34m,\u001b[0m \u001b[0;32mNone\u001b[0m\u001b[0;34m)\u001b[0m \u001b[0;34m)\u001b[0m\u001b[0;34m:\u001b[0m\u001b[0;34m\u001b[0m\u001b[0;34m\u001b[0m\u001b[0m\n\u001b[0m\u001b[1;32m      2\u001b[0m     \u001b[0;32mif\u001b[0m\u001b[0;34m(\u001b[0m\u001b[0mo\u001b[0m \u001b[0;34m==\u001b[0m \u001b[0;34m'true'\u001b[0m\u001b[0;34m)\u001b[0m\u001b[0;34m:\u001b[0m\u001b[0;34m\u001b[0m\u001b[0;34m\u001b[0m\u001b[0m\n\u001b[1;32m      3\u001b[0m         \u001b[0mprint\u001b[0m\u001b[0;34m(\u001b[0m\u001b[0ms\u001b[0m\u001b[0;34m)\u001b[0m\u001b[0;34m\u001b[0m\u001b[0;34m\u001b[0m\u001b[0m\n\u001b[1;32m      4\u001b[0m \u001b[0;34m\u001b[0m\u001b[0m\n",
      "\u001b[0;31mNameError\u001b[0m: name 'tim' is not defined"
     ]
    }
   ],
   "source": [
    "for s,p,o in g.triples( (tim, RDF.type, None) ):\n",
    "    if(o == 'true'):\n",
    "        print(s)\n",
    "    "
   ]
  },
  {
   "cell_type": "markdown",
   "metadata": {},
   "source": [
    "## Namespaces and bindings"
   ]
  },
  {
   "cell_type": "code",
   "execution_count": null,
   "metadata": {},
   "outputs": [],
   "source": [
    "mid_uri = URIRef(\"http://purl.org/midi-ld/midi#\")\n",
    "mid = Namespace(mid_uri)\n",
    "\n",
    "print(mid['hello'])  # as item - for things that are not valid python identifiers\n",
    "print(mid.hello)     # as attribute"
   ]
  },
  {
   "cell_type": "code",
   "execution_count": null,
   "metadata": {},
   "outputs": [],
   "source": [
    "g = Graph()\n",
    "\n",
    "# Create an identifier to use as the subject for Donna.\n",
    "donna = BNode()\n",
    "\n",
    "# Add triples using store's add method.\n",
    "g.add( (donna, RDF.type, FOAF.Person) )\n",
    "g.add( (donna, FOAF.nick, Literal(\"donna\", lang=\"foo\")) )\n",
    "g.add( (donna, FOAF.name, Literal(\"Donna Fales\")) )\n",
    "g.add( (donna, FOAF.mbox, URIRef(\"mailto:donna@example.org\")) )\n",
    "\n",
    "print(g.serialize(format='turtle').decode())"
   ]
  },
  {
   "cell_type": "code",
   "execution_count": null,
   "metadata": {},
   "outputs": [],
   "source": [
    "foaf_uri = URIRef(\"http://xmlns.com/foaf/0.1/\")\n",
    "foaf_namespace = Namespace(foaf_uri)\n",
    "\n",
    "g = Graph()\n",
    "\n",
    "# Bind a few prefix, namespace pairs for more readable output\n",
    "g.bind(\"foaf\", foaf_namespace)\n",
    "\n",
    "# Create an identifier to use as the subject for Donna.\n",
    "donna = BNode()\n",
    "\n",
    "# Add triples using store's add method.\n",
    "g.add( (donna, RDF.type, FOAF.Person) )\n",
    "g.add( (donna, FOAF.nick, Literal(\"donna\", lang=\"foo\")) )\n",
    "g.add( (donna, FOAF.name, Literal(\"Donna Fales\")) )\n",
    "g.add( (donna, FOAF.mbox, URIRef(\"mailto:donna@example.org\")) )\n",
    "\n",
    "print(g.serialize(format='turtle').decode())"
   ]
  },
  {
   "cell_type": "markdown",
   "metadata": {},
   "source": [
    "## Assignment part 1: your own webapplication. \n",
    "\n",
    "1. in the file 'yourRDF.ttl', replace the four example statements about animals with <b>at least 20 assertions</b> about the domain of your choice. The namespace is already set, so you can use that one or change it if you wish. Note that you should adhere to the turtle format (the easiest format to read)!\n",
    "2. read in your statements below, and query your triples using basic triple matching, as you've learned above. "
   ]
  },
  {
   "cell_type": "code",
   "execution_count": null,
   "metadata": {},
   "outputs": [],
   "source": []
  }
 ],
 "metadata": {
  "kernelspec": {
   "display_name": "Python 3",
   "language": "python",
   "name": "python3"
  },
  "language_info": {
   "codemirror_mode": {
    "name": "ipython",
    "version": 3
   },
   "file_extension": ".py",
   "mimetype": "text/x-python",
   "name": "python",
   "nbconvert_exporter": "python",
   "pygments_lexer": "ipython3",
   "version": "3.7.6"
  }
 },
 "nbformat": 4,
 "nbformat_minor": 2
}
