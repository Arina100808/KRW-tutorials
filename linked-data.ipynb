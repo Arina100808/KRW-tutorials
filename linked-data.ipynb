{
 "cells": [
  {
   "cell_type": "markdown",
   "metadata": {},
   "source": [
    "# COW, DBpedia and GeoNames tutorial\n",
    "\n",
    "In this tutorial we'll learn the basics of COW (CSVW on the Web converter), we'll link entities in text with DBpedia Spotlight, and we'll link spatial entities with GeoNames"
   ]
  },
  {
   "cell_type": "markdown",
   "metadata": {},
   "source": [
    "## COW -- basic functionality\n",
    "\n",
    "We'll use either the CLI or the Web service:\n",
    "\n",
    "- For the CLI: ``pip install cow_csvw``\n",
    "- For the Web service: http://cattle.datalegend.net"
   ]
  },
  {
   "cell_type": "code",
   "execution_count": 2,
   "metadata": {},
   "outputs": [],
   "source": [
    "from rdflib import Graph\n",
    "\n",
    "# Import your COW generated graph here"
   ]
  },
  {
   "cell_type": "markdown",
   "metadata": {},
   "source": [
    "# DBpedia Spotlight API\n",
    "\n",
    "See example at https://www.dbpedia-spotlight.org/demo/\n",
    "\n"
   ]
  },
  {
   "cell_type": "code",
   "execution_count": 8,
   "metadata": {},
   "outputs": [
    {
     "name": "stdout",
     "output_type": "stream",
     "text": [
      "{\"@text\":\"Germany\",\"@confidence\":\"0.5\",\"@support\":\"0\",\"@types\":\"\",\"@sparql\":\"\",\"@policy\":\"whitelist\",\"Resources\":[{\"@URI\":\"http://dbpedia.org/resource/Germany\",\"@support\":\"216576\",\"@types\":\"Wikidata:Q6256,Schema:Place,Schema:Country,DBpedia:PopulatedPlace,DBpedia:Place,DBpedia:Location,DBpedia:Country\",\"@surfaceForm\":\"Germany\",\"@offset\":\"0\",\"@similarityScore\":\"0.9934068472333831\",\"@percentageOfSecondRank\":\"0.003884251194914685\"}]}\n"
     ]
    }
   ],
   "source": [
    "import requests\n",
    "\n",
    "parameters = {\"text\" : \"Germany\"}\n",
    "head = {'Accept' : 'application/json'}\n",
    "\n",
    "r = requests.get(\"https://api.dbpedia-spotlight.org/en/annotate\", params=parameters, headers=head)\n",
    "print(r.text)"
   ]
  },
  {
   "cell_type": "markdown",
   "metadata": {},
   "source": [
    "# GeoNames API\n",
    "\n",
    "See example at http://api.geonames.org/postalCodeSearch?postalcode=9011&maxRows=10&username=demo"
   ]
  },
  {
   "cell_type": "code",
   "execution_count": 10,
   "metadata": {},
   "outputs": [
    {
     "name": "stdout",
     "output_type": "stream",
     "text": [
      "<?xml version=\"1.0\" encoding=\"UTF-8\" standalone=\"no\"?>\n",
      "<geonames>\n",
      "    <totalResultsCount>59</totalResultsCount>\n",
      "    <code>\n",
      "        <postalcode>L-9011</postalcode>\n",
      "        <name>Ettelbruck</name>\n",
      "        <countryCode>LU</countryCode>\n",
      "        <lat>49.84751</lat>\n",
      "        <lng>6.09171</lng>\n",
      "        <adminCode1 ISO3166-2=\"DI\">DI</adminCode1>\n",
      "        <adminName1>Diekirch</adminName1>\n",
      "        <adminCode2>07</adminCode2>\n",
      "        <adminName2>Ettelbruck</adminName2>\n",
      "        <adminCode3/>\n",
      "        <adminName3/>\n",
      "    </code>\n",
      "    <code>\n",
      "        <postalcode>9011</postalcode>\n",
      "        <name>St. Gallen</name>\n",
      "        <countryCode>CH</countryCode>\n",
      "        <lat>47.42391</lat>\n",
      "        <lng>9.37477</lng>\n",
      "        <adminCode1 ISO3166-2=\"SG\">SG</adminCode1>\n",
      "        <adminName1>Kanton St. Gallen</adminName1>\n",
      "        <adminCode2>1721</adminCode2>\n",
      "        <adminName2>Wahlkreis St. Gallen</adminName2>\n",
      "        <adminCode3>3203</adminCode3>\n",
      "        <adminName3>St. Gallen</adminName3>\n",
      "    </code>\n",
      "    <code>\n",
      "        <postalcode>9011</postalcode>\n",
      "        <name>Győr</name>\n",
      "        <countryCode>HU</countryCode>\n",
      "        <lat>47.60764</lat>\n",
      "        <lng>17.78194</lng>\n",
      "        <adminCode1 ISO3166-2=\"GS\">GS</adminCode1>\n",
      "        <adminName1>Győr-Moson-Sopron</adminName1>\n",
      "        <adminCode2/>\n",
      "        <adminName2/>\n",
      "        <adminCode3/>\n",
      "        <adminName3/>\n",
      "    </code>\n",
      "    <code>\n",
      "        <postalcode>9011</postalcode>\n",
      "        <name>Tromsø</name>\n",
      "        <countryCode>NO</countryCode>\n",
      "        <lat>69.6489</lat>\n",
      "        <lng>18.95508</lng>\n",
      "        <adminCode1 ISO3166-2=\"19\">19</adminCode1>\n",
      "        <adminName1>Troms</adminName1>\n",
      "        <adminCode2>1902</adminCode2>\n",
      "        <adminName2>Tromsø</adminName2>\n",
      "        <adminCode3/>\n",
      "        <adminName3/>\n",
      "    </code>\n",
      "    <code>\n",
      "        <postalcode>9011 VT</postalcode>\n",
      "        <name>Jirnsum</name>\n",
      "        <countryCode>NL</countryCode>\n",
      "        <lat>53.07985</lat>\n",
      "        <lng>5.7921</lng>\n",
      "        <adminCode1 ISO3166-2=\"FR\">02</adminCode1>\n",
      "        <adminName1>Friesland</adminName1>\n",
      "        <adminCode2>0080</adminCode2>\n",
      "        <adminName2>Leeuwarden</adminName2>\n",
      "        <adminCode3/>\n",
      "        <adminName3/>\n",
      "    </code>\n",
      "    <code>\n",
      "        <postalcode>9011 WJ</postalcode>\n",
      "        <name>Jirnsum</name>\n",
      "        <countryCode>NL</countryCode>\n",
      "        <lat>53.06621</lat>\n",
      "        <lng>5.79988</lng>\n",
      "        <adminCode1 ISO3166-2=\"FR\">02</adminCode1>\n",
      "        <adminName1>Friesland</adminName1>\n",
      "        <adminCode2>0080</adminCode2>\n",
      "        <adminName2>Leeuwarden</adminName2>\n",
      "        <adminCode3/>\n",
      "        <adminName3/>\n",
      "    </code>\n",
      "    <code>\n",
      "        <postalcode>9011 VB</postalcode>\n",
      "        <name>Jirnsum</name>\n",
      "        <countryCode>NL</countryCode>\n",
      "        <lat>53.07889</lat>\n",
      "        <lng>5.7937</lng>\n",
      "        <adminCode1 ISO3166-2=\"FR\">02</adminCode1>\n",
      "        <adminName1>Friesland</adminName1>\n",
      "        <adminCode2>0080</adminCode2>\n",
      "        <adminName2>Leeuwarden</adminName2>\n",
      "        <adminCode3/>\n",
      "        <adminName3/>\n",
      "    </code>\n",
      "    <code>\n",
      "        <postalcode>9011 WB</postalcode>\n",
      "        <name>Jirnsum</name>\n",
      "        <countryCode>NL</countryCode>\n",
      "        <lat>53.07987</lat>\n",
      "        <lng>5.79004</lng>\n",
      "        <adminCode1 ISO3166-2=\"FR\">02</adminCode1>\n",
      "        <adminName1>Friesland</adminName1>\n",
      "        <adminCode2>0080</adminCode2>\n",
      "        <adminName2>Leeuwarden</adminName2>\n",
      "        <adminCode3/>\n",
      "        <adminName3/>\n",
      "    </code>\n",
      "    <code>\n",
      "        <postalcode>9011 WH</postalcode>\n",
      "        <name>Jirnsum</name>\n",
      "        <countryCode>NL</countryCode>\n",
      "        <lat>53.07452</lat>\n",
      "        <lng>5.80041</lng>\n",
      "        <adminCode1 ISO3166-2=\"FR\">02</adminCode1>\n",
      "        <adminName1>Friesland</adminName1>\n",
      "        <adminCode2>0080</adminCode2>\n",
      "        <adminName2>Leeuwarden</adminName2>\n",
      "        <adminCode3/>\n",
      "        <adminName3/>\n",
      "    </code>\n",
      "    <code>\n",
      "        <postalcode>9011 XC</postalcode>\n",
      "        <name>Jirnsum</name>\n",
      "        <countryCode>NL</countryCode>\n",
      "        <lat>53.07679</lat>\n",
      "        <lng>5.78963</lng>\n",
      "        <adminCode1 ISO3166-2=\"FR\">02</adminCode1>\n",
      "        <adminName1>Friesland</adminName1>\n",
      "        <adminCode2>0080</adminCode2>\n",
      "        <adminName2>Leeuwarden</adminName2>\n",
      "        <adminCode3/>\n",
      "        <adminName3/>\n",
      "    </code>\n",
      "</geonames>\n",
      "\n"
     ]
    }
   ],
   "source": [
    "import requests\n",
    "\n",
    "parameters = {\"postalcode\" : 9011, \"maxRows\" : 10, \"username\" : \"demo\"}\n",
    "head = {'Accept' : 'application/json'}\n",
    "\n",
    "r = requests.get(\"http://api.geonames.org/postalCodeSearch\", params=parameters, headers=head)\n",
    "print(r.text)"
   ]
  }
 ],
 "metadata": {
  "kernelspec": {
   "display_name": "Python 3",
   "language": "python",
   "name": "python3"
  },
  "language_info": {
   "codemirror_mode": {
    "name": "ipython",
    "version": 3
   },
   "file_extension": ".py",
   "mimetype": "text/x-python",
   "name": "python",
   "nbconvert_exporter": "python",
   "pygments_lexer": "ipython3",
   "version": "3.6.7"
  }
 },
 "nbformat": 4,
 "nbformat_minor": 2
}
