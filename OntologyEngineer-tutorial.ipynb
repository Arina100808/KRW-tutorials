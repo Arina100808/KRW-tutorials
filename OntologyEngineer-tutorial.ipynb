{
 "cells": [
  {
   "cell_type": "markdown",
   "metadata": {},
   "source": [
    "# ONTOLOGY ENGINEERING TUTORIAL"
   ]
  },
  {
   "cell_type": "markdown",
   "metadata": {},
   "source": [
    "## Part 1 - DATA CONVERSION \n",
    "### Engineer your ontology based on a .csv file, and transform your .csv to RDF using your ontology\n",
    "\n",
    "\n",
    "1. Look at this [sheet](https://github.com/lisestork/rdf-tutorial/blob/master/data/papers.csv), and design your (simple) ontology (ex: [Jamboard](https://jamboard.google.com/d/1j7zjq7XAqum2hCROj-tXYuV078Iv-Yjgoo4adIv761s/viewer?pli=1))\n",
    "- I want to have entities representing papers, that have a type, label, and link to authors and locations (using DBpedia or Geonames → https://dbpedia.org/page/United_States or https://www.geonames.org/countries/US/united-states.html ) \n",
    "- For your ontology, reuse existing properties and classes that you can find in: https://lov.linkeddata.es/dataset/lov/\n",
    "\n",
    "\n",
    "2. Import the sheet in Ontorefine \n",
    "\n",
    "- GO to Import -> Tabular (OntoRefine) -> Create project and upload the csv file\n",
    "- Set the correct delimiter\n",
    "\n",
    "(Check documentation tutorial for help: https://www.ontotext.com/blog/data-visualization-with-graphdb-how-to-turn-your-tabular-data-into-a-telling-visual/)\n",
    "\n",
    "3. Map your data to RDF (RDF mapping > edit RDF mapping) \n",
    "- Define the prefixes in your graph, one for your ontology and one for your instances (commonly used schemas, such as foaf, geo, rdf, rdfs, skos, xsd are default) \n",
    "\n",
    "![IRI example](./images/Base%20IRI.png )\n",
    "\n",
    "- Look at the different value mappings, and map each column this way using the fields: drag and drop column headers to Subject, Predicate, Object \n",
    "- IRI (A thing, property) →  S,P,O\n",
    "- Literal (a value) →  only Object\n",
    "\n",
    "![IRI example](./images/OntoRefine.png )\n",
    "- Once you are done mapping your columns → select SPARQL and start the next part of the hands-on (next slide). \n",
    "\n",
    "\n",
    "4. Map your data to RDF (RDF mapping > edit RDF mapping) \n",
    "- You can make IRIs using regular expressions: (GREL), use “preview feature”\n",
    "- Once you are done mapping your columns → select SPARQL and start the next part of the hands-on (next slide). \n",
    "\n",
    "\n",
    "![IRI example](./images/ValueMapping.png )\n",
    "\n",
    "\n"
   ]
  },
  {
   "cell_type": "markdown",
   "metadata": {},
   "source": [
    "## Part 2 - DATA RECONCILIATION\n",
    "### Reconcile entities in your RDF file with DBpedia \n",
    "\n",
    "1. Reconcile your geographical entities with those from DBpedia (use the dbo namespace for the dbo classes http://dbpedia.org/ontology/):\n",
    "- Look up the entities in DBpedia to get an idea how to link (based on their label? Iso codes?)\n",
    "Under the rdf-mapper service, create a new DBpedia service, which retrieves dbpedia IRIs. \n",
    "- Remember the RDFlib exercises, and retrieve the URIs that link to the ISO country codes in the csv table: \n",
    "\n",
    "SERVICE <https://dbpedia.org/sparql> { \\\n",
    "\t?dbpedia_uri ?property ?column_values . \\\n",
    "\t# other location metadata you would like to include from DBpedia \\\n",
    "}\n",
    "\n",
    "\n",
    "2. Enrich your RDF with additional metadata from DBpedia: \n",
    "- Have a look at the predicates available in DBpedia pages about your ?dbpedia_uri \n",
    "- Retrieve additional metadata, by adding another triple pattern in your SPARQL query, using the available predicate\n",
    "3. Download your rdf, import the rdf file in your GraphDB instance, visualise your graph, and you’re done! \n",
    "\n",
    "\n"
   ]
  }
 ],
 "metadata": {
  "kernelspec": {
   "display_name": "Python 3 (ipykernel)",
   "language": "python",
   "name": "python3"
  },
  "language_info": {
   "codemirror_mode": {
    "name": "ipython",
    "version": 3
   },
   "file_extension": ".py",
   "mimetype": "text/x-python",
   "name": "python",
   "nbconvert_exporter": "python",
   "pygments_lexer": "ipython3",
   "version": "3.9.12"
  },
  "vscode": {
   "interpreter": {
    "hash": "aee8b7b246df8f9039afb4144a1f6fd8d2ca17a180786b69acc140d282b71a49"
   }
  }
 },
 "nbformat": 4,
 "nbformat_minor": 2
}
