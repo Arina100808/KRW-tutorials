{
 "cells": [
  {
   "cell_type": "markdown",
   "metadata": {},
   "source": [
    "# OWL tutorial"
   ]
  },
  {
   "cell_type": "markdown",
   "metadata": {},
   "source": [
    "First install owlready2 if you don't already have it, and have a quick look at the [documentation](https://owlready2.readthedocs.io/en/v0.36/onto.html#)."
   ]
  },
  {
   "cell_type": "code",
   "execution_count": 1,
   "metadata": {},
   "outputs": [],
   "source": [
    "## Uncomment if you do not have owlrl installed (you should have it installed from the RDFS tutorial)\n",
    "#import sys\n",
    "#!{sys.executable} -m pip install rdflib  owlready2 pandas\n",
    "\n",
    "import pandas as pd\n",
    "from rdflib import Graph, Literal, Namespace, RDF, URIRef, OWL\n",
    "from rdflib.namespace import DC, FOAF\n",
    "\n",
    "from owlready2 import *"
   ]
  },
  {
   "cell_type": "markdown",
   "metadata": {},
   "source": [
    "Let's start loading some data from a .CSV file. We are going to create an ontology that describes the data inside.\n",
    "We already did part of this using the semantics of RDF(S), now we'll use the semantics of [OWL](https://www.w3.org/TR/2012/REC-owl2-primer-20121211/) through owlready2. \n",
    "\n",
    "Remember that an ontology is often an application ontology, meaning that it is built with a specific task in mind. \n",
    "We could model _everything_ within a certain domain in the most ontologically correct way possible, _or_ **we could model the domain in accordance with the application's task.** \n",
    "\n",
    "\n",
    "**Your task and domain:** You are a broadcaster that has just digitised its radio archives into a digital music archive (DMA), and aims to play more interesting tracks by discovering their 'hidden treasures', by making unexpected and potentially interesting relations between tracks visible to the users (which are journalists and program makers).\n",
    "\n",
    "\n",
    "**Exercise 1** \n",
    "\n",
    "1. look at the .csv files in the folder /data/musicoset_metadata/ and load them into pandas dataframes (use display.max_columns to show all columns). \n",
    "2. initialise an empty ontology using owlready2\n",
    "3. using owlready2, create a hierarchy of classes and subclasses that describe the entities in your dataframes\n",
    "4. using owrleady2, create properties and subproperties their properties, and how the classes relate to one another (using domain and range). If it helps: draw out your ontology in https://app.diagrams.net/\n",
    "    - create: object properties, data properties, functional properties\n",
    "5. using owlready2, add class restrictions\n",
    "6. create invididuals of your classes, and provide them with attributes using your properties! \n",
    "7. write simple queries to retrieve your individuals following: https://owlready2.readthedocs.io/en/v0.36/onto.html#simple-queries. What kind of things would journalists and program makers like to retrieve? \n",
    "6. save your asserted owl file"
   ]
  },
  {
   "cell_type": "code",
   "execution_count": 2,
   "metadata": {},
   "outputs": [],
   "source": [
    "# 1. load each csv in a different df\n",
    "pd.options.display.max_rows\n",
    "folder = \"./data/musicoset_metadata/\"\n",
    "\n",
    "albums = pd.read_csv(folder + \"albums.csv\", sep='\\t')\n",
    "artists = pd.read_csv(folder + \"artists.csv\", sep='\\t')\n",
    "releases = pd.read_csv(folder + \"releases.csv\", sep='\\t')\n",
    "songs = pd.read_csv(folder + \"songs.csv\", sep='\\t')\n",
    "tracks = pd.read_csv(folder + \"tracks.csv\", sep='\\t')"
   ]
  },
  {
   "cell_type": "code",
   "execution_count": 3,
   "metadata": {},
   "outputs": [],
   "source": [
    "# 2. initialize empty ontology\n",
    "ontology = get_ontology(\"http://example.org/myontology.owl\")"
   ]
  },
  {
   "cell_type": "markdown",
   "metadata": {
    "jp-MarkdownHeadingCollapsed": true
   },
   "source": [
    "### Dataframes"
   ]
  },
  {
   "cell_type": "code",
   "execution_count": 4,
   "metadata": {},
   "outputs": [
    {
     "data": {
      "text/html": [
       "<div>\n",
       "<style scoped>\n",
       "    .dataframe tbody tr th:only-of-type {\n",
       "        vertical-align: middle;\n",
       "    }\n",
       "\n",
       "    .dataframe tbody tr th {\n",
       "        vertical-align: top;\n",
       "    }\n",
       "\n",
       "    .dataframe thead th {\n",
       "        text-align: right;\n",
       "    }\n",
       "</style>\n",
       "<table border=\"1\" class=\"dataframe\">\n",
       "  <thead>\n",
       "    <tr style=\"text-align: right;\">\n",
       "      <th></th>\n",
       "      <th>album_id</th>\n",
       "      <th>name</th>\n",
       "      <th>billboard</th>\n",
       "      <th>artists</th>\n",
       "      <th>popularity</th>\n",
       "      <th>total_tracks</th>\n",
       "      <th>album_type</th>\n",
       "      <th>image_url</th>\n",
       "    </tr>\n",
       "  </thead>\n",
       "  <tbody>\n",
       "    <tr>\n",
       "      <th>0</th>\n",
       "      <td>5n1GSzC1Reao29ScnpLYqp</td>\n",
       "      <td>Dying To Live</td>\n",
       "      <td>Dying To Live</td>\n",
       "      <td>{'46SHBwWsqBkxI7EeeBEQG7': 'Kodak Black'}</td>\n",
       "      <td>83</td>\n",
       "      <td>16</td>\n",
       "      <td>album</td>\n",
       "      <td>https://i.scdn.co/image/db2133234d458f432ca207...</td>\n",
       "    </tr>\n",
       "    <tr>\n",
       "      <th>1</th>\n",
       "      <td>6UYZEYjpN1DYRW0kqFy9ZE</td>\n",
       "      <td>Championships</td>\n",
       "      <td>Championships</td>\n",
       "      <td>{'20sxb77xiYeusSH8cVdatc': 'Meek Mill'}</td>\n",
       "      <td>85</td>\n",
       "      <td>19</td>\n",
       "      <td>album</td>\n",
       "      <td>https://i.scdn.co/image/77eb7c17cafe5503c58661...</td>\n",
       "    </tr>\n",
       "    <tr>\n",
       "      <th>2</th>\n",
       "      <td>7uVimUILdzSZG4KKKWToq0</td>\n",
       "      <td>Christmas (Deluxe Special Edition)</td>\n",
       "      <td>Christmas</td>\n",
       "      <td>{'1GxkXlMwML1oSg5eLPiAz3': 'Michael Bublé'}</td>\n",
       "      <td>60</td>\n",
       "      <td>20</td>\n",
       "      <td>album</td>\n",
       "      <td>https://i.scdn.co/image/2d6ee8d4fb5a45abf35cd3...</td>\n",
       "    </tr>\n",
       "    <tr>\n",
       "      <th>3</th>\n",
       "      <td>35s58BRTGAEWztPo9WqCIs</td>\n",
       "      <td>Spider-Man: Into the Spider-Verse (Soundtrack ...</td>\n",
       "      <td>Spider-Man: Into The Spider-Verse</td>\n",
       "      <td>{'0LyfQWJT6nXafLPZqxe9Of': 'Various Artists'}</td>\n",
       "      <td>92</td>\n",
       "      <td>13</td>\n",
       "      <td>compilation</td>\n",
       "      <td>https://i.scdn.co/image/3aa37254a41cf96e815725...</td>\n",
       "    </tr>\n",
       "    <tr>\n",
       "      <th>4</th>\n",
       "      <td>41GuZcammIkupMPKH2OJ6I</td>\n",
       "      <td>ASTROWORLD</td>\n",
       "      <td>ASTROWORLD</td>\n",
       "      <td>{'0Y5tJX1MQlPlqiwlOH1tJY': 'Travis Scott'}</td>\n",
       "      <td>91</td>\n",
       "      <td>17</td>\n",
       "      <td>album</td>\n",
       "      <td>https://i.scdn.co/image/cdca7dc20c778ada42fb18...</td>\n",
       "    </tr>\n",
       "    <tr>\n",
       "      <th>...</th>\n",
       "      <td>...</td>\n",
       "      <td>...</td>\n",
       "      <td>...</td>\n",
       "      <td>...</td>\n",
       "      <td>...</td>\n",
       "      <td>...</td>\n",
       "      <td>...</td>\n",
       "      <td>...</td>\n",
       "    </tr>\n",
       "    <tr>\n",
       "      <th>26514</th>\n",
       "      <td>6AKvqcMFVMS7qz1QCOYvdd</td>\n",
       "      <td>Mozart: Symphonie Nr. 41 C-Dur KV 551, Schuber...</td>\n",
       "      <td>Mozart: Requiem Mass</td>\n",
       "      <td>{'0K23lQ2hSQAlxSEeZ05bjI': 'Boston Symphony Or...</td>\n",
       "      <td>8</td>\n",
       "      <td>6</td>\n",
       "      <td>album</td>\n",
       "      <td>https://i.scdn.co/image/d186bb3e069972b56fcf35...</td>\n",
       "    </tr>\n",
       "    <tr>\n",
       "      <th>26515</th>\n",
       "      <td>0Gt9RgFYh2jMvv5ix5lCA1</td>\n",
       "      <td>Um, Um, Um, Um, Um, Um</td>\n",
       "      <td>Um, Um, Um, Um, Um, Um/The Best Of Major Lance</td>\n",
       "      <td>{'7onp6ew3LGoQImTt1I78gt': 'Major Lance'}</td>\n",
       "      <td>0</td>\n",
       "      <td>1</td>\n",
       "      <td>single</td>\n",
       "      <td>https://i.scdn.co/image/caab7f5876f71fdc54b52f...</td>\n",
       "    </tr>\n",
       "    <tr>\n",
       "      <th>26516</th>\n",
       "      <td>5Cw32z9ICOrrbS8Q5JcpDv</td>\n",
       "      <td>Portrait</td>\n",
       "      <td>Woody Herman: 1964</td>\n",
       "      <td>{'2KSxJY1WxGGVYSmoM0N54P': 'Woody Herman'}</td>\n",
       "      <td>37</td>\n",
       "      <td>15</td>\n",
       "      <td>album</td>\n",
       "      <td>https://i.scdn.co/image/ab3877b713884d2369aa18...</td>\n",
       "    </tr>\n",
       "    <tr>\n",
       "      <th>26517</th>\n",
       "      <td>0B9f1PqUNLUEkNHxJPrtbR</td>\n",
       "      <td>There's A Meetin' Here Tonite</td>\n",
       "      <td>There's A Meetin' Here Tonite</td>\n",
       "      <td>{'4loTsy7881oe7pr52sewdg': 'Eddie Brown', '2H2...</td>\n",
       "      <td>7</td>\n",
       "      <td>12</td>\n",
       "      <td>album</td>\n",
       "      <td>https://i.scdn.co/image/0bb2d05acecd9ac163de0e...</td>\n",
       "    </tr>\n",
       "    <tr>\n",
       "      <th>26518</th>\n",
       "      <td>6wf7Rh10EoTaqZMdN2xRlI</td>\n",
       "      <td>More</td>\n",
       "      <td>More!!!</td>\n",
       "      <td>{'1kYYk4lJ7ZWbyy3zDYOl6h': 'Kai Winding'}</td>\n",
       "      <td>0</td>\n",
       "      <td>1</td>\n",
       "      <td>single</td>\n",
       "      <td>https://i.scdn.co/image/2e23c6aaa5599ad6e589d1...</td>\n",
       "    </tr>\n",
       "  </tbody>\n",
       "</table>\n",
       "<p>26519 rows × 8 columns</p>\n",
       "</div>"
      ],
      "text/plain": [
       "                     album_id  \\\n",
       "0      5n1GSzC1Reao29ScnpLYqp   \n",
       "1      6UYZEYjpN1DYRW0kqFy9ZE   \n",
       "2      7uVimUILdzSZG4KKKWToq0   \n",
       "3      35s58BRTGAEWztPo9WqCIs   \n",
       "4      41GuZcammIkupMPKH2OJ6I   \n",
       "...                       ...   \n",
       "26514  6AKvqcMFVMS7qz1QCOYvdd   \n",
       "26515  0Gt9RgFYh2jMvv5ix5lCA1   \n",
       "26516  5Cw32z9ICOrrbS8Q5JcpDv   \n",
       "26517  0B9f1PqUNLUEkNHxJPrtbR   \n",
       "26518  6wf7Rh10EoTaqZMdN2xRlI   \n",
       "\n",
       "                                                    name  \\\n",
       "0                                          Dying To Live   \n",
       "1                                          Championships   \n",
       "2                     Christmas (Deluxe Special Edition)   \n",
       "3      Spider-Man: Into the Spider-Verse (Soundtrack ...   \n",
       "4                                             ASTROWORLD   \n",
       "...                                                  ...   \n",
       "26514  Mozart: Symphonie Nr. 41 C-Dur KV 551, Schuber...   \n",
       "26515                             Um, Um, Um, Um, Um, Um   \n",
       "26516                                           Portrait   \n",
       "26517                      There's A Meetin' Here Tonite   \n",
       "26518                                               More   \n",
       "\n",
       "                                            billboard  \\\n",
       "0                                       Dying To Live   \n",
       "1                                       Championships   \n",
       "2                                           Christmas   \n",
       "3                   Spider-Man: Into The Spider-Verse   \n",
       "4                                          ASTROWORLD   \n",
       "...                                               ...   \n",
       "26514                            Mozart: Requiem Mass   \n",
       "26515  Um, Um, Um, Um, Um, Um/The Best Of Major Lance   \n",
       "26516                              Woody Herman: 1964   \n",
       "26517                   There's A Meetin' Here Tonite   \n",
       "26518                                         More!!!   \n",
       "\n",
       "                                                 artists  popularity  \\\n",
       "0              {'46SHBwWsqBkxI7EeeBEQG7': 'Kodak Black'}          83   \n",
       "1                {'20sxb77xiYeusSH8cVdatc': 'Meek Mill'}          85   \n",
       "2            {'1GxkXlMwML1oSg5eLPiAz3': 'Michael Bublé'}          60   \n",
       "3          {'0LyfQWJT6nXafLPZqxe9Of': 'Various Artists'}          92   \n",
       "4             {'0Y5tJX1MQlPlqiwlOH1tJY': 'Travis Scott'}          91   \n",
       "...                                                  ...         ...   \n",
       "26514  {'0K23lQ2hSQAlxSEeZ05bjI': 'Boston Symphony Or...           8   \n",
       "26515          {'7onp6ew3LGoQImTt1I78gt': 'Major Lance'}           0   \n",
       "26516         {'2KSxJY1WxGGVYSmoM0N54P': 'Woody Herman'}          37   \n",
       "26517  {'4loTsy7881oe7pr52sewdg': 'Eddie Brown', '2H2...           7   \n",
       "26518          {'1kYYk4lJ7ZWbyy3zDYOl6h': 'Kai Winding'}           0   \n",
       "\n",
       "       total_tracks   album_type  \\\n",
       "0                16        album   \n",
       "1                19        album   \n",
       "2                20        album   \n",
       "3                13  compilation   \n",
       "4                17        album   \n",
       "...             ...          ...   \n",
       "26514             6        album   \n",
       "26515             1       single   \n",
       "26516            15        album   \n",
       "26517            12        album   \n",
       "26518             1       single   \n",
       "\n",
       "                                               image_url  \n",
       "0      https://i.scdn.co/image/db2133234d458f432ca207...  \n",
       "1      https://i.scdn.co/image/77eb7c17cafe5503c58661...  \n",
       "2      https://i.scdn.co/image/2d6ee8d4fb5a45abf35cd3...  \n",
       "3      https://i.scdn.co/image/3aa37254a41cf96e815725...  \n",
       "4      https://i.scdn.co/image/cdca7dc20c778ada42fb18...  \n",
       "...                                                  ...  \n",
       "26514  https://i.scdn.co/image/d186bb3e069972b56fcf35...  \n",
       "26515  https://i.scdn.co/image/caab7f5876f71fdc54b52f...  \n",
       "26516  https://i.scdn.co/image/ab3877b713884d2369aa18...  \n",
       "26517  https://i.scdn.co/image/0bb2d05acecd9ac163de0e...  \n",
       "26518  https://i.scdn.co/image/2e23c6aaa5599ad6e589d1...  \n",
       "\n",
       "[26519 rows x 8 columns]"
      ]
     },
     "execution_count": 4,
     "metadata": {},
     "output_type": "execute_result"
    }
   ],
   "source": [
    "albums"
   ]
  },
  {
   "cell_type": "code",
   "execution_count": 5,
   "metadata": {},
   "outputs": [
    {
     "data": {
      "text/plain": [
       "array(['album', 'compilation', 'single'], dtype=object)"
      ]
     },
     "execution_count": 5,
     "metadata": {},
     "output_type": "execute_result"
    }
   ],
   "source": [
    "albums.album_type.unique()"
   ]
  },
  {
   "cell_type": "code",
   "execution_count": 6,
   "metadata": {},
   "outputs": [
    {
     "data": {
      "text/html": [
       "<div>\n",
       "<style scoped>\n",
       "    .dataframe tbody tr th:only-of-type {\n",
       "        vertical-align: middle;\n",
       "    }\n",
       "\n",
       "    .dataframe tbody tr th {\n",
       "        vertical-align: top;\n",
       "    }\n",
       "\n",
       "    .dataframe thead th {\n",
       "        text-align: right;\n",
       "    }\n",
       "</style>\n",
       "<table border=\"1\" class=\"dataframe\">\n",
       "  <thead>\n",
       "    <tr style=\"text-align: right;\">\n",
       "      <th></th>\n",
       "      <th>artist_id</th>\n",
       "      <th>name</th>\n",
       "      <th>followers</th>\n",
       "      <th>popularity</th>\n",
       "      <th>artist_type</th>\n",
       "      <th>main_genre</th>\n",
       "      <th>genres</th>\n",
       "      <th>image_url</th>\n",
       "    </tr>\n",
       "  </thead>\n",
       "  <tbody>\n",
       "    <tr>\n",
       "      <th>0</th>\n",
       "      <td>66CXWjxzNUsdJxJ2JdwvnR</td>\n",
       "      <td>Ariana Grande</td>\n",
       "      <td>34554242.0</td>\n",
       "      <td>96</td>\n",
       "      <td>singer</td>\n",
       "      <td>dance pop</td>\n",
       "      <td>['dance pop', 'pop', 'post-teen pop']</td>\n",
       "      <td>https://i.scdn.co/image/b1dfbe843b0b9f54ab2e58...</td>\n",
       "    </tr>\n",
       "    <tr>\n",
       "      <th>1</th>\n",
       "      <td>26VFTg2z8YR0cCuwLzESi2</td>\n",
       "      <td>Halsey</td>\n",
       "      <td>7368242.0</td>\n",
       "      <td>90</td>\n",
       "      <td>singer</td>\n",
       "      <td>dance pop</td>\n",
       "      <td>['dance pop', 'electropop', 'etherpop', 'indie...</td>\n",
       "      <td>https://i.scdn.co/image/22a5f3d8c42bc7cb55215e...</td>\n",
       "    </tr>\n",
       "    <tr>\n",
       "      <th>2</th>\n",
       "      <td>0Y5tJX1MQlPlqiwlOH1tJY</td>\n",
       "      <td>Travis Scott</td>\n",
       "      <td>6313709.0</td>\n",
       "      <td>94</td>\n",
       "      <td>rapper</td>\n",
       "      <td>pop</td>\n",
       "      <td>['pop', 'pop rap', 'rap']</td>\n",
       "      <td>https://i.scdn.co/image/dc5eba5e032c2e5bc4d42c...</td>\n",
       "    </tr>\n",
       "    <tr>\n",
       "      <th>3</th>\n",
       "      <td>246dkjvS1zLTtiykXe5h60</td>\n",
       "      <td>Post Malone</td>\n",
       "      <td>16737002.0</td>\n",
       "      <td>96</td>\n",
       "      <td>rapper</td>\n",
       "      <td>dfw rap</td>\n",
       "      <td>['dfw rap', 'pop', 'rap']</td>\n",
       "      <td>https://i.scdn.co/image/f9d8b742b66609f12da023...</td>\n",
       "    </tr>\n",
       "    <tr>\n",
       "      <th>4</th>\n",
       "      <td>1zNqQNIdeOUZHb8zbZRFMX</td>\n",
       "      <td>Swae Lee</td>\n",
       "      <td>483032.0</td>\n",
       "      <td>89</td>\n",
       "      <td>singer</td>\n",
       "      <td>trap music</td>\n",
       "      <td>['trap music']</td>\n",
       "      <td>https://i.scdn.co/image/a177469870b41f7e17e3b5...</td>\n",
       "    </tr>\n",
       "    <tr>\n",
       "      <th>...</th>\n",
       "      <td>...</td>\n",
       "      <td>...</td>\n",
       "      <td>...</td>\n",
       "      <td>...</td>\n",
       "      <td>...</td>\n",
       "      <td>...</td>\n",
       "      <td>...</td>\n",
       "      <td>...</td>\n",
       "    </tr>\n",
       "    <tr>\n",
       "      <th>11513</th>\n",
       "      <td>7vyRisgvM6Wm0Pnp0qXx6m</td>\n",
       "      <td>Sweeney Todd</td>\n",
       "      <td>634.0</td>\n",
       "      <td>19</td>\n",
       "      <td>-</td>\n",
       "      <td>classic canadian rock</td>\n",
       "      <td>['classic canadian rock']</td>\n",
       "      <td>https://i.scdn.co/image/47166b7afefd590ce85086...</td>\n",
       "    </tr>\n",
       "    <tr>\n",
       "      <th>11514</th>\n",
       "      <td>2Uh4UmiQhrrElbrvJVH0dT</td>\n",
       "      <td>Brooklyn Dreams</td>\n",
       "      <td>318.0</td>\n",
       "      <td>32</td>\n",
       "      <td>band</td>\n",
       "      <td>-</td>\n",
       "      <td>[]</td>\n",
       "      <td>https://i.scdn.co/image/bae9c82929c50d2dadb1ec...</td>\n",
       "    </tr>\n",
       "    <tr>\n",
       "      <th>11515</th>\n",
       "      <td>1VGFS4UGLOAxlMGqzcqHG1</td>\n",
       "      <td>PMD</td>\n",
       "      <td>1405.0</td>\n",
       "      <td>32</td>\n",
       "      <td>-</td>\n",
       "      <td>-</td>\n",
       "      <td>[]</td>\n",
       "      <td>https://i.scdn.co/image/926172541a4dff5dca6bce...</td>\n",
       "    </tr>\n",
       "    <tr>\n",
       "      <th>11516</th>\n",
       "      <td>3Se8xpgCBmfXVnZqRSRRH9</td>\n",
       "      <td>The Tribute Co.</td>\n",
       "      <td>274.0</td>\n",
       "      <td>21</td>\n",
       "      <td>-</td>\n",
       "      <td>-</td>\n",
       "      <td>[]</td>\n",
       "      <td>https://i.scdn.co/image/d4e9b2299fc5cbe4332251...</td>\n",
       "    </tr>\n",
       "    <tr>\n",
       "      <th>11517</th>\n",
       "      <td>45d3pteh2TnzUMMl27J4MY</td>\n",
       "      <td>Tommy Morgan</td>\n",
       "      <td>78.0</td>\n",
       "      <td>15</td>\n",
       "      <td>singer</td>\n",
       "      <td>-</td>\n",
       "      <td>[]</td>\n",
       "      <td>https://i.scdn.co/image/1c5cb45ccb80438b72a98a...</td>\n",
       "    </tr>\n",
       "  </tbody>\n",
       "</table>\n",
       "<p>11518 rows × 8 columns</p>\n",
       "</div>"
      ],
      "text/plain": [
       "                    artist_id             name   followers  popularity  \\\n",
       "0      66CXWjxzNUsdJxJ2JdwvnR    Ariana Grande  34554242.0          96   \n",
       "1      26VFTg2z8YR0cCuwLzESi2           Halsey   7368242.0          90   \n",
       "2      0Y5tJX1MQlPlqiwlOH1tJY     Travis Scott   6313709.0          94   \n",
       "3      246dkjvS1zLTtiykXe5h60      Post Malone  16737002.0          96   \n",
       "4      1zNqQNIdeOUZHb8zbZRFMX         Swae Lee    483032.0          89   \n",
       "...                       ...              ...         ...         ...   \n",
       "11513  7vyRisgvM6Wm0Pnp0qXx6m     Sweeney Todd       634.0          19   \n",
       "11514  2Uh4UmiQhrrElbrvJVH0dT  Brooklyn Dreams       318.0          32   \n",
       "11515  1VGFS4UGLOAxlMGqzcqHG1              PMD      1405.0          32   \n",
       "11516  3Se8xpgCBmfXVnZqRSRRH9  The Tribute Co.       274.0          21   \n",
       "11517  45d3pteh2TnzUMMl27J4MY     Tommy Morgan        78.0          15   \n",
       "\n",
       "      artist_type             main_genre  \\\n",
       "0          singer              dance pop   \n",
       "1          singer              dance pop   \n",
       "2          rapper                    pop   \n",
       "3          rapper                dfw rap   \n",
       "4          singer             trap music   \n",
       "...           ...                    ...   \n",
       "11513           -  classic canadian rock   \n",
       "11514        band                      -   \n",
       "11515           -                      -   \n",
       "11516           -                      -   \n",
       "11517      singer                      -   \n",
       "\n",
       "                                                  genres  \\\n",
       "0                  ['dance pop', 'pop', 'post-teen pop']   \n",
       "1      ['dance pop', 'electropop', 'etherpop', 'indie...   \n",
       "2                              ['pop', 'pop rap', 'rap']   \n",
       "3                              ['dfw rap', 'pop', 'rap']   \n",
       "4                                         ['trap music']   \n",
       "...                                                  ...   \n",
       "11513                          ['classic canadian rock']   \n",
       "11514                                                 []   \n",
       "11515                                                 []   \n",
       "11516                                                 []   \n",
       "11517                                                 []   \n",
       "\n",
       "                                               image_url  \n",
       "0      https://i.scdn.co/image/b1dfbe843b0b9f54ab2e58...  \n",
       "1      https://i.scdn.co/image/22a5f3d8c42bc7cb55215e...  \n",
       "2      https://i.scdn.co/image/dc5eba5e032c2e5bc4d42c...  \n",
       "3      https://i.scdn.co/image/f9d8b742b66609f12da023...  \n",
       "4      https://i.scdn.co/image/a177469870b41f7e17e3b5...  \n",
       "...                                                  ...  \n",
       "11513  https://i.scdn.co/image/47166b7afefd590ce85086...  \n",
       "11514  https://i.scdn.co/image/bae9c82929c50d2dadb1ec...  \n",
       "11515  https://i.scdn.co/image/926172541a4dff5dca6bce...  \n",
       "11516  https://i.scdn.co/image/d4e9b2299fc5cbe4332251...  \n",
       "11517  https://i.scdn.co/image/1c5cb45ccb80438b72a98a...  \n",
       "\n",
       "[11518 rows x 8 columns]"
      ]
     },
     "execution_count": 6,
     "metadata": {},
     "output_type": "execute_result"
    }
   ],
   "source": [
    "artists"
   ]
  },
  {
   "cell_type": "code",
   "execution_count": 7,
   "metadata": {},
   "outputs": [
    {
     "data": {
      "text/plain": [
       "array(['singer', 'rapper', 'DJ', 'band', '-', 'duo', \"'band'\"],\n",
       "      dtype=object)"
      ]
     },
     "execution_count": 7,
     "metadata": {},
     "output_type": "execute_result"
    }
   ],
   "source": [
    "artists.artist_type.unique()"
   ]
  },
  {
   "cell_type": "code",
   "execution_count": 8,
   "metadata": {},
   "outputs": [
    {
     "name": "stdout",
     "output_type": "stream",
     "text": [
      "992 genres\n"
     ]
    }
   ],
   "source": [
    "artists.main_genre.unique()[:10]\n",
    "print(f\"{len(artists.main_genre.unique())} genres\")"
   ]
  },
  {
   "cell_type": "code",
   "execution_count": 9,
   "metadata": {},
   "outputs": [
    {
     "data": {
      "text/html": [
       "<div>\n",
       "<style scoped>\n",
       "    .dataframe tbody tr th:only-of-type {\n",
       "        vertical-align: middle;\n",
       "    }\n",
       "\n",
       "    .dataframe tbody tr th {\n",
       "        vertical-align: top;\n",
       "    }\n",
       "\n",
       "    .dataframe thead th {\n",
       "        text-align: right;\n",
       "    }\n",
       "</style>\n",
       "<table border=\"1\" class=\"dataframe\">\n",
       "  <thead>\n",
       "    <tr style=\"text-align: right;\">\n",
       "      <th></th>\n",
       "      <th>artist_id</th>\n",
       "      <th>album_id</th>\n",
       "      <th>release_date</th>\n",
       "      <th>release_date_precision</th>\n",
       "    </tr>\n",
       "  </thead>\n",
       "  <tbody>\n",
       "    <tr>\n",
       "      <th>0</th>\n",
       "      <td>46SHBwWsqBkxI7EeeBEQG7</td>\n",
       "      <td>5n1GSzC1Reao29ScnpLYqp</td>\n",
       "      <td>2018-12-14</td>\n",
       "      <td>day</td>\n",
       "    </tr>\n",
       "    <tr>\n",
       "      <th>1</th>\n",
       "      <td>20sxb77xiYeusSH8cVdatc</td>\n",
       "      <td>6UYZEYjpN1DYRW0kqFy9ZE</td>\n",
       "      <td>2018-11-30</td>\n",
       "      <td>day</td>\n",
       "    </tr>\n",
       "    <tr>\n",
       "      <th>2</th>\n",
       "      <td>1GxkXlMwML1oSg5eLPiAz3</td>\n",
       "      <td>7uVimUILdzSZG4KKKWToq0</td>\n",
       "      <td>2012-11-09</td>\n",
       "      <td>day</td>\n",
       "    </tr>\n",
       "    <tr>\n",
       "      <th>3</th>\n",
       "      <td>0LyfQWJT6nXafLPZqxe9Of</td>\n",
       "      <td>35s58BRTGAEWztPo9WqCIs</td>\n",
       "      <td>2018-12-14</td>\n",
       "      <td>day</td>\n",
       "    </tr>\n",
       "    <tr>\n",
       "      <th>4</th>\n",
       "      <td>0Y5tJX1MQlPlqiwlOH1tJY</td>\n",
       "      <td>41GuZcammIkupMPKH2OJ6I</td>\n",
       "      <td>2018-08-03</td>\n",
       "      <td>day</td>\n",
       "    </tr>\n",
       "    <tr>\n",
       "      <th>...</th>\n",
       "      <td>...</td>\n",
       "      <td>...</td>\n",
       "      <td>...</td>\n",
       "      <td>...</td>\n",
       "    </tr>\n",
       "    <tr>\n",
       "      <th>26517</th>\n",
       "      <td>6XVxGOzn7c2rLi1GpXxm5v</td>\n",
       "      <td>6AKvqcMFVMS7qz1QCOYvdd</td>\n",
       "      <td>2002-01-01</td>\n",
       "      <td>day</td>\n",
       "    </tr>\n",
       "    <tr>\n",
       "      <th>26518</th>\n",
       "      <td>7onp6ew3LGoQImTt1I78gt</td>\n",
       "      <td>0Gt9RgFYh2jMvv5ix5lCA1</td>\n",
       "      <td>2014-03-10</td>\n",
       "      <td>day</td>\n",
       "    </tr>\n",
       "    <tr>\n",
       "      <th>26519</th>\n",
       "      <td>2KSxJY1WxGGVYSmoM0N54P</td>\n",
       "      <td>5Cw32z9ICOrrbS8Q5JcpDv</td>\n",
       "      <td>2014-04-18</td>\n",
       "      <td>day</td>\n",
       "    </tr>\n",
       "    <tr>\n",
       "      <th>26520</th>\n",
       "      <td>4loTsy7881oe7pr52sewdg</td>\n",
       "      <td>0B9f1PqUNLUEkNHxJPrtbR</td>\n",
       "      <td>2011-09-30</td>\n",
       "      <td>day</td>\n",
       "    </tr>\n",
       "    <tr>\n",
       "      <th>26521</th>\n",
       "      <td>1kYYk4lJ7ZWbyy3zDYOl6h</td>\n",
       "      <td>6wf7Rh10EoTaqZMdN2xRlI</td>\n",
       "      <td>2014-03-12</td>\n",
       "      <td>day</td>\n",
       "    </tr>\n",
       "  </tbody>\n",
       "</table>\n",
       "<p>26522 rows × 4 columns</p>\n",
       "</div>"
      ],
      "text/plain": [
       "                    artist_id                album_id release_date  \\\n",
       "0      46SHBwWsqBkxI7EeeBEQG7  5n1GSzC1Reao29ScnpLYqp   2018-12-14   \n",
       "1      20sxb77xiYeusSH8cVdatc  6UYZEYjpN1DYRW0kqFy9ZE   2018-11-30   \n",
       "2      1GxkXlMwML1oSg5eLPiAz3  7uVimUILdzSZG4KKKWToq0   2012-11-09   \n",
       "3      0LyfQWJT6nXafLPZqxe9Of  35s58BRTGAEWztPo9WqCIs   2018-12-14   \n",
       "4      0Y5tJX1MQlPlqiwlOH1tJY  41GuZcammIkupMPKH2OJ6I   2018-08-03   \n",
       "...                       ...                     ...          ...   \n",
       "26517  6XVxGOzn7c2rLi1GpXxm5v  6AKvqcMFVMS7qz1QCOYvdd   2002-01-01   \n",
       "26518  7onp6ew3LGoQImTt1I78gt  0Gt9RgFYh2jMvv5ix5lCA1   2014-03-10   \n",
       "26519  2KSxJY1WxGGVYSmoM0N54P  5Cw32z9ICOrrbS8Q5JcpDv   2014-04-18   \n",
       "26520  4loTsy7881oe7pr52sewdg  0B9f1PqUNLUEkNHxJPrtbR   2011-09-30   \n",
       "26521  1kYYk4lJ7ZWbyy3zDYOl6h  6wf7Rh10EoTaqZMdN2xRlI   2014-03-12   \n",
       "\n",
       "      release_date_precision  \n",
       "0                        day  \n",
       "1                        day  \n",
       "2                        day  \n",
       "3                        day  \n",
       "4                        day  \n",
       "...                      ...  \n",
       "26517                    day  \n",
       "26518                    day  \n",
       "26519                    day  \n",
       "26520                    day  \n",
       "26521                    day  \n",
       "\n",
       "[26522 rows x 4 columns]"
      ]
     },
     "execution_count": 9,
     "metadata": {},
     "output_type": "execute_result"
    }
   ],
   "source": [
    "releases"
   ]
  },
  {
   "cell_type": "code",
   "execution_count": 10,
   "metadata": {},
   "outputs": [
    {
     "data": {
      "text/html": [
       "<div>\n",
       "<style scoped>\n",
       "    .dataframe tbody tr th:only-of-type {\n",
       "        vertical-align: middle;\n",
       "    }\n",
       "\n",
       "    .dataframe tbody tr th {\n",
       "        vertical-align: top;\n",
       "    }\n",
       "\n",
       "    .dataframe thead th {\n",
       "        text-align: right;\n",
       "    }\n",
       "</style>\n",
       "<table border=\"1\" class=\"dataframe\">\n",
       "  <thead>\n",
       "    <tr style=\"text-align: right;\">\n",
       "      <th></th>\n",
       "      <th>song_id</th>\n",
       "      <th>song_name</th>\n",
       "      <th>billboard</th>\n",
       "      <th>artists</th>\n",
       "      <th>popularity</th>\n",
       "      <th>explicit</th>\n",
       "      <th>song_type</th>\n",
       "    </tr>\n",
       "  </thead>\n",
       "  <tbody>\n",
       "    <tr>\n",
       "      <th>0</th>\n",
       "      <td>3e9HZxeyfWwjeyPAMmWSSQ</td>\n",
       "      <td>thank u, next</td>\n",
       "      <td>('Thank U, Next', 'Ariana Grande')</td>\n",
       "      <td>{'66CXWjxzNUsdJxJ2JdwvnR': 'Ariana Grande'}</td>\n",
       "      <td>86</td>\n",
       "      <td>True</td>\n",
       "      <td>Solo</td>\n",
       "    </tr>\n",
       "    <tr>\n",
       "      <th>1</th>\n",
       "      <td>5p7ujcrUXASCNwRaWNHR1C</td>\n",
       "      <td>Without Me</td>\n",
       "      <td>('Without Me', 'Halsey')</td>\n",
       "      <td>{'26VFTg2z8YR0cCuwLzESi2': 'Halsey'}</td>\n",
       "      <td>87</td>\n",
       "      <td>True</td>\n",
       "      <td>Solo</td>\n",
       "    </tr>\n",
       "    <tr>\n",
       "      <th>2</th>\n",
       "      <td>2xLMifQCjDGFmkHkpNLD9h</td>\n",
       "      <td>SICKO MODE</td>\n",
       "      <td>('Sicko Mode', 'Travis Scott')</td>\n",
       "      <td>{'0Y5tJX1MQlPlqiwlOH1tJY': 'Travis Scott'}</td>\n",
       "      <td>85</td>\n",
       "      <td>True</td>\n",
       "      <td>Solo</td>\n",
       "    </tr>\n",
       "    <tr>\n",
       "      <th>3</th>\n",
       "      <td>3KkXRkHbMCARz0aVfEt68P</td>\n",
       "      <td>Sunflower - Spider-Man: Into the Spider-Verse</td>\n",
       "      <td>('Sunflower (Spider-Man: Into The Spider-Verse...</td>\n",
       "      <td>{'246dkjvS1zLTtiykXe5h60': 'Post Malone', '1zN...</td>\n",
       "      <td>92</td>\n",
       "      <td>False</td>\n",
       "      <td>Collaboration</td>\n",
       "    </tr>\n",
       "    <tr>\n",
       "      <th>4</th>\n",
       "      <td>1rqqCSm0Qe4I9rUvWncaom</td>\n",
       "      <td>High Hopes</td>\n",
       "      <td>('High Hopes', 'Panic! At The Disco')</td>\n",
       "      <td>{'20JZFwl6HVl6yg8a4H3ZqK': 'Panic! At The Disco'}</td>\n",
       "      <td>86</td>\n",
       "      <td>False</td>\n",
       "      <td>Solo</td>\n",
       "    </tr>\n",
       "    <tr>\n",
       "      <th>...</th>\n",
       "      <td>...</td>\n",
       "      <td>...</td>\n",
       "      <td>...</td>\n",
       "      <td>...</td>\n",
       "      <td>...</td>\n",
       "      <td>...</td>\n",
       "      <td>...</td>\n",
       "    </tr>\n",
       "    <tr>\n",
       "      <th>20400</th>\n",
       "      <td>4NnhLA66RRLXxKbiiscU9R</td>\n",
       "      <td>How Can I Be Sure - Single Version</td>\n",
       "      <td>('How Can I Be Sure', 'David Cassidy')</td>\n",
       "      <td>{'5X3TuTi9OIsJXMGxPwTKM2': 'The Young Rascals'}</td>\n",
       "      <td>36</td>\n",
       "      <td>False</td>\n",
       "      <td>Solo</td>\n",
       "    </tr>\n",
       "    <tr>\n",
       "      <th>20401</th>\n",
       "      <td>2jHfXdCLibrI1J56LnUAZv</td>\n",
       "      <td>To Show I Love You - Mono</td>\n",
       "      <td>('To Show I Love You', 'Peter And Gordon')</td>\n",
       "      <td>{'6lHC2EQMEMZiEmSfFloarn': 'Peter And Gordon'}</td>\n",
       "      <td>1</td>\n",
       "      <td>False</td>\n",
       "      <td>Solo</td>\n",
       "    </tr>\n",
       "    <tr>\n",
       "      <th>20402</th>\n",
       "      <td>6zqsyB7uIvWrL1iCJzpNrs</td>\n",
       "      <td>You Better Run - Single Version</td>\n",
       "      <td>('You Better Run', 'Pat Benatar')</td>\n",
       "      <td>{'5X3TuTi9OIsJXMGxPwTKM2': 'The Young Rascals'}</td>\n",
       "      <td>20</td>\n",
       "      <td>False</td>\n",
       "      <td>Solo</td>\n",
       "    </tr>\n",
       "    <tr>\n",
       "      <th>20403</th>\n",
       "      <td>5mz9pQZZXNpAw9CdQ7Bk8q</td>\n",
       "      <td>Don't Pity Me - Mono</td>\n",
       "      <td>('Don't Pity Me', 'Peter And Gordon')</td>\n",
       "      <td>{'6lHC2EQMEMZiEmSfFloarn': 'Peter And Gordon'}</td>\n",
       "      <td>7</td>\n",
       "      <td>False</td>\n",
       "      <td>Solo</td>\n",
       "    </tr>\n",
       "    <tr>\n",
       "      <th>20404</th>\n",
       "      <td>2H9CKpZiLDF223BbwehpDF</td>\n",
       "      <td>Hush Hush</td>\n",
       "      <td>('Hush Hush', 'The Pussycat Dolls Featuring Ni...</td>\n",
       "      <td>{'6wPhSqRtPu1UhRCDX5yaDJ': 'The Pussycat Dolls'}</td>\n",
       "      <td>57</td>\n",
       "      <td>False</td>\n",
       "      <td>Solo</td>\n",
       "    </tr>\n",
       "  </tbody>\n",
       "</table>\n",
       "<p>20405 rows × 7 columns</p>\n",
       "</div>"
      ],
      "text/plain": [
       "                      song_id                                      song_name  \\\n",
       "0      3e9HZxeyfWwjeyPAMmWSSQ                                  thank u, next   \n",
       "1      5p7ujcrUXASCNwRaWNHR1C                                     Without Me   \n",
       "2      2xLMifQCjDGFmkHkpNLD9h                                     SICKO MODE   \n",
       "3      3KkXRkHbMCARz0aVfEt68P  Sunflower - Spider-Man: Into the Spider-Verse   \n",
       "4      1rqqCSm0Qe4I9rUvWncaom                                     High Hopes   \n",
       "...                       ...                                            ...   \n",
       "20400  4NnhLA66RRLXxKbiiscU9R             How Can I Be Sure - Single Version   \n",
       "20401  2jHfXdCLibrI1J56LnUAZv                      To Show I Love You - Mono   \n",
       "20402  6zqsyB7uIvWrL1iCJzpNrs                You Better Run - Single Version   \n",
       "20403  5mz9pQZZXNpAw9CdQ7Bk8q                           Don't Pity Me - Mono   \n",
       "20404  2H9CKpZiLDF223BbwehpDF                                      Hush Hush   \n",
       "\n",
       "                                               billboard  \\\n",
       "0                     ('Thank U, Next', 'Ariana Grande')   \n",
       "1                               ('Without Me', 'Halsey')   \n",
       "2                         ('Sicko Mode', 'Travis Scott')   \n",
       "3      ('Sunflower (Spider-Man: Into The Spider-Verse...   \n",
       "4                  ('High Hopes', 'Panic! At The Disco')   \n",
       "...                                                  ...   \n",
       "20400             ('How Can I Be Sure', 'David Cassidy')   \n",
       "20401         ('To Show I Love You', 'Peter And Gordon')   \n",
       "20402                  ('You Better Run', 'Pat Benatar')   \n",
       "20403              ('Don't Pity Me', 'Peter And Gordon')   \n",
       "20404  ('Hush Hush', 'The Pussycat Dolls Featuring Ni...   \n",
       "\n",
       "                                                 artists  popularity  \\\n",
       "0            {'66CXWjxzNUsdJxJ2JdwvnR': 'Ariana Grande'}          86   \n",
       "1                   {'26VFTg2z8YR0cCuwLzESi2': 'Halsey'}          87   \n",
       "2             {'0Y5tJX1MQlPlqiwlOH1tJY': 'Travis Scott'}          85   \n",
       "3      {'246dkjvS1zLTtiykXe5h60': 'Post Malone', '1zN...          92   \n",
       "4      {'20JZFwl6HVl6yg8a4H3ZqK': 'Panic! At The Disco'}          86   \n",
       "...                                                  ...         ...   \n",
       "20400    {'5X3TuTi9OIsJXMGxPwTKM2': 'The Young Rascals'}          36   \n",
       "20401     {'6lHC2EQMEMZiEmSfFloarn': 'Peter And Gordon'}           1   \n",
       "20402    {'5X3TuTi9OIsJXMGxPwTKM2': 'The Young Rascals'}          20   \n",
       "20403     {'6lHC2EQMEMZiEmSfFloarn': 'Peter And Gordon'}           7   \n",
       "20404   {'6wPhSqRtPu1UhRCDX5yaDJ': 'The Pussycat Dolls'}          57   \n",
       "\n",
       "       explicit      song_type  \n",
       "0          True           Solo  \n",
       "1          True           Solo  \n",
       "2          True           Solo  \n",
       "3         False  Collaboration  \n",
       "4         False           Solo  \n",
       "...         ...            ...  \n",
       "20400     False           Solo  \n",
       "20401     False           Solo  \n",
       "20402     False           Solo  \n",
       "20403     False           Solo  \n",
       "20404     False           Solo  \n",
       "\n",
       "[20405 rows x 7 columns]"
      ]
     },
     "execution_count": 10,
     "metadata": {},
     "output_type": "execute_result"
    }
   ],
   "source": [
    "songs"
   ]
  },
  {
   "cell_type": "code",
   "execution_count": 11,
   "metadata": {},
   "outputs": [
    {
     "data": {
      "text/plain": [
       "array(['Solo', 'Collaboration'], dtype=object)"
      ]
     },
     "execution_count": 11,
     "metadata": {},
     "output_type": "execute_result"
    }
   ],
   "source": [
    "songs.song_type.unique()"
   ]
  },
  {
   "cell_type": "code",
   "execution_count": 12,
   "metadata": {},
   "outputs": [
    {
     "data": {
      "text/html": [
       "<div>\n",
       "<style scoped>\n",
       "    .dataframe tbody tr th:only-of-type {\n",
       "        vertical-align: middle;\n",
       "    }\n",
       "\n",
       "    .dataframe tbody tr th {\n",
       "        vertical-align: top;\n",
       "    }\n",
       "\n",
       "    .dataframe thead th {\n",
       "        text-align: right;\n",
       "    }\n",
       "</style>\n",
       "<table border=\"1\" class=\"dataframe\">\n",
       "  <thead>\n",
       "    <tr style=\"text-align: right;\">\n",
       "      <th></th>\n",
       "      <th>song_id</th>\n",
       "      <th>album_id</th>\n",
       "      <th>track_number</th>\n",
       "      <th>release_date</th>\n",
       "      <th>release_date_precision</th>\n",
       "    </tr>\n",
       "  </thead>\n",
       "  <tbody>\n",
       "    <tr>\n",
       "      <th>0</th>\n",
       "      <td>3e9HZxeyfWwjeyPAMmWSSQ</td>\n",
       "      <td>2fYhqwDWXjbpjaIJPEfKFw</td>\n",
       "      <td>11</td>\n",
       "      <td>2019-02-08</td>\n",
       "      <td>day</td>\n",
       "    </tr>\n",
       "    <tr>\n",
       "      <th>1</th>\n",
       "      <td>5p7ujcrUXASCNwRaWNHR1C</td>\n",
       "      <td>0zzrCTzvL4ZmR42xF46Afm</td>\n",
       "      <td>1</td>\n",
       "      <td>2018-10-04</td>\n",
       "      <td>day</td>\n",
       "    </tr>\n",
       "    <tr>\n",
       "      <th>2</th>\n",
       "      <td>2xLMifQCjDGFmkHkpNLD9h</td>\n",
       "      <td>41GuZcammIkupMPKH2OJ6I</td>\n",
       "      <td>3</td>\n",
       "      <td>2018-08-03</td>\n",
       "      <td>day</td>\n",
       "    </tr>\n",
       "    <tr>\n",
       "      <th>3</th>\n",
       "      <td>3KkXRkHbMCARz0aVfEt68P</td>\n",
       "      <td>35s58BRTGAEWztPo9WqCIs</td>\n",
       "      <td>2</td>\n",
       "      <td>2018-12-14</td>\n",
       "      <td>day</td>\n",
       "    </tr>\n",
       "    <tr>\n",
       "      <th>4</th>\n",
       "      <td>1rqqCSm0Qe4I9rUvWncaom</td>\n",
       "      <td>6ApYSpXF8GxZAgBTHDzYge</td>\n",
       "      <td>4</td>\n",
       "      <td>2018-06-22</td>\n",
       "      <td>day</td>\n",
       "    </tr>\n",
       "    <tr>\n",
       "      <th>...</th>\n",
       "      <td>...</td>\n",
       "      <td>...</td>\n",
       "      <td>...</td>\n",
       "      <td>...</td>\n",
       "      <td>...</td>\n",
       "    </tr>\n",
       "    <tr>\n",
       "      <th>20400</th>\n",
       "      <td>0yZsBLZVU2HTMlMqYvWevJ</td>\n",
       "      <td>5UoKanu6wcBQhwfPSDHYVw</td>\n",
       "      <td>4</td>\n",
       "      <td>2011-04-01</td>\n",
       "      <td>day</td>\n",
       "    </tr>\n",
       "    <tr>\n",
       "      <th>20401</th>\n",
       "      <td>30342v7I9sUoNC0Djnu1mW</td>\n",
       "      <td>1bZHbHtUvjGqUOKNla4lo0</td>\n",
       "      <td>25</td>\n",
       "      <td>2000-01-01</td>\n",
       "      <td>day</td>\n",
       "    </tr>\n",
       "    <tr>\n",
       "      <th>20402</th>\n",
       "      <td>5rkgbGIOTBGlKTAawWb06X</td>\n",
       "      <td>3GmCXW10kLxmZrEY0JpRlw</td>\n",
       "      <td>9</td>\n",
       "      <td>1988-03-07</td>\n",
       "      <td>day</td>\n",
       "    </tr>\n",
       "    <tr>\n",
       "      <th>20403</th>\n",
       "      <td>2MVPsa4S4r7Ii5lMh85E03</td>\n",
       "      <td>0UiVuqXa69zXqql0GoXH2h</td>\n",
       "      <td>22</td>\n",
       "      <td>2013-01-31</td>\n",
       "      <td>day</td>\n",
       "    </tr>\n",
       "    <tr>\n",
       "      <th>20404</th>\n",
       "      <td>7wGbzk3aeGSpnsK2AQ7vzA</td>\n",
       "      <td>3pBArpt3QcnvVj58hl6Ghe</td>\n",
       "      <td>7</td>\n",
       "      <td>2012-05-31</td>\n",
       "      <td>day</td>\n",
       "    </tr>\n",
       "  </tbody>\n",
       "</table>\n",
       "<p>20405 rows × 5 columns</p>\n",
       "</div>"
      ],
      "text/plain": [
       "                      song_id                album_id  track_number  \\\n",
       "0      3e9HZxeyfWwjeyPAMmWSSQ  2fYhqwDWXjbpjaIJPEfKFw            11   \n",
       "1      5p7ujcrUXASCNwRaWNHR1C  0zzrCTzvL4ZmR42xF46Afm             1   \n",
       "2      2xLMifQCjDGFmkHkpNLD9h  41GuZcammIkupMPKH2OJ6I             3   \n",
       "3      3KkXRkHbMCARz0aVfEt68P  35s58BRTGAEWztPo9WqCIs             2   \n",
       "4      1rqqCSm0Qe4I9rUvWncaom  6ApYSpXF8GxZAgBTHDzYge             4   \n",
       "...                       ...                     ...           ...   \n",
       "20400  0yZsBLZVU2HTMlMqYvWevJ  5UoKanu6wcBQhwfPSDHYVw             4   \n",
       "20401  30342v7I9sUoNC0Djnu1mW  1bZHbHtUvjGqUOKNla4lo0            25   \n",
       "20402  5rkgbGIOTBGlKTAawWb06X  3GmCXW10kLxmZrEY0JpRlw             9   \n",
       "20403  2MVPsa4S4r7Ii5lMh85E03  0UiVuqXa69zXqql0GoXH2h            22   \n",
       "20404  7wGbzk3aeGSpnsK2AQ7vzA  3pBArpt3QcnvVj58hl6Ghe             7   \n",
       "\n",
       "      release_date release_date_precision  \n",
       "0       2019-02-08                    day  \n",
       "1       2018-10-04                    day  \n",
       "2       2018-08-03                    day  \n",
       "3       2018-12-14                    day  \n",
       "4       2018-06-22                    day  \n",
       "...            ...                    ...  \n",
       "20400   2011-04-01                    day  \n",
       "20401   2000-01-01                    day  \n",
       "20402   1988-03-07                    day  \n",
       "20403   2013-01-31                    day  \n",
       "20404   2012-05-31                    day  \n",
       "\n",
       "[20405 rows x 5 columns]"
      ]
     },
     "execution_count": 12,
     "metadata": {},
     "output_type": "execute_result"
    }
   ],
   "source": [
    "tracks"
   ]
  },
  {
   "cell_type": "markdown",
   "metadata": {},
   "source": [
    "### Cont."
   ]
  },
  {
   "cell_type": "code",
   "execution_count": 13,
   "metadata": {},
   "outputs": [],
   "source": [
    "# 3. create classes - each class is subclass of thing\n",
    "class Artist(Thing):\n",
    "    namespace = ontology\n",
    "\n",
    "class Location(Thing):\n",
    "    namespace = ontology\n",
    "\n",
    "class Album(Thing):\n",
    "    namespace = ontology\n",
    "\n",
    "class Genre(Thing):\n",
    "    namespace = ontology\n",
    "\n",
    "class Song(Thing):\n",
    "    namespace = ontology"
   ]
  },
  {
   "cell_type": "code",
   "execution_count": 14,
   "metadata": {},
   "outputs": [],
   "source": [
    "class Compilation(Album):\n",
    "    pass\n",
    "\n",
    "class Single(Album):\n",
    "    pass\n",
    "\n",
    "class Solo(Song):\n",
    "    pass\n",
    "\n",
    "class Collaboration(Song):\n",
    "    pass"
   ]
  },
  {
   "cell_type": "code",
   "execution_count": 15,
   "metadata": {},
   "outputs": [
    {
     "name": "stdout",
     "output_type": "stream",
     "text": [
      "[myontology.Artist, myontology.Location, myontology.Album, myontology.Genre, myontology.Song, myontology.Compilation, myontology.Single, myontology.Solo, myontology.Collaboration]\n"
     ]
    }
   ],
   "source": [
    "print(list(ontology.classes()))"
   ]
  },
  {
   "cell_type": "code",
   "execution_count": 16,
   "metadata": {},
   "outputs": [
    {
     "name": "stdout",
     "output_type": "stream",
     "text": [
      "{owl.Thing, myontology.Single, myontology.Album}\n"
     ]
    }
   ],
   "source": [
    "print(Single.ancestors())"
   ]
  },
  {
   "cell_type": "code",
   "execution_count": 17,
   "metadata": {},
   "outputs": [],
   "source": [
    "# 4. create properties and subproperties\n",
    "\n",
    "# object properties\n",
    "\n",
    "class songHasGenre(Song >> Genre):\n",
    "    namespace = ontology\n",
    "\n",
    "class performedBy(Song >> Artist):\n",
    "    namespace = ontology\n",
    "\n",
    "class contains(Album >> Song):\n",
    "    namespace = ontology\n",
    "\n",
    "class locatedIn(Artist >> Location):\n",
    "    namespace = ontology\n",
    "\n",
    "# restrictions\n",
    "\n",
    "class includedIn(Song >> Album):\n",
    "    inverse_property = contains \n",
    "    namespace = ontology\n",
    "\n",
    "class locatedIn(ObjectProperty, TransitiveProperty):\n",
    "    namespace = ontology\n",
    "    domain = [Location]\n",
    "    range = [Location]\n",
    "\n",
    "# data properties\n",
    "# functional properties\n",
    "\n",
    "class artistName(DataProperty, FunctionalProperty):\n",
    "    domain = [Artist]\n",
    "    range = [str]\n",
    "    namespace = ontology\n",
    "\n",
    "class numberOfFollowers(DataProperty, FunctionalProperty):\n",
    "    domain = [Artist]\n",
    "    range = [int]\n",
    "    namespace = ontology\n",
    "\n",
    "class releaseDate(DataProperty, FunctionalProperty):\n",
    "    domain = [Song]\n",
    "    range = [str]\n",
    "    namespace = ontology"
   ]
  },
  {
   "cell_type": "code",
   "execution_count": 18,
   "metadata": {},
   "outputs": [
    {
     "data": {
      "text/plain": [
       "[myontology.artistName,\n",
       " myontology.numberOfFollowers,\n",
       " myontology.releaseDate,\n",
       " myontology.songHasGenre,\n",
       " myontology.performedBy,\n",
       " myontology.contains,\n",
       " myontology.locatedIn,\n",
       " myontology.includedIn]"
      ]
     },
     "execution_count": 18,
     "metadata": {},
     "output_type": "execute_result"
    }
   ],
   "source": [
    "list(ontology.properties())"
   ]
  },
  {
   "cell_type": "code",
   "execution_count": 19,
   "metadata": {},
   "outputs": [],
   "source": [
    "# 5. add class restrictions\n",
    "\n",
    "Song.is_a.append(songHasGenre.min(1, Genre))\n",
    "Song.is_a.append(performedBy.min(1, Artist))\n",
    "Album.is_a.append(contains.min(1, Song))\n",
    "\n",
    "Artist.is_a.append(artistName.exactly(1))\n",
    "Song.is_a.append(releaseDate.exactly(1))"
   ]
  },
  {
   "cell_type": "code",
   "execution_count": 20,
   "metadata": {},
   "outputs": [],
   "source": [
    "class Collaboration(Song):\n",
    "    equivalent_to = [Song & performedBy.min(2)]\n",
    "    \n",
    "class Solo(Song):\n",
    "    equivalent_to = [Song & performedBy.exactly(1)]"
   ]
  },
  {
   "cell_type": "code",
   "execution_count": 21,
   "metadata": {},
   "outputs": [
    {
     "data": {
      "text/plain": [
       "AllDisjoint([myontology.Genre, myontology.Artist])"
      ]
     },
     "execution_count": 21,
     "metadata": {},
     "output_type": "execute_result"
    }
   ],
   "source": [
    "AllDisjoint([Artist, Song])\n",
    "AllDisjoint([Genre, Song])\n",
    "AllDisjoint([Genre, Album])\n",
    "AllDisjoint([Genre, Artist])"
   ]
  },
  {
   "cell_type": "code",
   "execution_count": 22,
   "metadata": {},
   "outputs": [
    {
     "data": {
      "text/plain": [
       "AllDisjoint([myontology.Electropop, myontology.RapRock])"
      ]
     },
     "execution_count": 22,
     "metadata": {},
     "output_type": "execute_result"
    }
   ],
   "source": [
    "# 6. create instances of the classes\n",
    "\n",
    "halsey = Artist(\"Halsey\", artistName=\"Ashley Nicolette Frangipane\", numberOfFollowers=31700000)\n",
    "yungblud = Artist(\"Yungblud\", artistName=\"Dominic Richard Harrison\", numberOfFollowers=3800000)\n",
    "\n",
    "graveyard = Solo(\"Graveyard\", releaseDate=\"13-09-2019\", performedBy=[halsey])\n",
    "electropop = Genre(\"Electropop\")\n",
    "graveyard.songHasGenre = [electropop]\n",
    "manic = Album(\"Manic\", contains=[graveyard])\n",
    "\n",
    "eleven_minutes = Collaboration(\"11Minutes\", releaseDate=\"13-02-2019\", performedBy=[halsey, yungblud])\n",
    "rap_rock = Genre(\"RapRock\")\n",
    "eleven_minutes.songHasGenre = [rap_rock]\n",
    "eleven_single = Single(\"11MinutesSingle\", contains=[eleven_minutes])\n",
    "\n",
    "Genre.is_a.append(OneOf([electropop, rap_rock]))\n",
    "AllDifferent([electropop, rap_rock])"
   ]
  },
  {
   "cell_type": "code",
   "execution_count": 23,
   "metadata": {},
   "outputs": [],
   "source": [
    "usa = Location('USA')\n",
    "ca = Location(\"CA\", locatedIn = [usa])\n",
    "la = Location(\"LA\", locatedIn = [ca])\n",
    "\n",
    "halsey.locatedIn = [la]"
   ]
  },
  {
   "cell_type": "code",
   "execution_count": 24,
   "metadata": {},
   "outputs": [
    {
     "name": "stdout",
     "output_type": "stream",
     "text": [
      "[myontology.Artist, myontology.Song]\n",
      "[myontology.Genre, myontology.Song]\n",
      "[myontology.Genre, myontology.Album]\n",
      "[myontology.Genre, myontology.Artist]\n",
      "[myontology.Electropop, myontology.RapRock]\n"
     ]
    }
   ],
   "source": [
    "# 7. write simple queries HINT (onto.search, ..)\n",
    "\n",
    "for d in ontology.disjoints():\n",
    "    print(d.entities)"
   ]
  },
  {
   "cell_type": "code",
   "execution_count": 25,
   "metadata": {},
   "outputs": [
    {
     "name": "stdout",
     "output_type": "stream",
     "text": [
      "Halsey's IRI : http://example.org/myontology.owl#Halsey\n",
      "Halsey's name : Ashley Nicolette Frangipane\n",
      "\n",
      "\n",
      "Songs that are included in some albums : [myontology.Graveyard, myontology.11Minutes]\n",
      "\n",
      "\n",
      "Songs that are included in the Manic album : [myontology.Graveyard]\n",
      "Release date of the Graveyard song : 13-09-2019\n",
      "Genre of the Graveyard song : [myontology.Electropop]\n",
      "Graveyard is performed by : [myontology.Halsey]\n",
      "\n",
      "\n",
      "Songs that are included in the 11 Minutes album : [myontology.11Minutes]\n",
      "Release date of the 11 Minutes song : 13-02-2019\n",
      "Genre of the 11 Minutes song : [myontology.RapRock]\n",
      "11 Minutes is performed by : [myontology.Halsey, myontology.Yungblud]\n",
      "\n",
      "\n",
      "Search for a IRI containing 'Minutes' : [myontology.11Minutes, myontology.11MinutesSingle]\n"
     ]
    }
   ],
   "source": [
    "print(f\"Halsey's IRI : {halsey.iri}\")\n",
    "print(f\"Halsey's name : {halsey.artistName}\")\n",
    "print(\"\\n\")  \n",
    "print(f\"Songs that are included in some albums : {ontology.search(includedIn = '*')}\")\n",
    "print(\"\\n\")  \n",
    "print(f\"Songs that are included in the Manic album : {ontology.search(includedIn = [manic])}\")\n",
    "print(f\"Release date of the Graveyard song : {graveyard.releaseDate}\")\n",
    "print(f\"Genre of the Graveyard song : {graveyard.songHasGenre}\")\n",
    "print(f\"Graveyard is performed by : {graveyard.performedBy}\")\n",
    "print(\"\\n\")  \n",
    "print(f\"Songs that are included in the 11 Minutes album : {ontology.search(includedIn = [eleven_single])}\")\n",
    "print(f\"Release date of the 11 Minutes song : {eleven_minutes.releaseDate}\")\n",
    "print(f\"Genre of the 11 Minutes song : {eleven_minutes.songHasGenre}\")\n",
    "print(f\"11 Minutes is performed by : {eleven_minutes.performedBy}\")\n",
    "print(\"\\n\")  \n",
    "print(f\"Search for a IRI containing 'Minutes' : {ontology.search(iri = '*Minutes*')}\")"
   ]
  },
  {
   "cell_type": "code",
   "execution_count": 26,
   "metadata": {},
   "outputs": [],
   "source": [
    "# 8. save\n",
    "ontology.save(file = \"./data/my_music_ontology_asserted.owl\", format = \"rdfxml\")"
   ]
  },
  {
   "cell_type": "markdown",
   "metadata": {},
   "source": [
    "## OWL reasoning \n",
    "\n",
    "Let's look at how reasoning works.\n",
    "\n",
    "Owlready automatically gets the results of the reasoning from HermiT (a type of reasoner) and reclassifies Individuals and Classes. \n",
    "\n",
    "**Exercise 2**\n",
    "1. think about which things are inferred from your OWL semantics. Query/look at your graph: do you see what you expected?\n",
    "2. looking at the following tutorial [owlready2-reasoning](https://owlready2.readthedocs.io/en/latest/reasoning.html), which things have not yet been inferred? Run the owlready2 reasoner to:\n",
    "    - infer these new triples\n",
    "    - check your ontology and statements (individuals + attributes) for consistency\n",
    "3. save your asserted + inferred triples to a new file "
   ]
  },
  {
   "cell_type": "code",
   "execution_count": 27,
   "metadata": {},
   "outputs": [
    {
     "name": "stdout",
     "output_type": "stream",
     "text": [
      "Songs that are included in the Manic album : [myontology.Graveyard]\n",
      "Songs that are included in the 11 Minutes album : [myontology.11Minutes]\n",
      "\n",
      "Albums:\n",
      "myontology.Manic\n",
      "myontology.11MinutesSingle\n",
      "\n",
      "Songs:\n",
      "myontology.Graveyard\n",
      "myontology.11Minutes\n"
     ]
    }
   ],
   "source": [
    "# 1.\n",
    "\n",
    "print(f\"Songs that are included in the Manic album : {ontology.search(includedIn = [manic])}\")\n",
    "print(f\"Songs that are included in the 11 Minutes album : {ontology.search(includedIn = [eleven_single])}\")\n",
    "print(\"\\nAlbums:\")\n",
    "for individual in Album.instances():\n",
    "    print(individual)\n",
    "print(\"\\nSongs:\")\n",
    "for individual in Song.instances():\n",
    "    print(individual)"
   ]
  },
  {
   "cell_type": "code",
   "execution_count": 28,
   "metadata": {},
   "outputs": [
    {
     "data": {
      "text/plain": [
       "[myontology.LA]"
      ]
     },
     "execution_count": 28,
     "metadata": {},
     "output_type": "execute_result"
    }
   ],
   "source": [
    "halsey.locatedIn"
   ]
  },
  {
   "cell_type": "code",
   "execution_count": 29,
   "metadata": {},
   "outputs": [
    {
     "name": "stderr",
     "output_type": "stream",
     "text": [
      "* Owlready2 * Running HermiT...\n",
      "    java -Xmx2000M -cp /Users/arina/.pyenv/versions/3.10.13/envs/krwvenv/lib/python3.10/site-packages/owlready2/hermit:/Users/arina/.pyenv/versions/3.10.13/envs/krwvenv/lib/python3.10/site-packages/owlready2/hermit/HermiT.jar org.semanticweb.HermiT.cli.CommandLine -c -O -D -I file:////var/folders/6w/dsgqffvn3sb_69bf9c_sd0000000gn/T/tmpq45hyt9w -Y\n"
     ]
    },
    {
     "name": "stdout",
     "output_type": "stream",
     "text": [
      "* Owlready * Adding relation myontology.Halsey locatedIn myontology.USA\n",
      "* Owlready * Adding relation myontology.Halsey locatedIn myontology.CA\n",
      "* Owlready * Adding relation myontology.LA locatedIn myontology.USA\n"
     ]
    },
    {
     "name": "stderr",
     "output_type": "stream",
     "text": [
      "* Owlready2 * HermiT took 0.5083370208740234 seconds\n",
      "* Owlready * Reparenting myontology.Halsey: {myontology.Artist} => {myontology.Location, myontology.Artist}\n",
      "* Owlready * Reparenting myontology.CA: {myontology.Location} => {myontology.Location, myontology.Artist}\n",
      "* Owlready * Reparenting myontology.LA: {myontology.Location} => {myontology.Location, myontology.Artist}\n",
      "* Owlready * (NB: only changes on entities loaded in Python are shown, other changes are done but not listed)\n"
     ]
    }
   ],
   "source": [
    "# 2.\n",
    "\n",
    "with ontology: \n",
    "    sync_reasoner(infer_property_values=True)"
   ]
  },
  {
   "cell_type": "code",
   "execution_count": 30,
   "metadata": {},
   "outputs": [
    {
     "data": {
      "text/plain": [
       "[myontology.LA, myontology.USA, myontology.CA]"
      ]
     },
     "execution_count": 30,
     "metadata": {},
     "output_type": "execute_result"
    }
   ],
   "source": [
    "halsey.locatedIn"
   ]
  },
  {
   "cell_type": "code",
   "execution_count": 31,
   "metadata": {},
   "outputs": [
    {
     "data": {
      "text/plain": [
       "[]"
      ]
     },
     "execution_count": 31,
     "metadata": {},
     "output_type": "execute_result"
    }
   ],
   "source": [
    "list(default_world.inconsistent_classes())"
   ]
  },
  {
   "cell_type": "code",
   "execution_count": 32,
   "metadata": {},
   "outputs": [],
   "source": [
    "if Nothing in Thing.equivalent_to:\n",
    "    print(\"Thing is inconsistent!\")"
   ]
  },
  {
   "cell_type": "code",
   "execution_count": 33,
   "metadata": {},
   "outputs": [],
   "source": [
    "# 3.\n",
    "\n",
    "ontology.save(file = \"./data/my_music_ontology_inferred.owl\", format = \"rdfxml\")"
   ]
  },
  {
   "cell_type": "markdown",
   "metadata": {},
   "source": [
    "#### Querying inferred triples\n",
    "\n",
    "**Exercise 3**\n",
    "Query your inferred triples: \n",
    "\n",
    "- *.get_parents_of(entity)* accepts any entity (Class, property or individual), and returns the superclasses (for a class), the superproperties (for a property), or the classes (for an individual). \n",
    "\n",
    "- *.get_instances_of(Class)* returns the individuals that are asserted as belonging to the given Class in the ontology. (NB for obtaining all instances, independently of the ontology they are asserted in, use Class.instances()).\n",
    "\n",
    "- *.get_children_of(entity)* returns the subclasses (or subproperties) that are asserted for the given Class or property in the ontology. (NB for obtaining all children, independently of the ontology they are asserted in, use entity.subclasses())."
   ]
  },
  {
   "cell_type": "code",
   "execution_count": 37,
   "metadata": {},
   "outputs": [
    {
     "name": "stdout",
     "output_type": "stream",
     "text": [
      "[myontology.Solo]\n",
      "[myontology.Song]\n",
      "[myontology.Location, myontology.Artist]\n"
     ]
    }
   ],
   "source": [
    "# 1. \n",
    "\n",
    "print(ontology.get_parents_of(graveyard))\n",
    "print(ontology.get_parents_of(Solo))\n",
    "print(ontology.get_parents_of(la))"
   ]
  },
  {
   "cell_type": "code",
   "execution_count": 35,
   "metadata": {},
   "outputs": [
    {
     "name": "stdout",
     "output_type": "stream",
     "text": [
      "[myontology.Electropop, myontology.RapRock]\n",
      "[myontology.Manic]\n",
      "[myontology.11MinutesSingle]\n",
      "[myontology.Manic, myontology.11MinutesSingle]\n",
      "[myontology.Graveyard, myontology.11Minutes]\n"
     ]
    }
   ],
   "source": [
    "# 2.\n",
    "\n",
    "print(ontology.get_instances_of(Genre))\n",
    "print(ontology.get_instances_of(Album))\n",
    "print(ontology.get_instances_of(Single))\n",
    "print(Album.instances())\n",
    "print(Song.instances())"
   ]
  },
  {
   "cell_type": "code",
   "execution_count": 36,
   "metadata": {},
   "outputs": [
    {
     "name": "stdout",
     "output_type": "stream",
     "text": [
      "[myontology.Solo, myontology.Collaboration]\n",
      "[myontology.Compilation, myontology.Single]\n",
      "[myontology.Compilation, myontology.Single]\n"
     ]
    }
   ],
   "source": [
    "# 3.\n",
    "\n",
    "print(ontology.get_children_of(Song))\n",
    "print(ontology.get_children_of(Album))\n",
    "print(list(Album.subclasses()))"
   ]
  },
  {
   "cell_type": "code",
   "execution_count": null,
   "metadata": {},
   "outputs": [],
   "source": []
  }
 ],
 "metadata": {
  "kernelspec": {
   "display_name": "Python 3 (ipykernel)",
   "language": "python",
   "name": "python3"
  },
  "language_info": {
   "codemirror_mode": {
    "name": "ipython",
    "version": 3
   },
   "file_extension": ".py",
   "mimetype": "text/x-python",
   "name": "python",
   "nbconvert_exporter": "python",
   "pygments_lexer": "ipython3",
   "version": "3.10.13"
  },
  "vscode": {
   "interpreter": {
    "hash": "aee8b7b246df8f9039afb4144a1f6fd8d2ca17a180786b69acc140d282b71a49"
   }
  }
 },
 "nbformat": 4,
 "nbformat_minor": 4
}
