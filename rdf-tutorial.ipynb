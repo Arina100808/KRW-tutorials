{
 "cells": [
  {
   "cell_type": "markdown",
   "metadata": {},
   "source": [
    "# Knowledge Representation on the Web -- RDF tutorial\n",
    "\n",
    "In this tutorial we'll learn the basics of interacting with RDF graphs with Python. We'll be using rdflib for this, a widely used Ptyhon library for RDF (all documentation can be found [here](https://rdflib.readthedocs.io/en/stable/index.html))"
   ]
  },
  {
   "cell_type": "markdown",
   "metadata": {},
   "source": [
    "## Imports\n",
    "These are the main classes and types we'll be using from rdflib"
   ]
  },
  {
   "cell_type": "code",
   "execution_count": 170,
   "metadata": {},
   "outputs": [],
   "source": [
    "import sys\n",
    "\n",
    "from rdflib import Graph, ConjunctiveGraph, Literal, BNode, Namespace, RDF, URIRef, RDFS\n",
    "from rdflib.namespace import DC, FOAF\n",
    "\n",
    "import pprint"
   ]
  },
  {
   "cell_type": "markdown",
   "metadata": {},
   "source": [
    "## Loading data remotely and from files\n",
    "\n",
    "rdflib accepts importing RDF data from a variety of sources, either locally from a file (including an extensive support of serializations), or remotely via a URI (this is a great way of checking practically if URIs return RDF according to the 3rd Linked Data principle).\n",
    "\n",
    "A Graph object is always required to load triples.\n",
    "**Note**: to load quads, and hence supporting named graphs, you'll need to use an instance of ConjunctiveGraph instead\n",
    "\n",
    "**Exercise 1** \n",
    "\n",
    "For each step, use a different cell: \n",
    "1. create two graphs using rdflib:\n",
    "    - and load one with triples from the site https://csarven.ca/ and/or http://www.w3.org/People/Berners-Lee/card \n",
    "    - load one with triples from ./data/ingredients.rdf. "
   ]
  },
  {
   "cell_type": "code",
   "execution_count": 171,
   "metadata": {},
   "outputs": [],
   "source": [
    "#TIP: look at the documentation of the rdflib library for how to LOAD and PARSE a graph - https://rdflib.readthedocs.io/en/stable/gettingstarted.html"
   ]
  },
  {
   "cell_type": "code",
   "execution_count": 172,
   "metadata": {},
   "outputs": [],
   "source": [
    "def check_graph(graph):\n",
    "    ''' Additional function to check if graph is empty and print graph's length.'''\n",
    "    # Loop through each triple in the graph (subj, pred, obj)\n",
    "    for subj, pred, obj in graph:\n",
    "        # Check if there is at least one triple in the Graph\n",
    "        if (subj, pred, obj) not in graph:\n",
    "           print(\"There are no triples in the Graph\")\n",
    "    # Print the number of \"triples\" in the Graph\n",
    "    print(f\"The graph has {len(graph)} statements.\")"
   ]
  },
  {
   "cell_type": "code",
   "execution_count": 173,
   "metadata": {},
   "outputs": [
    {
     "name": "stdout",
     "output_type": "stream",
     "text": [
      "The graph has 537 statements.\n"
     ]
    }
   ],
   "source": [
    "g1 = Graph()\n",
    "\n",
    "# Parse in an RDF file hosted on the Internet\n",
    "g1.parse(\"https://csarven.ca/\")\n",
    "\n",
    "check_graph(g1)"
   ]
  },
  {
   "cell_type": "code",
   "execution_count": 174,
   "metadata": {},
   "outputs": [
    {
     "name": "stdout",
     "output_type": "stream",
     "text": [
      "The graph has 86 statements.\n"
     ]
    }
   ],
   "source": [
    "g2 = Graph()\n",
    "\n",
    "# Parse in an RDF file hosted on the Internet\n",
    "g2.parse(\"http://www.w3.org/People/Berners-Lee/card\")\n",
    "\n",
    "check_graph(g2)"
   ]
  },
  {
   "cell_type": "code",
   "execution_count": 175,
   "metadata": {},
   "outputs": [
    {
     "name": "stdout",
     "output_type": "stream",
     "text": [
      "The graph has 837 statements.\n"
     ]
    }
   ],
   "source": [
    "ingredients = Graph()\n",
    "\n",
    "ingredients.parse(\"./data/ingredients.rdf\")\n",
    "\n",
    "check_graph(ingredients)"
   ]
  },
  {
   "cell_type": "markdown",
   "metadata": {},
   "source": [
    "## Serialising and saving RDF graphs\n",
    "\n",
    "There are different formats for storing RDF triples. Semantically, these mean the same, they differ only in their syntax. \n",
    "\n",
    "\n",
    "Use the function Graph.serialize(format). \n",
    "\n",
    "**Exercise 2**\n",
    "\n",
    "1. serialise one of the graphs to the .ttl, .xml and .nt format, and print the first n lines to compare the syntax\n",
    "1. save your graph in the turtle format to the ./data/ folder"
   ]
  },
  {
   "cell_type": "code",
   "execution_count": 176,
   "metadata": {},
   "outputs": [],
   "source": [
    "def print_n_lines(graph, format, n):\n",
    "    serialized = graph.serialize(format=format)\n",
    "    lines = serialized.splitlines()\n",
    "    for i in range(min(n, len(lines))):\n",
    "        print(lines[i])\n",
    "    print(\"\\n\")"
   ]
  },
  {
   "cell_type": "code",
   "execution_count": 177,
   "metadata": {},
   "outputs": [],
   "source": [
    "def compare_formats(graph, n):\n",
    "    # Print out the first n lines in the RDF Turtle format\n",
    "    print(\"------ Turtle format ------\")\n",
    "    print_n_lines(graph, \"turtle\", n)\n",
    "    # Print out the first n lines in the RDF XML format\n",
    "    print(\"------ XML format ------\")\n",
    "    print_n_lines(graph, \"xml\", n)\n",
    "    # Print out the first n lines in the RDF N-Triples format\n",
    "    print(\"------ N-Triples format ------\")\n",
    "    print_n_lines(graph, \"nt\", n)"
   ]
  },
  {
   "cell_type": "code",
   "execution_count": 178,
   "metadata": {},
   "outputs": [
    {
     "name": "stdout",
     "output_type": "stream",
     "text": [
      "------ Turtle format ------\n",
      "@prefix dcterms: <http://purl.org/dc/terms/> .\n",
      "@prefix ind: <http://purl.org/heals/ingredient/> .\n",
      "@prefix obo: <http://purl.obolibrary.org/obo/> .\n",
      "@prefix owl: <http://www.w3.org/2002/07/owl#> .\n",
      "@prefix rdfs: <http://www.w3.org/2000/01/rdf-schema#> .\n",
      "@prefix skos: <http://www.w3.org/2004/02/skos/core#> .\n",
      "@prefix sm: <https://www.omg.org/techprocess/ab/SpecificationMetadata/> .\n",
      "@prefix wtm: <http://purl.org/heals/food/> .\n",
      "@prefix xsd: <http://www.w3.org/2001/XMLSchema#> .\n",
      "\n",
      "ind:AlmondMeal a obo:FOODON_03400662,\n",
      "        obo:FOODON_03400685,\n",
      "        wtm:Ingredient,\n",
      "        owl:NamedIndividual ;\n",
      "    rdfs:label \"almond meal\" ;\n",
      "    dcterms:source \"Wikipedia, \\\"Almond meal.\\\" [Online]. Available:https://en.wikipedia.org/wiki/Almond_meal. [Accessed: Nov. 10, 2018]\" ;\n",
      "    wtm:hasGluten false ;\n",
      "    wtm:hasGlycemicIndex \"25\"^^xsd:nonNegativeInteger ;\n",
      "    skos:definition \"an ingredient made from ground up almonds\" ;\n",
      "    skos:scopeNote \"used as an ingredient\" .\n",
      "\n",
      "\n",
      "------ XML format ------\n",
      "<?xml version=\"1.0\" encoding=\"utf-8\"?>\n",
      "<rdf:RDF\n",
      "   xmlns:dcterms=\"http://purl.org/dc/terms/\"\n",
      "   xmlns:owl=\"http://www.w3.org/2002/07/owl#\"\n",
      "   xmlns:rdf=\"http://www.w3.org/1999/02/22-rdf-syntax-ns#\"\n",
      "   xmlns:rdfs=\"http://www.w3.org/2000/01/rdf-schema#\"\n",
      "   xmlns:skos=\"http://www.w3.org/2004/02/skos/core#\"\n",
      "   xmlns:sm=\"https://www.omg.org/techprocess/ab/SpecificationMetadata/\"\n",
      "   xmlns:wtm=\"http://purl.org/heals/food/\"\n",
      ">\n",
      "  <rdf:Description rdf:about=\"http://purl.org/heals/ingredient/Salt\">\n",
      "    <rdf:type rdf:resource=\"http://www.w3.org/2002/07/owl#NamedIndividual\"/>\n",
      "    <rdf:type rdf:resource=\"http://purl.org/heals/food/ChemicalFoodProduct\"/>\n",
      "    <rdf:type rdf:resource=\"http://purl.org/heals/food/Ingredient\"/>\n",
      "    <wtm:hasGluten rdf:datatype=\"http://www.w3.org/2001/XMLSchema#boolean\">false</wtm:hasGluten>\n",
      "    <wtm:hasGlycemicIndex rdf:datatype=\"http://www.w3.org/2001/XMLSchema#nonNegativeInteger\">0</wtm:hasGlycemicIndex>\n",
      "    <dcterms:source>\"Salt,\" Merriam-Webster. [Online]. Available: https://www.merriam-webster.com/dictionary/salt. [Accessed: 13-Oct-2018].</dcterms:source>\n",
      "    <rdfs:label>salt</rdfs:label>\n",
      "    <skos:definition>a crystalline compound NaCl that consists of sodium chloride, is abundant in nature, and is used especially to season or preserve food or in industry</skos:definition>\n",
      "    <skos:scopeNote>used as an ingredient</skos:scopeNote>\n",
      "\n",
      "\n",
      "------ N-Triples format ------\n",
      "<http://purl.org/heals/ingredient/Salt> <http://www.w3.org/2004/02/skos/core#definition> \"a crystalline compound NaCl that consists of sodium chloride, is abundant in nature, and is used especially to season or preserve food or in industry\" .\n",
      "<http://purl.org/heals/ingredient/Walnut> <http://purl.org/heals/food/substitutesFor> <http://purl.org/heals/ingredient/Almond> .\n",
      "<http://purl.org/heals/ingredient/Banana> <http://www.w3.org/1999/02/22-rdf-syntax-ns#type> <http://purl.obolibrary.org/obo/FOODON_03400673> .\n",
      "<http://purl.org/heals/ingredient/Celsius> <http://www.w3.org/1999/02/22-rdf-syntax-ns#type> <http://purl.org/heals/food/TemperatureMeasurement> .\n",
      "<http://purl.org/heals/ingredient/Nutty> <http://www.w3.org/1999/02/22-rdf-syntax-ns#type> <http://www.w3.org/2002/07/owl#NamedIndividual> .\n",
      "<http://purl.org/heals/ingredient/TapiocaFlour> <http://www.w3.org/2004/02/skos/core#scopeNote> \"used as an ingredient\" .\n",
      "<http://purl.org/heals/ingredient/Bitter> <http://www.w3.org/2000/01/rdf-schema#label> \"bitter\" .\n",
      "<http://purl.org/heals/ingredient/SoySauce> <http://www.w3.org/1999/02/22-rdf-syntax-ns#type> <http://www.w3.org/2002/07/owl#NamedIndividual> .\n",
      "<http://purl.org/heals/ingredient/BlackPepper> <http://purl.org/dc/terms/source> \"\\\"Black Pepper,\\\" Merriam-Webster. [Online]. Available: https://www.merriam-webster.com/dictionary/black pepper. [Accessed: 13-Oct-2018].\" .\n",
      "<http://purl.org/heals/ingredient/LemonJuice> <http://www.w3.org/1999/02/22-rdf-syntax-ns#type> <http://purl.org/heals/food/Ingredient> .\n",
      "<http://purl.org/heals/ingredient/BrownSugar> <http://purl.org/dc/terms/source> \"\\\"Brown Surgar,\\\" Merriam-Webster. [Online]. Available: https://www.merriam-webster.com/dictionary/brown sugar. [Accessed: 26-Oct-2018].\" .\n",
      "<http://purl.org/heals/ingredient/Carrot> <http://www.w3.org/1999/02/22-rdf-syntax-ns#type> <http://purl.obolibrary.org/obo/FOODON_03400681> .\n",
      "<http://purl.org/heals/ingredient/ChickenEgg> <http://www.w3.org/1999/02/22-rdf-syntax-ns#type> <http://www.w3.org/2002/07/owl#NamedIndividual> .\n",
      "<http://purl.org/heals/ingredient/Kamut> <http://www.w3.org/1999/02/22-rdf-syntax-ns#type> <http://purl.org/heals/food/Ingredient> .\n",
      "<http://purl.org/heals/ingredient/Tomato> <http://www.w3.org/1999/02/22-rdf-syntax-ns#type> <http://www.w3.org/2002/07/owl#NamedIndividual> .\n",
      "<http://purl.org/heals/ingredient/Rosemary> <http://www.w3.org/1999/02/22-rdf-syntax-ns#type> <http://purl.org/heals/food/Ingredient> .\n",
      "<http://purl.org/heals/ingredient/CowMilk> <http://www.w3.org/2000/01/rdf-schema#label> \"cow milk\" .\n",
      "<http://purl.org/heals/ingredient/Cabbage> <http://www.w3.org/1999/02/22-rdf-syntax-ns#type> <http://www.w3.org/2002/07/owl#NamedIndividual> .\n",
      "<http://purl.org/heals/ingredient/Chicken> <http://www.w3.org/1999/02/22-rdf-syntax-ns#type> <http://purl.org/heals/food/MeatFromChicken> .\n",
      "<http://purl.org/heals/ingredient/Smoky> <http://purl.org/dc/terms/source> \"\\\"Smoky,\\\" Merriam-Webster. [Online]. Available: https://www.merriam-webster.com/dictionary/smoky. [Accessed: 18-Oct-2018].\" .\n",
      "\n",
      "\n"
     ]
    }
   ],
   "source": [
    "# 1. serialize the chosen graph\n",
    "compare_formats(ingredients, 20)"
   ]
  },
  {
   "cell_type": "code",
   "execution_count": 179,
   "metadata": {},
   "outputs": [
    {
     "data": {
      "text/plain": [
       "<Graph identifier=N2bfbca9180ee450cab235689fad0136c (<class 'rdflib.graph.Graph'>)>"
      ]
     },
     "execution_count": 179,
     "metadata": {},
     "output_type": "execute_result"
    }
   ],
   "source": [
    "# 2. save the graph in ttl format\n",
    "ingredients.serialize(destination=\"./data/ing.ttl\")"
   ]
  },
  {
   "cell_type": "code",
   "execution_count": 180,
   "metadata": {},
   "outputs": [
    {
     "name": "stdout",
     "output_type": "stream",
     "text": [
      "The graph has 837 statements.\n"
     ]
    }
   ],
   "source": [
    "# test\n",
    "test = Graph()\n",
    "test.parse(\"./data/ing.ttl\")\n",
    "check_graph(test)"
   ]
  },
  {
   "cell_type": "markdown",
   "metadata": {},
   "source": [
    "##  Merging graphs\n",
    "\n",
    "Merging graphs can be done via sequential parsings or by the overloaded operator +\n",
    "\n",
    "**Note:** Set-theoretic graph semantics apply\n",
    "\n",
    "The Food knowledge graph FoodKG contains a graph of statements about ingredients, as well as a graph with statements about recipes. \n",
    "\n",
    "**Exercise 3**: \n",
    "\n",
    "1. load ./data/ingredients.rdf and ./data/ghostbusters.ttl into a single graph, either by sequential parsing or using the operator +.\n",
    "\n",
    "2. count the number of statements in each graph, and the intersection of the two graphs. \n",
    "\n",
    "3. check whether the combined graph is connected (using graph.connected()) \n",
    "\n",
    "4. load ./data/ingredients.rdf and ./data/recipes.rdf into a single graph, either by sequential parsing or using the operator +. \n",
    "\n",
    "5. count the number of statements in each graph, and the intersection of the two graphs. \n",
    "\n",
    "6. check whether the combined graph is connected (using graph.connected()). Explain the result with respect to point 3! "
   ]
  },
  {
   "cell_type": "code",
   "execution_count": 181,
   "metadata": {},
   "outputs": [
    {
     "name": "stdout",
     "output_type": "stream",
     "text": [
      "Total # of statements:\n",
      "The graph has 53174 statements.\n"
     ]
    }
   ],
   "source": [
    "#look at rdflib documentation - Navigating Graphs\n",
    "\n",
    "# 1\n",
    "ghost = Graph()\n",
    "ghost.parse(\"./data/ghostbusters.ttl\")\n",
    "\n",
    "union = Graph()\n",
    "union = ingredients + ghost\n",
    "\n",
    "print(\"Total # of statements:\")\n",
    "check_graph(union)"
   ]
  },
  {
   "cell_type": "code",
   "execution_count": 182,
   "metadata": {},
   "outputs": [
    {
     "name": "stdout",
     "output_type": "stream",
     "text": [
      "# of statements in Ingredients graph:\n",
      "The graph has 837 statements.\n",
      "# of statements in Ghostbusters graph:\n",
      "The graph has 52337 statements.\n",
      "# of statements in the intersection:\n",
      "The graph has 0 statements.\n"
     ]
    }
   ],
   "source": [
    "# 2\n",
    "print(\"# of statements in Ingredients graph:\")\n",
    "check_graph(ingredients)\n",
    "print(\"# of statements in Ghostbusters graph:\")\n",
    "check_graph(ghost)\n",
    "\n",
    "intersection = ingredients & ghost\n",
    "print(\"# of statements in the intersection:\")\n",
    "check_graph(intersection)"
   ]
  },
  {
   "cell_type": "code",
   "execution_count": 183,
   "metadata": {},
   "outputs": [
    {
     "data": {
      "text/plain": [
       "False"
      ]
     },
     "execution_count": 183,
     "metadata": {},
     "output_type": "execute_result"
    }
   ],
   "source": [
    "# 3\n",
    "union.connected()"
   ]
  },
  {
   "cell_type": "code",
   "execution_count": 184,
   "metadata": {},
   "outputs": [
    {
     "name": "stdout",
     "output_type": "stream",
     "text": [
      "Total # of statements:\n",
      "The graph has 1299 statements.\n"
     ]
    }
   ],
   "source": [
    "# 4\n",
    "recipes = Graph()\n",
    "recipes.parse(\"./data/recipes.rdf\")\n",
    "\n",
    "union_recipes = Graph()\n",
    "union_recipes.parse(\"./data/ingredients.rdf\")\n",
    "union_recipes.parse(\"./data/recipes.rdf\")\n",
    "\n",
    "print(\"Total # of statements:\")\n",
    "check_graph(union_recipes)"
   ]
  },
  {
   "cell_type": "code",
   "execution_count": 185,
   "metadata": {},
   "outputs": [
    {
     "name": "stdout",
     "output_type": "stream",
     "text": [
      "# of statements in Ingredients graph:\n",
      "The graph has 837 statements.\n",
      "# of statements in Recipes graph:\n",
      "The graph has 480 statements.\n",
      "# of statements in the intersection:\n",
      "The graph has 18 statements.\n"
     ]
    }
   ],
   "source": [
    "# 5\n",
    "print(\"# of statements in Ingredients graph:\")\n",
    "check_graph(ingredients)\n",
    "print(\"# of statements in Recipes graph:\")\n",
    "check_graph(recipes)\n",
    "\n",
    "intersection_recipes = ingredients & recipes\n",
    "print(\"# of statements in the intersection:\")\n",
    "check_graph(intersection_recipes)"
   ]
  },
  {
   "cell_type": "code",
   "execution_count": 186,
   "metadata": {},
   "outputs": [
    {
     "data": {
      "text/plain": [
       "False"
      ]
     },
     "execution_count": 186,
     "metadata": {},
     "output_type": "execute_result"
    }
   ],
   "source": [
    "# 6\n",
    "union_recipes.connected()"
   ]
  },
  {
   "cell_type": "markdown",
   "metadata": {},
   "source": [
    "Thus, there are no shared predicates or properties connecting the common subjects or objects in both graphs: ingredients and recipes (ghostbusters)."
   ]
  },
  {
   "cell_type": "markdown",
   "metadata": {},
   "source": [
    "## Namespaces \n",
    "\n",
    "Remind yourself what namespaces are. \n",
    "\n",
    "In RDFLib, the namespace module defines many common namespaces such as RDF, RDFS, OWL, FOAF, SKOS, etc., but you can also easily add URIs within a different namespace:\n"
   ]
  },
  {
   "cell_type": "code",
   "execution_count": 187,
   "metadata": {},
   "outputs": [
    {
     "data": {
      "text/plain": [
       "rdflib.term.URIRef('http://linkedscience.org/teach/ns#Teacher')"
      ]
     },
     "execution_count": 187,
     "metadata": {},
     "output_type": "execute_result"
    }
   ],
   "source": [
    "TEACH = Namespace(\"http://linkedscience.org/teach/ns#\")\n",
    "TEACH.Teacher"
   ]
  },
  {
   "cell_type": "markdown",
   "metadata": {},
   "source": [
    "Check out the specification to see which other terms are used within the TEACH namespace. http://linkedscience.org/teach/ns/#sec-specification. \n",
    "You can use a NamespaceManager to bind a prefix to a namespace: "
   ]
  },
  {
   "cell_type": "code",
   "execution_count": 188,
   "metadata": {},
   "outputs": [
    {
     "data": {
      "text/plain": [
       "'TEACH:Teacher'"
      ]
     },
     "execution_count": 188,
     "metadata": {},
     "output_type": "execute_result"
    }
   ],
   "source": [
    "g = Graph()\n",
    "g.namespace_manager.bind('TEACH', URIRef('http://linkedscience.org/teach/ns#'))\n",
    "TEACH.Teacher.n3(g.namespace_manager)"
   ]
  },
  {
   "cell_type": "code",
   "execution_count": 189,
   "metadata": {},
   "outputs": [
    {
     "data": {
      "text/plain": [
       "rdflib.term.URIRef('http://krw.vu.nl/data#Student')"
      ]
     },
     "execution_count": 189,
     "metadata": {},
     "output_type": "execute_result"
    }
   ],
   "source": [
    "KRW = Namespace(\"http://krw.vu.nl/data#\")\n",
    "\n",
    "#creating individuals within your namespace\n",
    "KRW.Teacher\n",
    "KRW.Student"
   ]
  },
  {
   "cell_type": "markdown",
   "metadata": {},
   "source": [
    "**Exercise 4:**\n",
    "1. create your own namespace (can be made up) "
   ]
  },
  {
   "cell_type": "code",
   "execution_count": 190,
   "metadata": {},
   "outputs": [
    {
     "data": {
      "text/plain": [
       "rdflib.term.URIRef('http://example.org/space/Star')"
      ]
     },
     "execution_count": 190,
     "metadata": {},
     "output_type": "execute_result"
    }
   ],
   "source": [
    "SPACE = Namespace(\"http://example.org/space/\")\n",
    "\n",
    "SPACE.Planet\n",
    "SPACE.Star"
   ]
  },
  {
   "cell_type": "code",
   "execution_count": 191,
   "metadata": {},
   "outputs": [
    {
     "name": "stdout",
     "output_type": "stream",
     "text": [
      "http://example.org/space/Instance\n"
     ]
    }
   ],
   "source": [
    "instance = URIRef('http://example.org/space/Instance')\n",
    "print(instance)"
   ]
  },
  {
   "cell_type": "code",
   "execution_count": 192,
   "metadata": {},
   "outputs": [],
   "source": [
    "space_g = Graph()\n",
    "space_g.namespace_manager.bind('space', SPACE)"
   ]
  },
  {
   "cell_type": "code",
   "execution_count": 193,
   "metadata": {},
   "outputs": [
    {
     "name": "stdout",
     "output_type": "stream",
     "text": [
      "space:Planet\n"
     ]
    }
   ],
   "source": [
    "print(SPACE.Planet.n3(space_g.namespace_manager))"
   ]
  },
  {
   "cell_type": "markdown",
   "metadata": {},
   "source": [
    "\n",
    "## Creating RDF triples\n",
    "\n",
    "Triples are added to the graph with the function Graph.add()\n",
    "\n",
    "The parameter is a triple given in a Python **tuple** (subject, predicate, object)\n",
    "\n",
    "Notice the namespace convenience syntax!\n",
    "\n",
    "**Exercise 5:** \n",
    "\n",
    "1. create a new graph and add triples (~10) within your made-up namespace using Graph.add(). These triples can be about anything, for instance ingredients or recipes. Make sure they include the predicates RDF.type, RDFS.label and RDFS.subClassOf\n",
    "\n",
    "2. open yourRDF.ttl, and write your triples out by hand in a syntax of your choice (turtle is recommended, notice the file extension!). Load the triples here with rdflib. "
   ]
  },
  {
   "cell_type": "code",
   "execution_count": 194,
   "metadata": {},
   "outputs": [
    {
     "data": {
      "text/plain": [
       "<Graph identifier=Nace9904861654a069fcb9bc144d8a755 (<class 'rdflib.graph.Graph'>)>"
      ]
     },
     "execution_count": 194,
     "metadata": {},
     "output_type": "execute_result"
    }
   ],
   "source": [
    "# create graph\n",
    "solar_g = Graph()\n",
    "\n",
    "# example namespace\n",
    "SOLAR = Namespace(\"http://example.org/solarsystem/\")\n",
    "solar_g.namespace_manager.bind('solar', SOLAR)\n",
    "\n",
    "# add triples using store's add method.\n",
    "sun = URIRef(\"http://example.org/solarsystem/Sun\")\n",
    "earth = SOLAR.Earth\n",
    "moon = SOLAR.Moon\n",
    "\n",
    "star = SOLAR.Star # == URIRef(\"http://example.org/solarsystem/Star\")\n",
    "planet = SOLAR.Planet\n",
    "satellite = SOLAR.Satellite\n",
    "\n",
    "radius = Literal(695000)\n",
    "\n",
    "solar_g.add((sun, RDF.type, star))\n",
    "solar_g.add((sun, SOLAR.has_radius, radius))\n",
    "solar_g.add((sun, RDFS.label, Literal(\"Sun\")))\n",
    "solar_g.add((earth, RDF.type, planet))\n",
    "solar_g.add((moon, RDF.type, satellite))\n",
    "solar_g.add((moon, SOLAR.satellite_of, earth))\n",
    "solar_g.add((star, RDFS.subClassOf, SOLAR.CelestialBody))\n",
    "solar_g.add((planet, RDFS.subClassOf, SOLAR.CelestialBody))\n",
    "solar_g.add((satellite, RDFS.subClassOf, SOLAR.CelestialBody))"
   ]
  },
  {
   "cell_type": "code",
   "execution_count": 195,
   "metadata": {},
   "outputs": [
    {
     "name": "stdout",
     "output_type": "stream",
     "text": [
      "The graph has 9 statements.\n"
     ]
    }
   ],
   "source": [
    "check_graph(solar_g)"
   ]
  },
  {
   "cell_type": "code",
   "execution_count": 196,
   "metadata": {},
   "outputs": [],
   "source": [
    "# save the graph to destination in ttl format - myRDF.ttl (look at RDFLib documentation - Loading and saving RDF)\n",
    "# solar_g.serialize(destination=\"./data/yourRDF.ttl\")"
   ]
  },
  {
   "cell_type": "code",
   "execution_count": 197,
   "metadata": {},
   "outputs": [
    {
     "name": "stdout",
     "output_type": "stream",
     "text": [
      "The graph has 9 statements.\n"
     ]
    }
   ],
   "source": [
    "# load the saved graph and print it in ttl format\n",
    "my_rdf = Graph()\n",
    "my_rdf.parse(\"./data/yourRDF.ttl\")\n",
    "check_graph(my_rdf)"
   ]
  },
  {
   "cell_type": "code",
   "execution_count": 198,
   "metadata": {},
   "outputs": [
    {
     "name": "stdout",
     "output_type": "stream",
     "text": [
      "@prefix rdfs: <http://www.w3.org/2000/01/rdf-schema#> .\n",
      "@prefix solar: <http://example.org/solarsystem/> .\n",
      "@prefix xsd: <http://www.w3.org/2001/XMLSchema#> .\n",
      "\n",
      "solar:Moon a solar:Satellite ;\n",
      "    solar:satellite_of solar:Earth .\n",
      "\n",
      "solar:Sun a solar:Star ;\n",
      "    rdfs:label \"Sun\" ;\n",
      "    solar:has_radius 695000 .\n",
      "\n",
      "solar:Earth a solar:Planet .\n",
      "\n",
      "solar:Planet rdfs:subClassOf solar:CelestialBody .\n",
      "\n",
      "solar:Satellite rdfs:subClassOf solar:CelestialBody .\n",
      "\n",
      "solar:Star rdfs:subClassOf solar:CelestialBody .\n",
      "\n",
      "\n"
     ]
    }
   ],
   "source": [
    "print(my_rdf.serialize(format=\"turtle\"))"
   ]
  },
  {
   "cell_type": "markdown",
   "metadata": {},
   "source": [
    "## Navigating graphs\n",
    "\n",
    "rdflib uses iterators to navigate Graphs. The methods for navigating subjects, predicates and objects are Graph.subjects, Graph.predicates, Graph.objects\n",
    "\n",
    "**Exercise 6:**\n",
    "\n",
    "1. print all the triples in yourRDF.ttl\n",
    "2. print all subjects in yourRDF.ttl\n",
    "3. print all predicates in yourRDF.ttl\n",
    "4. print all objects in yourRDF.ttl\n"
   ]
  },
  {
   "cell_type": "code",
   "execution_count": 199,
   "metadata": {},
   "outputs": [
    {
     "name": "stdout",
     "output_type": "stream",
     "text": [
      "(solar:Sun, rdf:type, solar:Star)\n",
      "(solar:Sun, rdfs:label, \"Sun\")\n",
      "(solar:Planet, rdfs:subClassOf, solar:CelestialBody)\n",
      "(solar:Star, rdfs:subClassOf, solar:CelestialBody)\n",
      "(solar:Moon, solar:satellite_of, solar:Earth)\n",
      "(solar:Earth, rdf:type, solar:Planet)\n",
      "(solar:Satellite, rdfs:subClassOf, solar:CelestialBody)\n",
      "(solar:Moon, rdf:type, solar:Satellite)\n",
      "(solar:Sun, solar:has_radius, \"695000\"^^xsd:integer)\n"
     ]
    }
   ],
   "source": [
    "#TIP you have to loop in the graph \n",
    "# 1\n",
    "for subj, pred, obj in my_rdf:\n",
    "    print(f\"({subj.n3(solar_g.namespace_manager)}, {pred.n3(solar_g.namespace_manager)}, {obj.n3(solar_g.namespace_manager)})\")"
   ]
  },
  {
   "cell_type": "code",
   "execution_count": 200,
   "metadata": {},
   "outputs": [
    {
     "name": "stdout",
     "output_type": "stream",
     "text": [
      "http://example.org/solarsystem/Sun\n",
      "http://example.org/solarsystem/Sun\n",
      "http://example.org/solarsystem/Planet\n",
      "http://example.org/solarsystem/Star\n",
      "http://example.org/solarsystem/Moon\n",
      "http://example.org/solarsystem/Earth\n",
      "http://example.org/solarsystem/Satellite\n",
      "http://example.org/solarsystem/Moon\n",
      "http://example.org/solarsystem/Sun\n"
     ]
    }
   ],
   "source": [
    "# 2\n",
    "for subj in my_rdf.subjects():\n",
    "    print(subj)"
   ]
  },
  {
   "cell_type": "code",
   "execution_count": 201,
   "metadata": {},
   "outputs": [
    {
     "name": "stdout",
     "output_type": "stream",
     "text": [
      "http://www.w3.org/1999/02/22-rdf-syntax-ns#type\n",
      "http://www.w3.org/2000/01/rdf-schema#label\n",
      "http://www.w3.org/2000/01/rdf-schema#subClassOf\n",
      "http://www.w3.org/2000/01/rdf-schema#subClassOf\n",
      "http://example.org/solarsystem/satellite_of\n",
      "http://www.w3.org/1999/02/22-rdf-syntax-ns#type\n",
      "http://www.w3.org/2000/01/rdf-schema#subClassOf\n",
      "http://www.w3.org/1999/02/22-rdf-syntax-ns#type\n",
      "http://example.org/solarsystem/has_radius\n"
     ]
    }
   ],
   "source": [
    "# 3\n",
    "for pred in my_rdf.predicates():\n",
    "    print(pred)"
   ]
  },
  {
   "cell_type": "code",
   "execution_count": 202,
   "metadata": {},
   "outputs": [
    {
     "name": "stdout",
     "output_type": "stream",
     "text": [
      "http://example.org/solarsystem/Star\n",
      "Sun\n",
      "http://example.org/solarsystem/CelestialBody\n",
      "http://example.org/solarsystem/CelestialBody\n",
      "http://example.org/solarsystem/Earth\n",
      "http://example.org/solarsystem/Planet\n",
      "http://example.org/solarsystem/CelestialBody\n",
      "http://example.org/solarsystem/Satellite\n",
      "695000\n"
     ]
    }
   ],
   "source": [
    "# 4\n",
    "for obj in my_rdf.objects():\n",
    "    print(obj)"
   ]
  },
  {
   "cell_type": "markdown",
   "metadata": {},
   "source": [
    "We can also filter the subjects, predicates and objects we want to retrieve, and match their values like in a database \"join\" operation\n",
    "\n",
    "\n",
    "**Exercise 7:**\n",
    "\n",
    "1. print all subject types in yourRDF.ttl\n",
    "2. print all subject labels yourRDF.ttl"
   ]
  },
  {
   "cell_type": "code",
   "execution_count": 203,
   "metadata": {},
   "outputs": [
    {
     "name": "stdout",
     "output_type": "stream",
     "text": [
      "solar:Satellite\n",
      "solar:Star\n",
      "solar:Planet\n"
     ]
    }
   ],
   "source": [
    "# 1\n",
    "for subj, pred, obj in my_rdf.triples((None,  RDF.type, None)):\n",
    "    print(obj.n3(solar_g.namespace_manager))\n",
    "    # print(f\"{subj.n3(solar_g.namespace_manager)} is a {obj.n3(solar_g.namespace_manager)}\")"
   ]
  },
  {
   "cell_type": "code",
   "execution_count": 204,
   "metadata": {},
   "outputs": [
    {
     "name": "stdout",
     "output_type": "stream",
     "text": [
      "\"Sun\"\n"
     ]
    }
   ],
   "source": [
    "# 2\n",
    "for subj, pred, obj in my_rdf.triples((None,  RDFS.label, None)):\n",
    "    print(obj.n3(solar_g.namespace_manager))\n",
    "    # print(f\"{subj.n3(solar_g.namespace_manager)} is a {obj.n3(solar_g.namespace_manager)}\")"
   ]
  },
  {
   "cell_type": "markdown",
   "metadata": {},
   "source": [
    "### Basic triple matching (almost querying!)\n",
    "\n",
    "We use method Graph.triples and a Python tuple that acts as a mask for specifying our criteria\n",
    "\n",
    "**Exercise 8:**\n",
    "\n",
    "1. check whether a triple is in your graph -> print true or false\n",
    "2. print all triples related to a certain subject in your graph\n",
    "3. print all triples related to a certain object in your graph"
   ]
  },
  {
   "cell_type": "code",
   "execution_count": 205,
   "metadata": {},
   "outputs": [
    {
     "name": "stdout",
     "output_type": "stream",
     "text": [
      "True\n",
      "This graph contains triples about Moon.\n"
     ]
    }
   ],
   "source": [
    "# 1.1.\n",
    "if (moon, None, None) in my_rdf:\n",
    "    print(True)\n",
    "    print(\"This graph contains triples about Moon.\")\n",
    "else:\n",
    "    print(False)"
   ]
  },
  {
   "cell_type": "code",
   "execution_count": 206,
   "metadata": {},
   "outputs": [
    {
     "name": "stdout",
     "output_type": "stream",
     "text": [
      "False\n",
      "Earth is not a star.\n"
     ]
    }
   ],
   "source": [
    "# 1.2.\n",
    "if (earth, None, star) in my_rdf:\n",
    "    print(True)\n",
    "    print(\"Earth is a star.\")\n",
    "else:\n",
    "    print(False)\n",
    "    print(\"Earth is not a star.\")"
   ]
  },
  {
   "cell_type": "code",
   "execution_count": 207,
   "metadata": {},
   "outputs": [
    {
     "name": "stdout",
     "output_type": "stream",
     "text": [
      "(solar:Sun, rdf:type, solar:Star)\n",
      "(solar:Sun, rdfs:label, \"Sun\")\n",
      "(solar:Sun, solar:has_radius, \"695000\"^^xsd:integer)\n"
     ]
    }
   ],
   "source": [
    "# 2\n",
    "for subj, pred, obj in my_rdf.triples((SOLAR.Sun,  None, None)):\n",
    "    print(f\"({subj.n3(solar_g.namespace_manager)}, {pred.n3(solar_g.namespace_manager)}, {obj.n3(solar_g.namespace_manager)})\")"
   ]
  },
  {
   "cell_type": "code",
   "execution_count": 208,
   "metadata": {},
   "outputs": [
    {
     "name": "stdout",
     "output_type": "stream",
     "text": [
      "(solar:Planet, rdfs:subClassOf, solar:CelestialBody)\n",
      "(solar:Satellite, rdfs:subClassOf, solar:CelestialBody)\n",
      "(solar:Star, rdfs:subClassOf, solar:CelestialBody)\n"
     ]
    }
   ],
   "source": [
    "# 3\n",
    "for subj, pred, obj in my_rdf.triples((None,  None, SOLAR.CelestialBody)):\n",
    "    print(f\"({subj.n3(solar_g.namespace_manager)}, {pred.n3(solar_g.namespace_manager)}, {obj.n3(solar_g.namespace_manager)})\")"
   ]
  },
  {
   "cell_type": "markdown",
   "metadata": {},
   "source": [
    "## Assignment part 1: your own webapplication. \n",
    "\n",
    "You are a chef in a restaurant, and you need to serve someone that is gluten intolerant. \n",
    "\n",
    "1. load the ./data/recipes.rdf and ./data/ingredients.rdf datasets in one graph\n",
    "2. query your graph (as we did in previous exercises) to retrieve all recipes without gluten\n",
    "3. query your graph for all recipes that you can make for your gluten intolerant guest. \n",
    "4. the guest asks you whether there are more options. Can you find the recipes for which an ingredient with gluten can be replaced, solely using pattern matching? (Hint: you need to write multiple of these pattern matching queries, and check the predicate __substitutesFor__) \n",
    "5. another guest is allergic to pecan nuts, which recipes could you serve them (including those for which pecan nuts can be replaced) \n",
    "\n",
    "**Note that this is a bit tedious: later on, we will be querying more complicated patterns with SPARQL!**"
   ]
  },
  {
   "cell_type": "code",
   "execution_count": 209,
   "metadata": {},
   "outputs": [
    {
     "name": "stdout",
     "output_type": "stream",
     "text": [
      "Total # of statements:\n",
      "The graph has 1299 statements.\n"
     ]
    }
   ],
   "source": [
    "# 1. load the ./data/recipes.rdf and ./data/ingredients.rdf datasets in one graph\n",
    "ingredients = Graph()\n",
    "recipes = Graph()\n",
    "graph = Graph()\n",
    "ingredients.parse(\"./data/ingredients.rdf\")\n",
    "recipes.parse(\"./data/recipes.rdf\")\n",
    "graph.parse(\"./data/ingredients.rdf\")\n",
    "graph.parse(\"./data/recipes.rdf\")\n",
    "\n",
    "print(\"Total # of statements:\")\n",
    "check_graph(graph)"
   ]
  },
  {
   "cell_type": "code",
   "execution_count": 210,
   "metadata": {},
   "outputs": [],
   "source": [
    "FOOD = Namespace(\"http://purl.org/heals/food/\")\n",
    "INGREDIENT = Namespace(\"http://purl.org/heals/ingredient/\")"
   ]
  },
  {
   "cell_type": "code",
   "execution_count": 211,
   "metadata": {},
   "outputs": [
    {
     "name": "stdout",
     "output_type": "stream",
     "text": [
      "Ingredients with gluten:\n",
      "(http://purl.org/heals/ingredient/AllPurposeFlour, http://purl.org/heals/food/hasGluten, true)\n",
      "(http://purl.org/heals/ingredient/ChickenBroth, http://purl.org/heals/food/hasGluten, true)\n",
      "(http://purl.org/heals/ingredient/Kamut, http://purl.org/heals/food/hasGluten, true)\n",
      "(http://purl.org/heals/ingredient/KamutFlour, http://purl.org/heals/food/hasGluten, true)\n",
      "(http://purl.org/heals/ingredient/Mayonnaise, http://purl.org/heals/food/hasGluten, true)\n",
      "(http://purl.org/heals/ingredient/WholeWheatFlour, http://purl.org/heals/food/hasGluten, true)\n"
     ]
    }
   ],
   "source": [
    "print(\"Ingredients with gluten:\")\n",
    "for subj, pred, obj in graph.triples((None,  FOOD.hasGluten, Literal(True))):\n",
    "    print(f\"({subj}, {pred}, {obj})\")"
   ]
  },
  {
   "cell_type": "code",
   "execution_count": 212,
   "metadata": {},
   "outputs": [
    {
     "name": "stdout",
     "output_type": "stream",
     "text": [
      "Recipes with gluten:\n",
      "http://purl.org/heals/ingredient/AlmondBiscotti has ingerient with gluten http://purl.org/heals/ingredient/AllPurposeFlour\n",
      "http://purl.org/heals/ingredient/BananaBread has ingerient with gluten http://purl.org/heals/ingredient/AllPurposeFlour\n",
      "http://purl.org/heals/ingredient/Brownies has ingerient with gluten http://purl.org/heals/ingredient/AllPurposeFlour\n",
      "http://purl.org/heals/ingredient/GoldenKamutBread has ingerient with gluten http://purl.org/heals/ingredient/AllPurposeFlour\n",
      "http://purl.org/heals/ingredient/KamutMuffin has ingerient with gluten http://purl.org/heals/ingredient/AllPurposeFlour\n",
      "http://purl.org/heals/ingredient/KamutPancake has ingerient with gluten http://purl.org/heals/ingredient/AllPurposeFlour\n",
      "http://purl.org/heals/ingredient/WhiteBread has ingerient with gluten http://purl.org/heals/ingredient/AllPurposeFlour\n",
      "http://purl.org/heals/ingredient/ThaiChicken has ingerient with gluten http://purl.org/heals/ingredient/ChickenBroth\n",
      "http://purl.org/heals/ingredient/ChickenSalad has ingerient with gluten http://purl.org/heals/ingredient/Mayonnaise\n",
      "http://purl.org/heals/ingredient/WholeGrainBananaPancake has ingerient with gluten http://purl.org/heals/ingredient/WholeWheatFlour\n",
      "10 recipes contain gluten\n"
     ]
    }
   ],
   "source": [
    "dishes_with_gluten = set()\n",
    "\n",
    "print(\"Recipes with gluten:\")\n",
    "for ingredient, pred, bool in graph.triples((None,  FOOD.hasGluten, Literal(True))):\n",
    "    for dish, has_ing, ing in graph.triples((None, FOOD.hasIngredient, ingredient)):\n",
    "        if dish not in dishes_with_gluten:\n",
    "            print(f\"{dish} has ingerient with gluten {ing}\")\n",
    "        dishes_with_gluten.add(dish)\n",
    "\n",
    "print(f\"{len(dishes_with_gluten)} recipes contain gluten\")"
   ]
  },
  {
   "cell_type": "code",
   "execution_count": 213,
   "metadata": {},
   "outputs": [
    {
     "name": "stdout",
     "output_type": "stream",
     "text": [
      "Recipes without gluten:\n",
      "http://purl.org/heals/ingredient/BakedChickenTender\n",
      "http://purl.org/heals/ingredient/BananaBlueberryAlmondFlourMuffin\n",
      "http://purl.org/heals/ingredient/BeefNilaga\n",
      "http://purl.org/heals/ingredient/BeefStew\n",
      "http://purl.org/heals/ingredient/BraisedBalsamicChicken\n",
      "http://purl.org/heals/ingredient/CornedBeefHash\n",
      "http://purl.org/heals/ingredient/FlourlessCoconutAndAlmondCake\n",
      "http://purl.org/heals/ingredient/GlutenFreeCoconutCake\n",
      "http://purl.org/heals/ingredient/GrilledChickenKabob\n",
      "http://purl.org/heals/ingredient/PotRoastWithVegetables\n",
      "http://purl.org/heals/ingredient/SaucyShepherdPie\n",
      "http://purl.org/heals/ingredient/SmotheredChickenBreast\n",
      "12 recipes\n"
     ]
    }
   ],
   "source": [
    "# 2. query your graph to retrieve all recipes without gluten\n",
    "\n",
    "print(\"Recipes without gluten:\")\n",
    "recipes_without_gluten = []\n",
    "count = 0\n",
    "for recipe, pred, obj in graph.triples((None, RDF.type, FOOD.Recipe)):\n",
    "    if recipe not in dishes_with_gluten:\n",
    "        recipes_without_gluten.append(recipe)\n",
    "        print(f\"{recipe}\")\n",
    "        count += 1\n",
    "\n",
    "print(f\"{count} recipes\")"
   ]
  },
  {
   "cell_type": "code",
   "execution_count": 214,
   "metadata": {},
   "outputs": [
    {
     "name": "stdout",
     "output_type": "stream",
     "text": [
      "Recipes without gluten:\n",
      "http://purl.org/heals/ingredient/BakedChickenTender\n",
      "http://purl.org/heals/ingredient/BananaBlueberryAlmondFlourMuffin\n",
      "http://purl.org/heals/ingredient/BeefNilaga\n",
      "http://purl.org/heals/ingredient/BeefStew\n",
      "http://purl.org/heals/ingredient/BraisedBalsamicChicken\n",
      "http://purl.org/heals/ingredient/CornedBeefHash\n",
      "http://purl.org/heals/ingredient/FlourlessCoconutAndAlmondCake\n",
      "http://purl.org/heals/ingredient/GlutenFreeCoconutCake\n",
      "http://purl.org/heals/ingredient/GrilledChickenKabob\n",
      "http://purl.org/heals/ingredient/PotRoastWithVegetables\n",
      "http://purl.org/heals/ingredient/SaucyShepherdPie\n",
      "http://purl.org/heals/ingredient/SmotheredChickenBreast\n",
      "12 recipes\n"
     ]
    }
   ],
   "source": [
    "# 2. variant 2\n",
    "\n",
    "print(\"Recipes without gluten:\")\n",
    "recipes_without_gluten2 = []\n",
    "count2 = 0\n",
    "for recipe, pred, obj in graph.triples((None, RDF.type, FOOD.Recipe)):\n",
    "    no_gluten_recipe = True\n",
    "    for dish, pred2, ingredient, in graph.triples((recipe, FOOD.hasIngredient, None)):\n",
    "        if (ingredient, FOOD.hasGluten, Literal(True)) in graph:\n",
    "            no_gluten_recipe = False\n",
    "            break\n",
    "    if not no_gluten_recipe:\n",
    "        continue\n",
    "    recipes_without_gluten2.append(recipe)\n",
    "    print(recipe)\n",
    "    count2 += 1\n",
    "\n",
    "print(f\"{count2} recipes\")"
   ]
  },
  {
   "cell_type": "code",
   "execution_count": 215,
   "metadata": {},
   "outputs": [
    {
     "name": "stdout",
     "output_type": "stream",
     "text": [
      "Recipes recipes with ingredients which we definitely know do not contain gluten:\n",
      "http://purl.org/heals/ingredient/BakedChickenTender\n",
      "http://purl.org/heals/ingredient/BananaBlueberryAlmondFlourMuffin\n",
      "http://purl.org/heals/ingredient/BeefNilaga\n",
      "http://purl.org/heals/ingredient/BraisedBalsamicChicken\n",
      "http://purl.org/heals/ingredient/CornedBeefHash\n",
      "http://purl.org/heals/ingredient/FlourlessCoconutAndAlmondCake\n",
      "http://purl.org/heals/ingredient/GlutenFreeCoconutCake\n",
      "http://purl.org/heals/ingredient/GrilledChickenKabob\n",
      "http://purl.org/heals/ingredient/SaucyShepherdPie\n",
      "http://purl.org/heals/ingredient/SmotheredChickenBreast\n",
      "10 recipes\n"
     ]
    }
   ],
   "source": [
    "# 3. query your graph for all recipes that you can make for your gluten intolerant guest\n",
    "\n",
    "print(\"Recipes recipes with ingredients which we definitely know do not contain gluten:\")\n",
    "recipes_gluten_intolerant = []\n",
    "count3 = 0\n",
    "\n",
    "for recipe, pred, obj in graph.triples((None, RDF.type, FOOD.Recipe)):\n",
    "    gluten_intolerant_recipe = True\n",
    "    for dish, pred2, ingredient, in graph.triples((recipe, FOOD.hasIngredient, None)):\n",
    "        if (ingredient, FOOD.hasGluten, Literal(False)) not in graph:\n",
    "            if (ingredient, FOOD.hasGluten, Literal(True)) in graph:\n",
    "                # print(f\"{ingredient} in {dish} contains gluten\")\n",
    "                pass\n",
    "            else:\n",
    "                # print(f\"We're not sure that {ingredient} in {dish} does not contains gluten\")\n",
    "                pass\n",
    "            gluten_intolerant_recipe = False\n",
    "            break\n",
    "    if not gluten_intolerant_recipe:\n",
    "        continue\n",
    "    recipes_gluten_intolerant.append(recipe)\n",
    "    print(recipe)\n",
    "    count3 += 1\n",
    "\n",
    "print(f\"{count3} recipes\")"
   ]
  },
  {
   "cell_type": "code",
   "execution_count": 216,
   "metadata": {},
   "outputs": [
    {
     "name": "stdout",
     "output_type": "stream",
     "text": [
      "Recipes for which an ingredient with gluten can be replaced:\n",
      "http://purl.org/heals/ingredient/AlmondBiscotti\n",
      "http://purl.org/heals/ingredient/BananaBread\n",
      "http://purl.org/heals/ingredient/Brownies\n",
      "http://purl.org/heals/ingredient/WhiteBread\n",
      "4 recipes\n"
     ]
    }
   ],
   "source": [
    "# 4. the guest asks you whether there are more options. Can you find the recipes for which an ingredient with gluten can be replaced, solely using pattern matching?\n",
    "# (Hint: you need to write multiple of these pattern matching queries, and check the predicate substitutesFor)\n",
    "\n",
    "print(\"Recipes for which an ingredient with gluten can be replaced:\")\n",
    "count_more = 0\n",
    "\n",
    "for recipe, pred, obj in graph.triples((None, RDF.type, FOOD.Recipe)):\n",
    "    has_gluten = False\n",
    "    can_replaced = True\n",
    "    for subj, has_ing, ingredient in graph.triples((recipe,  FOOD.hasIngredient, None)):\n",
    "        if (ingredient, FOOD.hasGluten, Literal(True)) in graph:\n",
    "            has_gluten = True\n",
    "            can_replaced = False\n",
    "            if (None, FOOD.substitutesFor, ingredient) not in graph:\n",
    "                # print(f\"{ingredient} has no substitutes\")\n",
    "                # print(\"\\n\")\n",
    "                pass\n",
    "            for s, p, o in graph.triples((None, FOOD.substitutesFor, ingredient)):\n",
    "                if (s, FOOD.hasGluten, Literal(False)) in graph:\n",
    "                    # print(f\"{ingredient} can be replaced with {s} in {recipe}\")\n",
    "                    can_replaced = True\n",
    "                    break\n",
    "                else:\n",
    "                    # print(f\"{ingredient} cannot be replaced with {s} in {recipe} as it's not gluten-free\")\n",
    "                    # print(\"\\n\")\n",
    "                    pass\n",
    "    # ingredient with gluten cannot be replaced\n",
    "    # skip recipes without gluten\n",
    "    if not can_replaced or not has_gluten:\n",
    "        continue\n",
    "    count_more += 1\n",
    "    print(f\"{recipe}\")\n",
    "    # print(\"\\n\")\n",
    "\n",
    "print(f\"{count_more} recipes\")"
   ]
  },
  {
   "cell_type": "code",
   "execution_count": 217,
   "metadata": {},
   "outputs": [
    {
     "name": "stdout",
     "output_type": "stream",
     "text": [
      "Recipes without pecan nuts, including the ones for which pecan nuts can be replaced:\n",
      "http://purl.org/heals/ingredient/AlmondBiscotti\n",
      "http://purl.org/heals/ingredient/BakedChickenTender\n",
      "http://purl.org/heals/ingredient/BananaBlueberryAlmondFlourMuffin\n",
      "http://purl.org/heals/ingredient/BananaBread\n",
      "http://purl.org/heals/ingredient/BeefNilaga\n",
      "http://purl.org/heals/ingredient/BeefStew\n",
      "http://purl.org/heals/ingredient/BraisedBalsamicChicken\n",
      "http://purl.org/heals/ingredient/Brownies\n",
      "http://purl.org/heals/ingredient/ChickenSalad - pecan can be replaced\n",
      "http://purl.org/heals/ingredient/CornedBeefHash\n",
      "http://purl.org/heals/ingredient/FlourlessCoconutAndAlmondCake\n",
      "http://purl.org/heals/ingredient/GlutenFreeCoconutCake\n",
      "http://purl.org/heals/ingredient/GoldenKamutBread\n",
      "http://purl.org/heals/ingredient/GrilledChickenKabob\n",
      "http://purl.org/heals/ingredient/KamutMuffin\n",
      "http://purl.org/heals/ingredient/KamutPancake\n",
      "http://purl.org/heals/ingredient/PotRoastWithVegetables\n",
      "http://purl.org/heals/ingredient/SaucyShepherdPie\n",
      "http://purl.org/heals/ingredient/SmotheredChickenBreast\n",
      "http://purl.org/heals/ingredient/ThaiChicken\n",
      "http://purl.org/heals/ingredient/WhiteBread\n",
      "http://purl.org/heals/ingredient/WholeGrainBananaPancake\n",
      "22 recipes\n"
     ]
    }
   ],
   "source": [
    "# 5. another guest is allergic to pecan nuts, which recipes could you serve them (including those for which pecan nuts can be replaced)\n",
    "\n",
    "print(\"Recipes without pecan nuts, including the ones for which pecan nuts can be replaced:\")\n",
    "count_pecan = 0\n",
    "comment = \"\"\n",
    "\n",
    "for recipe, pred, obj in graph.triples((None, RDF.type, FOOD.Recipe)):\n",
    "    can_replaced = True\n",
    "    comment = \"\"\n",
    "    for subj, has_ing, ingredient in graph.triples((recipe,  FOOD.hasIngredient, None)):\n",
    "        if ingredient == INGREDIENT.Pecan:\n",
    "            if (None, FOOD.substitutesFor, ingredient) in graph:\n",
    "                comment = \" - pecan can be replaced\"\n",
    "                pass\n",
    "            else:\n",
    "                # print(f\"Pecan cannot be replaced in {recipe}\")\n",
    "                # print(\"\\n\")\n",
    "                can_replaced = False\n",
    "                break\n",
    "    if not can_replaced:\n",
    "        continue\n",
    "    print(f\"{recipe}{comment}\")\n",
    "    # print(\"\\n\")\n",
    "    count_pecan += 1\n",
    "\n",
    "print(f\"{count_pecan} recipes\")"
   ]
  },
  {
   "cell_type": "code",
   "execution_count": null,
   "metadata": {},
   "outputs": [],
   "source": []
  }
 ],
 "metadata": {
  "kernelspec": {
   "display_name": "Python 3 (ipykernel)",
   "language": "python",
   "name": "python3"
  },
  "language_info": {
   "codemirror_mode": {
    "name": "ipython",
    "version": 3
   },
   "file_extension": ".py",
   "mimetype": "text/x-python",
   "name": "python",
   "nbconvert_exporter": "python",
   "pygments_lexer": "ipython3",
   "version": "3.10.13"
  },
  "vscode": {
   "interpreter": {
    "hash": "aee8b7b246df8f9039afb4144a1f6fd8d2ca17a180786b69acc140d282b71a49"
   }
  }
 },
 "nbformat": 4,
 "nbformat_minor": 4
}
